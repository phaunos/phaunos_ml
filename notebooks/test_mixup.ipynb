{
 "cells": [
  {
   "cell_type": "code",
   "execution_count": 96,
   "metadata": {},
   "outputs": [
    {
     "name": "stdout",
     "output_type": "stream",
     "text": [
      "The autoreload extension is already loaded. To reload it, use:\n",
      "  %reload_ext autoreload\n"
     ]
    }
   ],
   "source": [
    "%load_ext autoreload\n",
    "%autoreload 2\n",
    "import numpy as np\n",
    "import tensorflow as tf\n",
    "from phaunos_ml.utils.dataug_utils import Mixup\n",
    "\n",
    "tf.enable_eager_execution()"
   ]
  },
  {
   "cell_type": "code",
   "execution_count": 112,
   "metadata": {},
   "outputs": [],
   "source": [
    "feat_size = 2\n",
    "batch_size = 3\n",
    "\n",
    "# Fake training data with 8 examples with shape (1,1,2) (NCHW format, i.e. channel_first)\n",
    "n_train = 8\n",
    "train_dataset = tf.data.Dataset.from_tensor_slices((np.random.rand(n_train, 1, 1, feat_size), \n",
    "                                                    np.random.choice([0,1], n_train)))\n",
    "train_dataset = train_dataset.repeat()\n",
    "train_dataset = train_dataset.batch(batch_size)\n",
    "\n",
    "# Fake augmentation data with 5 examples with shape (1,1,2) (NCHW format, i.e. channel_first)\n",
    "n_aug = 5\n",
    "aug_dataset = tf.data.Dataset.from_tensor_slices((np.random.rand(n_aug, 1, 1, feat_size), \n",
    "                                                  np.random.choice([0,1], n_aug)))\n",
    "aug_dataset = aug_dataset.repeat()\n",
    "aug_dataset = aug_dataset.batch(batch_size)\n",
    "\n",
    "dataset = tf.data.Dataset.zip((train_dataset, aug_dataset))"
   ]
  },
  {
   "cell_type": "code",
   "execution_count": 95,
   "metadata": {},
   "outputs": [
    {
     "data": {
      "text/plain": [
       "<tf.Tensor: id=679, shape=(3,), dtype=float64, numpy=array([0.69391787, 0.07863522, 0.0389924 ])>"
      ]
     },
     "execution_count": 95,
     "metadata": {},
     "output_type": "execute_result"
    }
   ],
   "source": [
    "w = tf.cast(tf.distributions.Uniform().sample(sample_shape=batch_size), tf.float64)\n",
    "w"
   ]
  },
  {
   "cell_type": "code",
   "execution_count": 113,
   "metadata": {},
   "outputs": [
    {
     "name": "stdout",
     "output_type": "stream",
     "text": [
      "Tensor(\"BroadcastTo:0\", shape=(3, 1, 1, 2), dtype=float64)\n",
      "Tensor(\"args_0:0\", shape=(?, 1, 1, 2), dtype=float64)\n",
      "Tensor(\"args_2:0\", shape=(?, 1, 1, 2), dtype=float64)\n"
     ]
    }
   ],
   "source": [
    "aug = Mixup()\n",
    "dataset = dataset.map(lambda dataset1, dataset2: aug.process(dataset1[0], dataset1[1], dataset2[0], dataset2[1], batch_size))"
   ]
  },
  {
   "cell_type": "code",
   "execution_count": 114,
   "metadata": {},
   "outputs": [
    {
     "name": "stdout",
     "output_type": "stream",
     "text": [
      "********************************\n",
      "tf.Tensor(\n",
      "[[[[0.77460851 0.7670947 ]]]\n",
      "\n",
      "\n",
      " [[[0.04232765 0.71883306]]]\n",
      "\n",
      "\n",
      " [[[0.69101746 0.51355938]]]], shape=(3, 1, 1, 2), dtype=float64)\n",
      "***\n",
      "tf.Tensor([ True False False], shape=(3,), dtype=bool)\n",
      "********************************\n",
      "tf.Tensor(\n",
      "[[[[0.37817771 0.67621061]]]\n",
      "\n",
      "\n",
      " [[[0.4203652  0.37905711]]]\n",
      "\n",
      "\n",
      " [[[0.62409657 0.1893447 ]]]], shape=(3, 1, 1, 2), dtype=float64)\n",
      "***\n",
      "tf.Tensor([ True  True  True], shape=(3,), dtype=bool)\n"
     ]
    }
   ],
   "source": [
    "count = 0\n",
    "for b, l in dataset:\n",
    "    if count > 1:\n",
    "        break\n",
    "    print(\"********************************\")\n",
    "    print(b)\n",
    "    print(\"***\")\n",
    "    print(l)\n",
    "    count += 1"
   ]
  },
  {
   "cell_type": "code",
   "execution_count": 7,
   "metadata": {},
   "outputs": [],
   "source": [
    "aug = Mixup()\n",
    "dataset = dataset.map(aug)"
   ]
  },
  {
   "cell_type": "code",
   "execution_count": 8,
   "metadata": {},
   "outputs": [
    {
     "name": "stdout",
     "output_type": "stream",
     "text": [
      "********************************\n",
      "Tensor(\"IteratorGetNext_3:0\", shape=(?, 1, 1, 2), dtype=float64)\n",
      "***\n",
      "Tensor(\"IteratorGetNext_3:1\", shape=(?,), dtype=int64)\n",
      "********************************\n",
      "Tensor(\"IteratorGetNext_4:0\", shape=(?, 1, 1, 2), dtype=float64)\n",
      "***\n",
      "Tensor(\"IteratorGetNext_4:1\", shape=(?,), dtype=int64)\n"
     ]
    }
   ],
   "source": [
    "count = 0\n",
    "for d in dataset:\n",
    "    if count > 1:\n",
    "        break\n",
    "    print(\"********************************\")\n",
    "    print(d[0])\n",
    "    print(\"***\")\n",
    "    print(d[1])\n",
    "    count += 1"
   ]
  },
  {
   "cell_type": "code",
   "execution_count": 19,
   "metadata": {},
   "outputs": [
    {
     "data": {
      "text/plain": [
       "<tf.Tensor: id=243, shape=(), dtype=float32, numpy=0.03947401>"
      ]
     },
     "execution_count": 19,
     "metadata": {},
     "output_type": "execute_result"
    }
   ],
   "source": [
    "tf.distributions.Uniform().sample()"
   ]
  },
  {
   "cell_type": "code",
   "execution_count": 16,
   "metadata": {},
   "outputs": [
    {
     "data": {
      "text/plain": [
       "<DatasetV1Adapter shapes: (((?, 1, 1, 2), (?,)), ((?, 1, 1, 2), (?,))), types: ((tf.float64, tf.int64), (tf.float64, tf.int64))>"
      ]
     },
     "execution_count": 16,
     "metadata": {},
     "output_type": "execute_result"
    }
   ],
   "source": [
    "dataset"
   ]
  },
  {
   "cell_type": "code",
   "execution_count": 84,
   "metadata": {},
   "outputs": [],
   "source": [
    "a = tf.constant([1,10])\n",
    "b = tf.constant([[[1,1,1],[1,1,1],[1,1,1]],[[1,1,1],[1,1,1],[1,1,1]]])"
   ]
  },
  {
   "cell_type": "code",
   "execution_count": 85,
   "metadata": {},
   "outputs": [],
   "source": [
    "a = tf.expand_dims(a, -1)\n",
    "a = tf.expand_dims(a, -1)\n",
    "a = tf.broadcast_to(a, (2,3,3))"
   ]
  },
  {
   "cell_type": "code",
   "execution_count": 86,
   "metadata": {},
   "outputs": [
    {
     "data": {
      "text/plain": [
       "<tf.Tensor: id=473, shape=(2, 3, 3), dtype=int32, numpy=\n",
       "array([[[ 1,  1,  1],\n",
       "        [ 1,  1,  1],\n",
       "        [ 1,  1,  1]],\n",
       "\n",
       "       [[10, 10, 10],\n",
       "        [10, 10, 10],\n",
       "        [10, 10, 10]]], dtype=int32)>"
      ]
     },
     "execution_count": 86,
     "metadata": {},
     "output_type": "execute_result"
    }
   ],
   "source": [
    "a"
   ]
  },
  {
   "cell_type": "code",
   "execution_count": 82,
   "metadata": {},
   "outputs": [],
   "source": [
    "a = tf.broadcast_to(tf.expand_dims(a, -1), (2,3,3))"
   ]
  },
  {
   "cell_type": "code",
   "execution_count": 88,
   "metadata": {},
   "outputs": [
    {
     "ename": "SyntaxError",
     "evalue": "can't use starred expression here (<ipython-input-88-1d8890052bee>, line 4)",
     "output_type": "error",
     "traceback": [
      "\u001b[0;36m  File \u001b[0;32m\"<ipython-input-88-1d8890052bee>\"\u001b[0;36m, line \u001b[0;32m4\u001b[0m\n\u001b[0;31mSyntaxError\u001b[0m\u001b[0;31m:\u001b[0m can't use starred expression here\n"
     ]
    }
   ],
   "source": [
    "tf.shape(a)"
   ]
  },
  {
   "cell_type": "code",
   "execution_count": 110,
   "metadata": {},
   "outputs": [
    {
     "data": {
      "text/plain": [
       "<tf.Tensor: id=1057, shape=(3,), dtype=int32, numpy=array([1, 0, 1], dtype=int32)>"
      ]
     },
     "execution_count": 110,
     "metadata": {},
     "output_type": "execute_result"
    }
   ],
   "source": [
    "tf.bitwise.bitwise_or([0,0,1],[1,0,1])"
   ]
  },
  {
   "cell_type": "code",
   "execution_count": null,
   "metadata": {},
   "outputs": [],
   "source": []
  }
 ],
 "metadata": {
  "kernelspec": {
   "display_name": "Python 3",
   "language": "python",
   "name": "python3"
  },
  "language_info": {
   "codemirror_mode": {
    "name": "ipython",
    "version": 3
   },
   "file_extension": ".py",
   "mimetype": "text/x-python",
   "name": "python",
   "nbconvert_exporter": "python",
   "pygments_lexer": "ipython3",
   "version": "3.6.8"
  }
 },
 "nbformat": 4,
 "nbformat_minor": 2
}
