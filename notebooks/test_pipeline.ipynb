{
 "cells": [
  {
   "cell_type": "code",
   "execution_count": 1,
   "metadata": {},
   "outputs": [],
   "source": [
    "%load_ext autoreload\n",
    "%autoreload 2"
   ]
  },
  {
   "cell_type": "code",
   "execution_count": 32,
   "metadata": {},
   "outputs": [
    {
     "name": "stderr",
     "output_type": "stream",
     "text": [
      "/home/jul/.miniconda3/envs/phaunos_ml/lib/python3.6/site-packages/tensorflow/python/client/session.py:1735: UserWarning: An interactive session is already active. This can cause out-of-memory errors in some cases. You must explicitly call `InteractiveSession.close()` to release resources held by the other session(s).\n",
      "  warnings.warn('An interactive session is already active. This can '\n"
     ]
    }
   ],
   "source": [
    "import os\n",
    "import json\n",
    "import random\n",
    "import numpy as np\n",
    "import tensorflow as tf\n",
    "from tensorflow.python.framework import dtypes\n",
    "import matplotlib.pyplot as plt\n",
    "\n",
    "from phaunos_ml.utils.dataset_utils import create_subset, dataset_stat_per_file, read_dataset_file\n",
    "from phaunos_ml.utils.dataug_utils import tfrecords2dataset_aug, tfrecords2tfdataset, mixup\n",
    "from phaunos_ml.utils.feature_utils import AudioSegmentExtractor\n",
    "#from phaunos_ml.utils.dataset_utils import dataset2tfrecords\n",
    "from phaunos_ml.utils import tf_utils\n",
    "from phaunos_ml.utils.tf_utils import serialized2data\n",
    "from nsb_aad.frame_based_detectors.mario_detector import MarioDetector\n",
    "\n",
    "tf.enable_eager_execution()\n",
    "\n",
    "config = tf.compat.v1.ConfigProto()\n",
    "config.gpu_options.allow_growth = True\n",
    "session = tf.compat.v1.InteractiveSession(config=config)"
   ]
  },
  {
   "cell_type": "code",
   "execution_count": 3,
   "metadata": {},
   "outputs": [],
   "source": [
    "ROOT_PATH = '/home/jul/data/xenocanto/'\n",
    "LABEL_FILENAME = '/home/jul/data/xenocanto/labels.csv'\n",
    "SUBSET_PATH = os.path.join(ROOT_PATH, 'custom_subsets')\n",
    "AUDIO_DIRNAME = 'audio/wav_22050hz_MLR'\n",
    "ANNOTATION_DIRNAME = 'annotations'"
   ]
  },
  {
   "cell_type": "code",
   "execution_count": 5,
   "metadata": {},
   "outputs": [
    {
     "name": "stdout",
     "output_type": "stream",
     "text": [
      "Classes: {60, 141}\n",
      "/home/jul/data/xenocanto/custom_subsets/subset_1570008079/subset_1570008079.csv\n"
     ]
    }
   ],
   "source": [
    "# create Xeno-Canto data subset with 5 randomly picked classes\n",
    "class_list = sorted([line.strip() for line in open(LABEL_FILENAME, 'r')])\n",
    "subset_label_set = set(np.random.choice(range(len(class_list)), 2, replace=False))\n",
    "print(f'Classes: {subset_label_set}')\n",
    "subset_filename = create_subset(\n",
    "    ROOT_PATH,\n",
    "    ['.'],\n",
    "    SUBSET_PATH,\n",
    "    audio_dirname=AUDIO_DIRNAME,\n",
    "    annotation_dirname=ANNOTATION_DIRNAME,\n",
    "    label_set=subset_label_set)\n",
    "print(subset_filename)"
   ]
  },
  {
   "cell_type": "code",
   "execution_count": 6,
   "metadata": {},
   "outputs": [
    {
     "name": "stderr",
     "output_type": "stream",
     "text": [
      "19it [00:00, 1085.04it/s]"
     ]
    },
    {
     "name": "stdout",
     "output_type": "stream",
     "text": [
      "Class index, number of files, total duration (in s)\n",
      " 60 (ardenna_pacifica), 10, 468.887\n",
      " 141 (coracias_garrulus), 9, 298.369\n"
     ]
    },
    {
     "name": "stderr",
     "output_type": "stream",
     "text": [
      "\n"
     ]
    }
   ],
   "source": [
    "# Show dataset stats\n",
    "# Note: The total number of instances might be higher than the number of audio files because a file might have multiple labels\n",
    "d_num, d_dur = dataset_stat_per_file(ROOT_PATH, subset_filename)\n",
    "print(\"Class index, number of files, total duration (in s)\") \n",
    "for k, v in sorted(d_num.items()): \n",
    "    print(f' {k} ({class_list[k]}), {v}, {d_dur[k]:<.3f}')"
   ]
  },
  {
   "cell_type": "code",
   "execution_count": 7,
   "metadata": {},
   "outputs": [
    {
     "data": {
      "text/plain": [
       "{'sample_rate': 22050,\n",
       " 'win_length': 512,\n",
       " 'hop_length': 128,\n",
       " 'min_freq': 200,\n",
       " 'max_freq': 11025,\n",
       " 'clipping_threshold': 3,\n",
       " 'opening_kernel_shape': [2, 3],\n",
       " 'median_filter_shape': 10}"
      ]
     },
     "execution_count": 7,
     "metadata": {},
     "output_type": "execute_result"
    }
   ],
   "source": [
    "# configure activity detector\n",
    "config_file_mario = '/home/jul/dev/nature_sound_box/nsb_aad/configs/mario.json'\n",
    "config_mario = json.load(open(config_file_mario, 'r'))\n",
    "mario_detector = MarioDetector(config_mario)\n",
    "config_mario"
   ]
  },
  {
   "cell_type": "code",
   "execution_count": 8,
   "metadata": {},
   "outputs": [],
   "source": [
    "# configure audio segment extractor\n",
    "sr = 22050\n",
    "segment_dur = 1\n",
    "segment_hop_dur = 1\n",
    "audio_ex = AudioSegmentExtractor(sr=sr, example_duration=segment_dur, example_hop_duration=segment_hop_dur)"
   ]
  },
  {
   "cell_type": "code",
   "execution_count": 9,
   "metadata": {},
   "outputs": [
    {
     "name": "stderr",
     "output_type": "stream",
     "text": [
      "100%|██████████| 20/20 [00:05<00:00,  2.93it/s]\n"
     ]
    }
   ],
   "source": [
    "# generate feature\n",
    "from phaunos_ml.utils.dataset_utils import dataset2tfrecords\n",
    "tfrecord_path = os.path.join(os.path.dirname(subset_filename), 'features')\n",
    "dataset2tfrecords(ROOT_PATH,                  \n",
    "                  subset_filename,\n",
    "                  tfrecord_path,\n",
    "                  feature_extractor=audio_ex,\n",
    "                  activity_detector=mario_detector,\n",
    "                  min_activity_dur=0.04,                  \n",
    "                  audio_dirname=AUDIO_DIRNAME,\n",
    "                  annotation_dirname=ANNOTATION_DIRNAME\n",
    "                 )"
   ]
  },
  {
   "cell_type": "code",
   "execution_count": 10,
   "metadata": {},
   "outputs": [
    {
     "name": "stderr",
     "output_type": "stream",
     "text": [
      "WARNING: Logging before flag parsing goes to stderr.\n",
      "W1002 11:23:42.366763 140554214725440 deprecation.py:323] From /home/jul/dev/phaunos_ml/phaunos_ml/utils/tf_utils.py:44: DatasetV1.make_one_shot_iterator (from tensorflow.python.data.ops.dataset_ops) is deprecated and will be removed in a future version.\n",
      "Instructions for updating:\n",
      "Use `for ... in dataset:` to iterate over a dataset. If using `tf.estimator`, return the `Dataset` object directly from your input function. As a last resort, you can use `tf.compat.v1.data.make_one_shot_iterator(dataset)`.\n"
     ]
    }
   ],
   "source": [
    "# check some examples\n",
    "example_filenames = random.sample(os.listdir(os.path.join(tfrecord_path, 'positive', AUDIO_DIRNAME)), 2)\n",
    "example1 = tf_utils.tfrecord2example(os.path.join(tfrecord_path, 'positive', AUDIO_DIRNAME, example_filenames[0]), audio_ex)\n",
    "example2 = tf_utils.tfrecord2example(os.path.join(tfrecord_path, 'positive', AUDIO_DIRNAME, example_filenames[1]), audio_ex)"
   ]
  },
  {
   "cell_type": "code",
   "execution_count": 11,
   "metadata": {},
   "outputs": [
    {
     "data": {
      "text/plain": [
       "[<matplotlib.lines.Line2D at 0x7fd4c4787e80>]"
      ]
     },
     "execution_count": 11,
     "metadata": {},
     "output_type": "execute_result"
    },
    {
     "data": {
      "image/png": "[encoded data removed]",
      "text/plain": [
       "<Figure size 432x288 with 1 Axes>"
      ]
     },
     "metadata": {
      "needs_background": "light"
     },
     "output_type": "display_data"
    }
   ],
   "source": [
    "audio_ex.plot(example1[0]['data'][0])"
   ]
  },
  {
   "cell_type": "code",
   "execution_count": 12,
   "metadata": {},
   "outputs": [
    {
     "data": {
      "text/plain": [
       "[{'data': <tf.Tensor: id=99, shape=(1, 22050), dtype=float32, numpy=\n",
       "  array([[-1.5258789e-04,  9.1552734e-04,  1.6479492e-03, ...,\n",
       "          -1.2881470e-01, -1.6336060e-01, -1.2707520e-01]], dtype=float32)>,\n",
       "  'filename': <tf.Tensor: id=100, shape=(), dtype=string, numpy=b'audio/wav_22050hz_MLR/XC380944.R.tf'>,\n",
       "  'labels': <tf.Tensor: id=101, shape=(), dtype=string, numpy=b'141'>,\n",
       "  'times': <tf.Tensor: id=102, shape=(2,), dtype=float32, numpy=array([0.        , 0.99995464], dtype=float32)>},\n",
       " {'data': <tf.Tensor: id=103, shape=(1, 22050), dtype=float32, numpy=\n",
       "  array([[-0.05209351,  0.02105713,  0.06646729, ..., -0.00491333,\n",
       "          -0.00845337, -0.00512695]], dtype=float32)>,\n",
       "  'filename': <tf.Tensor: id=104, shape=(), dtype=string, numpy=b'audio/wav_22050hz_MLR/XC380944.R.tf'>,\n",
       "  'labels': <tf.Tensor: id=105, shape=(), dtype=string, numpy=b'141'>,\n",
       "  'times': <tf.Tensor: id=106, shape=(2,), dtype=float32, numpy=array([1.       , 1.9999547], dtype=float32)>},\n",
       " {'data': <tf.Tensor: id=107, shape=(1, 22050), dtype=float32, numpy=\n",
       "  array([[ 0.00180054,  0.01086426,  0.02041626, ..., -0.05065918,\n",
       "          -0.00579834,  0.03756714]], dtype=float32)>,\n",
       "  'filename': <tf.Tensor: id=108, shape=(), dtype=string, numpy=b'audio/wav_22050hz_MLR/XC380944.R.tf'>,\n",
       "  'labels': <tf.Tensor: id=109, shape=(), dtype=string, numpy=b'141'>,\n",
       "  'times': <tf.Tensor: id=110, shape=(2,), dtype=float32, numpy=array([2.       , 2.9999547], dtype=float32)>},\n",
       " {'data': <tf.Tensor: id=111, shape=(1, 22050), dtype=float32, numpy=\n",
       "  array([[0.06506348, 0.06930542, 0.05108643, ..., 0.00170898, 0.01095581,\n",
       "          0.01559448]], dtype=float32)>,\n",
       "  'filename': <tf.Tensor: id=112, shape=(), dtype=string, numpy=b'audio/wav_22050hz_MLR/XC380944.R.tf'>,\n",
       "  'labels': <tf.Tensor: id=113, shape=(), dtype=string, numpy=b'141'>,\n",
       "  'times': <tf.Tensor: id=114, shape=(2,), dtype=float32, numpy=array([3.       , 3.9999547], dtype=float32)>},\n",
       " {'data': <tf.Tensor: id=115, shape=(1, 22050), dtype=float32, numpy=\n",
       "  array([[ 0.01333618,  0.00509644, -0.00546265, ...,  0.02172852,\n",
       "           0.02697754,  0.02862549]], dtype=float32)>,\n",
       "  'filename': <tf.Tensor: id=116, shape=(), dtype=string, numpy=b'audio/wav_22050hz_MLR/XC380944.R.tf'>,\n",
       "  'labels': <tf.Tensor: id=117, shape=(), dtype=string, numpy=b'141'>,\n",
       "  'times': <tf.Tensor: id=118, shape=(2,), dtype=float32, numpy=array([4.       , 4.9999547], dtype=float32)>},\n",
       " {'data': <tf.Tensor: id=119, shape=(1, 22050), dtype=float32, numpy=\n",
       "  array([[ 0.02243042,  0.00772095, -0.0112915 , ..., -0.01037598,\n",
       "          -0.01190186, -0.00662231]], dtype=float32)>,\n",
       "  'filename': <tf.Tensor: id=120, shape=(), dtype=string, numpy=b'audio/wav_22050hz_MLR/XC380944.R.tf'>,\n",
       "  'labels': <tf.Tensor: id=121, shape=(), dtype=string, numpy=b'141'>,\n",
       "  'times': <tf.Tensor: id=122, shape=(2,), dtype=float32, numpy=array([5.       , 5.9999547], dtype=float32)>},\n",
       " {'data': <tf.Tensor: id=123, shape=(1, 22050), dtype=float32, numpy=\n",
       "  array([[-0.00036621, -0.00180054, -0.00213623, ...,  0.01263428,\n",
       "           0.01754761,  0.00918579]], dtype=float32)>,\n",
       "  'filename': <tf.Tensor: id=124, shape=(), dtype=string, numpy=b'audio/wav_22050hz_MLR/XC380944.R.tf'>,\n",
       "  'labels': <tf.Tensor: id=125, shape=(), dtype=string, numpy=b'141'>,\n",
       "  'times': <tf.Tensor: id=126, shape=(2,), dtype=float32, numpy=array([7.       , 7.9999547], dtype=float32)>},\n",
       " {'data': <tf.Tensor: id=127, shape=(1, 22050), dtype=float32, numpy=\n",
       "  array([[-0.00585938, -0.01669312, -0.01727295, ..., -0.00308228,\n",
       "          -0.01348877, -0.01123047]], dtype=float32)>,\n",
       "  'filename': <tf.Tensor: id=128, shape=(), dtype=string, numpy=b'audio/wav_22050hz_MLR/XC380944.R.tf'>,\n",
       "  'labels': <tf.Tensor: id=129, shape=(), dtype=string, numpy=b'141'>,\n",
       "  'times': <tf.Tensor: id=130, shape=(2,), dtype=float32, numpy=array([8.      , 8.999954], dtype=float32)>},\n",
       " {'data': <tf.Tensor: id=131, shape=(1, 22050), dtype=float32, numpy=\n",
       "  array([[ 0.00360107,  0.01989746,  0.02233887, ..., -0.00054932,\n",
       "          -0.00305176, -0.00323486]], dtype=float32)>,\n",
       "  'filename': <tf.Tensor: id=132, shape=(), dtype=string, numpy=b'audio/wav_22050hz_MLR/XC380944.R.tf'>,\n",
       "  'labels': <tf.Tensor: id=133, shape=(), dtype=string, numpy=b'141'>,\n",
       "  'times': <tf.Tensor: id=134, shape=(2,), dtype=float32, numpy=array([9.      , 9.999954], dtype=float32)>},\n",
       " {'data': <tf.Tensor: id=135, shape=(1, 22050), dtype=float32, numpy=\n",
       "  array([[-0.00161743, -0.00012207,  0.00109863, ..., -0.00411987,\n",
       "           0.01831055,  0.03186035]], dtype=float32)>,\n",
       "  'filename': <tf.Tensor: id=136, shape=(), dtype=string, numpy=b'audio/wav_22050hz_MLR/XC380944.R.tf'>,\n",
       "  'labels': <tf.Tensor: id=137, shape=(), dtype=string, numpy=b'141'>,\n",
       "  'times': <tf.Tensor: id=138, shape=(2,), dtype=float32, numpy=array([10.      , 10.999954], dtype=float32)>},\n",
       " {'data': <tf.Tensor: id=139, shape=(1, 22050), dtype=float32, numpy=\n",
       "  array([[ 0.02853394,  0.00814819, -0.01782227, ...,  0.00338745,\n",
       "          -0.00259399, -0.00601196]], dtype=float32)>,\n",
       "  'filename': <tf.Tensor: id=140, shape=(), dtype=string, numpy=b'audio/wav_22050hz_MLR/XC380944.R.tf'>,\n",
       "  'labels': <tf.Tensor: id=141, shape=(), dtype=string, numpy=b'141'>,\n",
       "  'times': <tf.Tensor: id=142, shape=(2,), dtype=float32, numpy=array([11.      , 11.999954], dtype=float32)>},\n",
       " {'data': <tf.Tensor: id=143, shape=(1, 22050), dtype=float32, numpy=\n",
       "  array([[-0.00613403, -0.00311279,  0.00238037, ..., -0.03115845,\n",
       "          -0.01586914,  0.00613403]], dtype=float32)>,\n",
       "  'filename': <tf.Tensor: id=144, shape=(), dtype=string, numpy=b'audio/wav_22050hz_MLR/XC380944.R.tf'>,\n",
       "  'labels': <tf.Tensor: id=145, shape=(), dtype=string, numpy=b'141'>,\n",
       "  'times': <tf.Tensor: id=146, shape=(2,), dtype=float32, numpy=array([12.      , 12.999954], dtype=float32)>},\n",
       " {'data': <tf.Tensor: id=147, shape=(1, 22050), dtype=float32, numpy=\n",
       "  array([[ 0.02700806,  0.03967285,  0.04034424, ..., -0.04769897,\n",
       "          -0.05010986, -0.02804565]], dtype=float32)>,\n",
       "  'filename': <tf.Tensor: id=148, shape=(), dtype=string, numpy=b'audio/wav_22050hz_MLR/XC380944.R.tf'>,\n",
       "  'labels': <tf.Tensor: id=149, shape=(), dtype=string, numpy=b'141'>,\n",
       "  'times': <tf.Tensor: id=150, shape=(2,), dtype=float32, numpy=array([13.      , 13.999954], dtype=float32)>},\n",
       " {'data': <tf.Tensor: id=151, shape=(1, 22050), dtype=float32, numpy=\n",
       "  array([[ 0.00531006,  0.03262329,  0.04049683, ..., -0.12713623,\n",
       "          -0.0668335 ,  0.01629639]], dtype=float32)>,\n",
       "  'filename': <tf.Tensor: id=152, shape=(), dtype=string, numpy=b'audio/wav_22050hz_MLR/XC380944.R.tf'>,\n",
       "  'labels': <tf.Tensor: id=153, shape=(), dtype=string, numpy=b'141'>,\n",
       "  'times': <tf.Tensor: id=154, shape=(2,), dtype=float32, numpy=array([14.      , 14.999954], dtype=float32)>},\n",
       " {'data': <tf.Tensor: id=155, shape=(1, 22050), dtype=float32, numpy=\n",
       "  array([[ 0.08251953,  0.10211182,  0.07327271, ..., -0.01376343,\n",
       "          -0.0319519 , -0.04214478]], dtype=float32)>,\n",
       "  'filename': <tf.Tensor: id=156, shape=(), dtype=string, numpy=b'audio/wav_22050hz_MLR/XC380944.R.tf'>,\n",
       "  'labels': <tf.Tensor: id=157, shape=(), dtype=string, numpy=b'141'>,\n",
       "  'times': <tf.Tensor: id=158, shape=(2,), dtype=float32, numpy=array([15.      , 15.999954], dtype=float32)>},\n",
       " {'data': <tf.Tensor: id=159, shape=(1, 22050), dtype=float32, numpy=\n",
       "  array([[-0.0430603 , -0.03399658, -0.01821899, ..., -0.0776062 ,\n",
       "           0.04684448,  0.13723755]], dtype=float32)>,\n",
       "  'filename': <tf.Tensor: id=160, shape=(), dtype=string, numpy=b'audio/wav_22050hz_MLR/XC380944.R.tf'>,\n",
       "  'labels': <tf.Tensor: id=161, shape=(), dtype=string, numpy=b'141'>,\n",
       "  'times': <tf.Tensor: id=162, shape=(2,), dtype=float32, numpy=array([16.      , 16.999954], dtype=float32)>},\n",
       " {'data': <tf.Tensor: id=163, shape=(1, 22050), dtype=float32, numpy=\n",
       "  array([[ 0.14691162,  0.07559204, -0.03399658, ..., -0.03500366,\n",
       "          -0.01263428,  0.01571655]], dtype=float32)>,\n",
       "  'filename': <tf.Tensor: id=164, shape=(), dtype=string, numpy=b'audio/wav_22050hz_MLR/XC380944.R.tf'>,\n",
       "  'labels': <tf.Tensor: id=165, shape=(), dtype=string, numpy=b'141'>,\n",
       "  'times': <tf.Tensor: id=166, shape=(2,), dtype=float32, numpy=array([17.      , 17.999954], dtype=float32)>},\n",
       " {'data': <tf.Tensor: id=167, shape=(1, 22050), dtype=float32, numpy=\n",
       "  array([[0.03295898, 0.02954102, 0.00894165, ..., 0.00830078, 0.00747681,\n",
       "          0.00085449]], dtype=float32)>,\n",
       "  'filename': <tf.Tensor: id=168, shape=(), dtype=string, numpy=b'audio/wav_22050hz_MLR/XC380944.R.tf'>,\n",
       "  'labels': <tf.Tensor: id=169, shape=(), dtype=string, numpy=b'141'>,\n",
       "  'times': <tf.Tensor: id=170, shape=(2,), dtype=float32, numpy=array([18.      , 18.999954], dtype=float32)>},\n",
       " {'data': <tf.Tensor: id=171, shape=(1, 22050), dtype=float32, numpy=\n",
       "  array([[-0.00775146, -0.01318359, -0.01263428, ...,  0.00311279,\n",
       "          -0.00570679, -0.0112915 ]], dtype=float32)>,\n",
       "  'filename': <tf.Tensor: id=172, shape=(), dtype=string, numpy=b'audio/wav_22050hz_MLR/XC380944.R.tf'>,\n",
       "  'labels': <tf.Tensor: id=173, shape=(), dtype=string, numpy=b'141'>,\n",
       "  'times': <tf.Tensor: id=174, shape=(2,), dtype=float32, numpy=array([19.      , 19.999954], dtype=float32)>},\n",
       " {'data': <tf.Tensor: id=175, shape=(1, 22050), dtype=float32, numpy=\n",
       "  array([[-0.01174927, -0.00592041,  0.00357056, ...,  0.06375122,\n",
       "           0.0512085 ,  0.02230835]], dtype=float32)>,\n",
       "  'filename': <tf.Tensor: id=176, shape=(), dtype=string, numpy=b'audio/wav_22050hz_MLR/XC380944.R.tf'>,\n",
       "  'labels': <tf.Tensor: id=177, shape=(), dtype=string, numpy=b'141'>,\n",
       "  'times': <tf.Tensor: id=178, shape=(2,), dtype=float32, numpy=array([20.      , 20.999954], dtype=float32)>},\n",
       " {'data': <tf.Tensor: id=179, shape=(1, 22050), dtype=float32, numpy=\n",
       "  array([[-0.01541138, -0.05056763, -0.07122803, ...,  0.02612305,\n",
       "           0.02206421,  0.00540161]], dtype=float32)>,\n",
       "  'filename': <tf.Tensor: id=180, shape=(), dtype=string, numpy=b'audio/wav_22050hz_MLR/XC380944.R.tf'>,\n",
       "  'labels': <tf.Tensor: id=181, shape=(), dtype=string, numpy=b'141'>,\n",
       "  'times': <tf.Tensor: id=182, shape=(2,), dtype=float32, numpy=array([21.      , 21.999954], dtype=float32)>},\n",
       " {'data': <tf.Tensor: id=183, shape=(1, 22050), dtype=float32, numpy=\n",
       "  array([[-0.01583862, -0.03063965, -0.03262329, ..., -0.0067749 ,\n",
       "          -0.04473877, -0.05761719]], dtype=float32)>,\n",
       "  'filename': <tf.Tensor: id=184, shape=(), dtype=string, numpy=b'audio/wav_22050hz_MLR/XC380944.R.tf'>,\n",
       "  'labels': <tf.Tensor: id=185, shape=(), dtype=string, numpy=b'141'>,\n",
       "  'times': <tf.Tensor: id=186, shape=(2,), dtype=float32, numpy=array([22.      , 22.999954], dtype=float32)>},\n",
       " {'data': <tf.Tensor: id=187, shape=(1, 22050), dtype=float32, numpy=\n",
       "  array([[-0.03979492, -0.00256348,  0.03329468, ...,  0.07592773,\n",
       "           0.08917236,  0.06924438]], dtype=float32)>,\n",
       "  'filename': <tf.Tensor: id=188, shape=(), dtype=string, numpy=b'audio/wav_22050hz_MLR/XC380944.R.tf'>,\n",
       "  'labels': <tf.Tensor: id=189, shape=(), dtype=string, numpy=b'141'>,\n",
       "  'times': <tf.Tensor: id=190, shape=(2,), dtype=float32, numpy=array([23.      , 23.999954], dtype=float32)>},\n",
       " {'data': <tf.Tensor: id=191, shape=(1, 22050), dtype=float32, numpy=\n",
       "  array([[ 0.02160645, -0.03637695, -0.08255005, ..., -0.02682495,\n",
       "          -0.06271362, -0.07000732]], dtype=float32)>,\n",
       "  'filename': <tf.Tensor: id=192, shape=(), dtype=string, numpy=b'audio/wav_22050hz_MLR/XC380944.R.tf'>,\n",
       "  'labels': <tf.Tensor: id=193, shape=(), dtype=string, numpy=b'141'>,\n",
       "  'times': <tf.Tensor: id=194, shape=(2,), dtype=float32, numpy=array([24.      , 24.999954], dtype=float32)>},\n",
       " {'data': <tf.Tensor: id=195, shape=(1, 22050), dtype=float32, numpy=\n",
       "  array([[-0.04846191, -0.00949097,  0.03012085, ...,  0.02450562,\n",
       "           0.0112915 , -0.00418091]], dtype=float32)>,\n",
       "  'filename': <tf.Tensor: id=196, shape=(), dtype=string, numpy=b'audio/wav_22050hz_MLR/XC380944.R.tf'>,\n",
       "  'labels': <tf.Tensor: id=197, shape=(), dtype=string, numpy=b'141'>,\n",
       "  'times': <tf.Tensor: id=198, shape=(2,), dtype=float32, numpy=array([25.      , 25.999954], dtype=float32)>},\n",
       " {'data': <tf.Tensor: id=199, shape=(1, 22050), dtype=float32, numpy=\n",
       "  array([[-0.01190186, -0.01086426, -0.00610352, ...,  0.04745483,\n",
       "           0.04660034,  0.02120972]], dtype=float32)>,\n",
       "  'filename': <tf.Tensor: id=200, shape=(), dtype=string, numpy=b'audio/wav_22050hz_MLR/XC380944.R.tf'>,\n",
       "  'labels': <tf.Tensor: id=201, shape=(), dtype=string, numpy=b'141'>,\n",
       "  'times': <tf.Tensor: id=202, shape=(2,), dtype=float32, numpy=array([26.      , 26.999954], dtype=float32)>},\n",
       " {'data': <tf.Tensor: id=203, shape=(1, 22050), dtype=float32, numpy=\n",
       "  array([[-0.01483154, -0.04190063, -0.04351807, ..., -0.00393677,\n",
       "           0.01403809,  0.01956177]], dtype=float32)>,\n",
       "  'filename': <tf.Tensor: id=204, shape=(), dtype=string, numpy=b'audio/wav_22050hz_MLR/XC380944.R.tf'>,\n",
       "  'labels': <tf.Tensor: id=205, shape=(), dtype=string, numpy=b'141'>,\n",
       "  'times': <tf.Tensor: id=206, shape=(2,), dtype=float32, numpy=array([27.      , 27.999954], dtype=float32)>},\n",
       " {'data': <tf.Tensor: id=207, shape=(1, 22050), dtype=float32, numpy=\n",
       "  array([[ 0.01004028, -0.00350952, -0.00921631, ...,  0.03231812,\n",
       "           0.0296936 ,  0.01141357]], dtype=float32)>,\n",
       "  'filename': <tf.Tensor: id=208, shape=(), dtype=string, numpy=b'audio/wav_22050hz_MLR/XC380944.R.tf'>,\n",
       "  'labels': <tf.Tensor: id=209, shape=(), dtype=string, numpy=b'141'>,\n",
       "  'times': <tf.Tensor: id=210, shape=(2,), dtype=float32, numpy=array([28.      , 28.999954], dtype=float32)>},\n",
       " {'data': <tf.Tensor: id=211, shape=(1, 22050), dtype=float32, numpy=\n",
       "  array([[-0.01245117, -0.0295105 , -0.03070068, ..., -0.01446533,\n",
       "           0.00128174,  0.02041626]], dtype=float32)>,\n",
       "  'filename': <tf.Tensor: id=212, shape=(), dtype=string, numpy=b'audio/wav_22050hz_MLR/XC380944.R.tf'>,\n",
       "  'labels': <tf.Tensor: id=213, shape=(), dtype=string, numpy=b'141'>,\n",
       "  'times': <tf.Tensor: id=214, shape=(2,), dtype=float32, numpy=array([29.      , 29.999954], dtype=float32)>},\n",
       " {'data': <tf.Tensor: id=215, shape=(1, 22050), dtype=float32, numpy=\n",
       "  array([[ 0.02560425,  0.00970459, -0.01843262, ...,  0.14120483,\n",
       "           0.13287354,  0.06933594]], dtype=float32)>,\n",
       "  'filename': <tf.Tensor: id=216, shape=(), dtype=string, numpy=b'audio/wav_22050hz_MLR/XC380944.R.tf'>,\n",
       "  'labels': <tf.Tensor: id=217, shape=(), dtype=string, numpy=b'141'>,\n",
       "  'times': <tf.Tensor: id=218, shape=(2,), dtype=float32, numpy=array([30.      , 30.999954], dtype=float32)>},\n",
       " {'data': <tf.Tensor: id=219, shape=(1, 22050), dtype=float32, numpy=\n",
       "  array([[-0.02770996, -0.12039185, -0.17019653, ..., -0.00213623,\n",
       "           0.00167847,  0.00619507]], dtype=float32)>,\n",
       "  'filename': <tf.Tensor: id=220, shape=(), dtype=string, numpy=b'audio/wav_22050hz_MLR/XC380944.R.tf'>,\n",
       "  'labels': <tf.Tensor: id=221, shape=(), dtype=string, numpy=b'141'>,\n",
       "  'times': <tf.Tensor: id=222, shape=(2,), dtype=float32, numpy=array([31.      , 31.999954], dtype=float32)>},\n",
       " {'data': <tf.Tensor: id=223, shape=(1, 22050), dtype=float32, numpy=\n",
       "  array([[0.00964355, 0.0098877 , 0.0038147 , ..., 0.00164795, 0.00094604,\n",
       "          0.00048828]], dtype=float32)>,\n",
       "  'filename': <tf.Tensor: id=224, shape=(), dtype=string, numpy=b'audio/wav_22050hz_MLR/XC380944.R.tf'>,\n",
       "  'labels': <tf.Tensor: id=225, shape=(), dtype=string, numpy=b'141'>,\n",
       "  'times': <tf.Tensor: id=226, shape=(2,), dtype=float32, numpy=array([32.      , 32.999954], dtype=float32)>},\n",
       " {'data': <tf.Tensor: id=227, shape=(1, 22050), dtype=float32, numpy=\n",
       "  array([[ 0.00228882,  0.00292969,  0.00064087, ...,  0.02011108,\n",
       "          -0.00863647, -0.03894043]], dtype=float32)>,\n",
       "  'filename': <tf.Tensor: id=228, shape=(), dtype=string, numpy=b'audio/wav_22050hz_MLR/XC380944.R.tf'>,\n",
       "  'labels': <tf.Tensor: id=229, shape=(), dtype=string, numpy=b'141'>,\n",
       "  'times': <tf.Tensor: id=230, shape=(2,), dtype=float32, numpy=array([33.      , 33.999954], dtype=float32)>}]"
      ]
     },
     "execution_count": 12,
     "metadata": {},
     "output_type": "execute_result"
    }
   ],
   "source": [
    "example2"
   ]
  },
  {
   "cell_type": "code",
   "execution_count": 13,
   "metadata": {},
   "outputs": [],
   "source": [
    "# get training and augmentation files lists\n",
    "train_files, train_labels = read_dataset_file(\n",
    "    subset_filename,\n",
    "    prepend_path=os.path.join(tfrecord_path, 'positive'),\n",
    "    replace_ext='.tf')\n",
    "aug_files, aug_labels = read_dataset_file(\n",
    "    subset_filename,\n",
    "    prepend_path=os.path.join(tfrecord_path, 'negative'),\n",
    "    replace_ext='.tf')"
   ]
  },
  {
   "cell_type": "code",
   "execution_count": 15,
   "metadata": {},
   "outputs": [
    {
     "name": "stdout",
     "output_type": "stream",
     "text": [
      "/home/jul/data/xenocanto/custom_subsets/subset_1570008079/features/positive/audio/wav_22050hz_MLR/XC137486.R.tf, {141}\n"
     ]
    }
   ],
   "source": [
    "print(f'{train_files[3]}, {train_labels[3]}')"
   ]
  },
  {
   "cell_type": "code",
   "execution_count": 17,
   "metadata": {},
   "outputs": [
    {
     "name": "stdout",
     "output_type": "stream",
     "text": [
      "/home/jul/data/xenocanto/custom_subsets/subset_1570008079/features/negative/audio/wav_22050hz_MLR/XC303133.M.tf, {60}\n"
     ]
    }
   ],
   "source": [
    "print(f'{aug_files[5]}, {aug_labels[5]}')"
   ]
  },
  {
   "cell_type": "code",
   "execution_count": 18,
   "metadata": {},
   "outputs": [
    {
     "data": {
      "text/plain": [
       "[60, 141]"
      ]
     },
     "execution_count": 18,
     "metadata": {},
     "output_type": "execute_result"
    }
   ],
   "source": [
    "class_list = sorted(list(set.union(*train_labels)))\n",
    "class_list"
   ]
  },
  {
   "cell_type": "code",
   "execution_count": 36,
   "metadata": {},
   "outputs": [],
   "source": [
    "# map to dataset\n",
    "tf_train_files = tf.convert_to_tensor(train_files, dtype=dtypes.string)"
   ]
  },
  {
   "cell_type": "code",
   "execution_count": 37,
   "metadata": {},
   "outputs": [],
   "source": [
    "tf_train_files = tf.data.Dataset.from_tensor_slices(tf_train_files)"
   ]
  },
  {
   "cell_type": "code",
   "execution_count": 55,
   "metadata": {},
   "outputs": [],
   "source": [
    "dataset = tf_train_files.interleave(lambda x: tf.data.TFRecordDataset(x), cycle_length=8)"
   ]
  },
  {
   "cell_type": "code",
   "execution_count": 56,
   "metadata": {},
   "outputs": [
    {
     "data": {
      "text/plain": [
       "<DatasetV1Adapter shapes: (), types: tf.string>"
      ]
     },
     "execution_count": 56,
     "metadata": {},
     "output_type": "execute_result"
    }
   ],
   "source": [
    "dataset"
   ]
  },
  {
   "cell_type": "code",
   "execution_count": 57,
   "metadata": {},
   "outputs": [
    {
     "data": {
      "text/plain": [
       "<DatasetV1Adapter shapes: ((1, 1, 22050), (2,), (), (2,)), types: (tf.float32, tf.float32, tf.string, tf.float32)>"
      ]
     },
     "execution_count": 57,
     "metadata": {},
     "output_type": "execute_result"
    }
   ],
   "source": [
    "dataset = dataset.map(lambda x: serialized2data(x, audio_ex.feature_shape, class_list, training=False))\n",
    "dataset"
   ]
  },
  {
   "cell_type": "code",
   "execution_count": 58,
   "metadata": {},
   "outputs": [],
   "source": [
    "dataset_aug = tf.data.TFRecordDataset(aug_files)"
   ]
  },
  {
   "cell_type": "code",
   "execution_count": 59,
   "metadata": {},
   "outputs": [
    {
     "data": {
      "text/plain": [
       "<TFRecordDatasetV1 shapes: (), types: tf.string>"
      ]
     },
     "execution_count": 59,
     "metadata": {},
     "output_type": "execute_result"
    }
   ],
   "source": [
    "dataset_aug"
   ]
  },
  {
   "cell_type": "code",
   "execution_count": 60,
   "metadata": {},
   "outputs": [],
   "source": [
    "dataset_aug = dataset_aug.map(lambda x: serialized2data(x, audio_ex.feature_shape, class_list, training=True))"
   ]
  },
  {
   "cell_type": "code",
   "execution_count": 61,
   "metadata": {},
   "outputs": [
    {
     "ename": "TypeError",
     "evalue": "<lambda>() takes 2 positional arguments but 4 were given",
     "output_type": "error",
     "traceback": [
      "\u001b[0;31m---------------------------------------------------------------------------\u001b[0m",
      "\u001b[0;31mTypeError\u001b[0m                                 Traceback (most recent call last)",
      "\u001b[0;32m<ipython-input-61-13c198834b41>\u001b[0m in \u001b[0;36m<module>\u001b[0;34m\u001b[0m\n\u001b[0;32m----> 1\u001b[0;31m \u001b[0mdataset\u001b[0m \u001b[0;34m=\u001b[0m \u001b[0mdataset\u001b[0m\u001b[0;34m.\u001b[0m\u001b[0mmap\u001b[0m\u001b[0;34m(\u001b[0m\u001b[0;32mlambda\u001b[0m \u001b[0mfeat\u001b[0m\u001b[0;34m,\u001b[0m \u001b[0mlabels\u001b[0m\u001b[0;34m:\u001b[0m \u001b[0;34m(\u001b[0m\u001b[0mfeat\u001b[0m\u001b[0;34m,\u001b[0m \u001b[0mlabels\u001b[0m\u001b[0;34m)\u001b[0m\u001b[0;34m)\u001b[0m\u001b[0;34m\u001b[0m\u001b[0;34m\u001b[0m\u001b[0m\n\u001b[0m",
      "\u001b[0;32m~/.miniconda3/envs/phaunos_ml/lib/python3.6/site-packages/tensorflow/python/data/ops/dataset_ops.py\u001b[0m in \u001b[0;36mmap\u001b[0;34m(self, map_func, num_parallel_calls)\u001b[0m\n\u001b[1;32m   1770\u001b[0m     \u001b[0;32mif\u001b[0m \u001b[0mnum_parallel_calls\u001b[0m \u001b[0;32mis\u001b[0m \u001b[0;32mNone\u001b[0m\u001b[0;34m:\u001b[0m\u001b[0;34m\u001b[0m\u001b[0;34m\u001b[0m\u001b[0m\n\u001b[1;32m   1771\u001b[0m       return DatasetV1Adapter(\n\u001b[0;32m-> 1772\u001b[0;31m           MapDataset(self, map_func, preserve_cardinality=False))\n\u001b[0m\u001b[1;32m   1773\u001b[0m     \u001b[0;32melse\u001b[0m\u001b[0;34m:\u001b[0m\u001b[0;34m\u001b[0m\u001b[0;34m\u001b[0m\u001b[0m\n\u001b[1;32m   1774\u001b[0m       return DatasetV1Adapter(\n",
      "\u001b[0;32m~/.miniconda3/envs/phaunos_ml/lib/python3.6/site-packages/tensorflow/python/data/ops/dataset_ops.py\u001b[0m in \u001b[0;36m__init__\u001b[0;34m(self, input_dataset, map_func, use_inter_op_parallelism, preserve_cardinality, use_legacy_function)\u001b[0m\n\u001b[1;32m   3188\u001b[0m         \u001b[0mself\u001b[0m\u001b[0;34m.\u001b[0m\u001b[0m_transformation_name\u001b[0m\u001b[0;34m(\u001b[0m\u001b[0;34m)\u001b[0m\u001b[0;34m,\u001b[0m\u001b[0;34m\u001b[0m\u001b[0;34m\u001b[0m\u001b[0m\n\u001b[1;32m   3189\u001b[0m         \u001b[0mdataset\u001b[0m\u001b[0;34m=\u001b[0m\u001b[0minput_dataset\u001b[0m\u001b[0;34m,\u001b[0m\u001b[0;34m\u001b[0m\u001b[0;34m\u001b[0m\u001b[0m\n\u001b[0;32m-> 3190\u001b[0;31m         use_legacy_function=use_legacy_function)\n\u001b[0m\u001b[1;32m   3191\u001b[0m     variant_tensor = gen_dataset_ops.map_dataset(\n\u001b[1;32m   3192\u001b[0m         \u001b[0minput_dataset\u001b[0m\u001b[0;34m.\u001b[0m\u001b[0m_variant_tensor\u001b[0m\u001b[0;34m,\u001b[0m  \u001b[0;31m# pylint: disable=protected-access\u001b[0m\u001b[0;34m\u001b[0m\u001b[0;34m\u001b[0m\u001b[0m\n",
      "\u001b[0;32m~/.miniconda3/envs/phaunos_ml/lib/python3.6/site-packages/tensorflow/python/data/ops/dataset_ops.py\u001b[0m in \u001b[0;36m__init__\u001b[0;34m(self, func, transformation_name, dataset, input_classes, input_shapes, input_types, input_structure, add_to_graph, use_legacy_function, defun_kwargs)\u001b[0m\n\u001b[1;32m   2553\u001b[0m       \u001b[0mresource_tracker\u001b[0m \u001b[0;34m=\u001b[0m \u001b[0mtracking\u001b[0m\u001b[0;34m.\u001b[0m\u001b[0mResourceTracker\u001b[0m\u001b[0;34m(\u001b[0m\u001b[0;34m)\u001b[0m\u001b[0;34m\u001b[0m\u001b[0;34m\u001b[0m\u001b[0m\n\u001b[1;32m   2554\u001b[0m       \u001b[0;32mwith\u001b[0m \u001b[0mtracking\u001b[0m\u001b[0;34m.\u001b[0m\u001b[0mresource_tracker_scope\u001b[0m\u001b[0;34m(\u001b[0m\u001b[0mresource_tracker\u001b[0m\u001b[0;34m)\u001b[0m\u001b[0;34m:\u001b[0m\u001b[0;34m\u001b[0m\u001b[0;34m\u001b[0m\u001b[0m\n\u001b[0;32m-> 2555\u001b[0;31m         \u001b[0mself\u001b[0m\u001b[0;34m.\u001b[0m\u001b[0m_function\u001b[0m \u001b[0;34m=\u001b[0m \u001b[0mwrapper_fn\u001b[0m\u001b[0;34m.\u001b[0m\u001b[0m_get_concrete_function_internal\u001b[0m\u001b[0;34m(\u001b[0m\u001b[0;34m)\u001b[0m\u001b[0;34m\u001b[0m\u001b[0;34m\u001b[0m\u001b[0m\n\u001b[0m\u001b[1;32m   2556\u001b[0m         \u001b[0;32mif\u001b[0m \u001b[0madd_to_graph\u001b[0m\u001b[0;34m:\u001b[0m\u001b[0;34m\u001b[0m\u001b[0;34m\u001b[0m\u001b[0m\n\u001b[1;32m   2557\u001b[0m           \u001b[0mself\u001b[0m\u001b[0;34m.\u001b[0m\u001b[0m_function\u001b[0m\u001b[0;34m.\u001b[0m\u001b[0madd_to_graph\u001b[0m\u001b[0;34m(\u001b[0m\u001b[0mops\u001b[0m\u001b[0;34m.\u001b[0m\u001b[0mget_default_graph\u001b[0m\u001b[0;34m(\u001b[0m\u001b[0;34m)\u001b[0m\u001b[0;34m)\u001b[0m\u001b[0;34m\u001b[0m\u001b[0;34m\u001b[0m\u001b[0m\n",
      "\u001b[0;32m~/.miniconda3/envs/phaunos_ml/lib/python3.6/site-packages/tensorflow/python/eager/function.py\u001b[0m in \u001b[0;36m_get_concrete_function_internal\u001b[0;34m(self, *args, **kwargs)\u001b[0m\n\u001b[1;32m   1353\u001b[0m     \u001b[0;34m\"\"\"Bypasses error checking when getting a graph function.\"\"\"\u001b[0m\u001b[0;34m\u001b[0m\u001b[0;34m\u001b[0m\u001b[0m\n\u001b[1;32m   1354\u001b[0m     graph_function = self._get_concrete_function_internal_garbage_collected(\n\u001b[0;32m-> 1355\u001b[0;31m         *args, **kwargs)\n\u001b[0m\u001b[1;32m   1356\u001b[0m     \u001b[0;31m# We're returning this concrete function to someone, and they may keep a\u001b[0m\u001b[0;34m\u001b[0m\u001b[0;34m\u001b[0m\u001b[0;34m\u001b[0m\u001b[0m\n\u001b[1;32m   1357\u001b[0m     \u001b[0;31m# reference to the FuncGraph without keeping a reference to the\u001b[0m\u001b[0;34m\u001b[0m\u001b[0;34m\u001b[0m\u001b[0;34m\u001b[0m\u001b[0m\n",
      "\u001b[0;32m~/.miniconda3/envs/phaunos_ml/lib/python3.6/site-packages/tensorflow/python/eager/function.py\u001b[0m in \u001b[0;36m_get_concrete_function_internal_garbage_collected\u001b[0;34m(self, *args, **kwargs)\u001b[0m\n\u001b[1;32m   1347\u001b[0m     \u001b[0;32mif\u001b[0m \u001b[0mself\u001b[0m\u001b[0;34m.\u001b[0m\u001b[0minput_signature\u001b[0m\u001b[0;34m:\u001b[0m\u001b[0;34m\u001b[0m\u001b[0;34m\u001b[0m\u001b[0m\n\u001b[1;32m   1348\u001b[0m       \u001b[0margs\u001b[0m\u001b[0;34m,\u001b[0m \u001b[0mkwargs\u001b[0m \u001b[0;34m=\u001b[0m \u001b[0;32mNone\u001b[0m\u001b[0;34m,\u001b[0m \u001b[0;32mNone\u001b[0m\u001b[0;34m\u001b[0m\u001b[0;34m\u001b[0m\u001b[0m\n\u001b[0;32m-> 1349\u001b[0;31m     \u001b[0mgraph_function\u001b[0m\u001b[0;34m,\u001b[0m \u001b[0m_\u001b[0m\u001b[0;34m,\u001b[0m \u001b[0m_\u001b[0m \u001b[0;34m=\u001b[0m \u001b[0mself\u001b[0m\u001b[0;34m.\u001b[0m\u001b[0m_maybe_define_function\u001b[0m\u001b[0;34m(\u001b[0m\u001b[0margs\u001b[0m\u001b[0;34m,\u001b[0m \u001b[0mkwargs\u001b[0m\u001b[0;34m)\u001b[0m\u001b[0;34m\u001b[0m\u001b[0;34m\u001b[0m\u001b[0m\n\u001b[0m\u001b[1;32m   1350\u001b[0m     \u001b[0;32mreturn\u001b[0m \u001b[0mgraph_function\u001b[0m\u001b[0;34m\u001b[0m\u001b[0;34m\u001b[0m\u001b[0m\n\u001b[1;32m   1351\u001b[0m \u001b[0;34m\u001b[0m\u001b[0m\n",
      "\u001b[0;32m~/.miniconda3/envs/phaunos_ml/lib/python3.6/site-packages/tensorflow/python/eager/function.py\u001b[0m in \u001b[0;36m_maybe_define_function\u001b[0;34m(self, args, kwargs)\u001b[0m\n\u001b[1;32m   1650\u001b[0m       \u001b[0mgraph_function\u001b[0m \u001b[0;34m=\u001b[0m \u001b[0mself\u001b[0m\u001b[0;34m.\u001b[0m\u001b[0m_function_cache\u001b[0m\u001b[0;34m.\u001b[0m\u001b[0mprimary\u001b[0m\u001b[0;34m.\u001b[0m\u001b[0mget\u001b[0m\u001b[0;34m(\u001b[0m\u001b[0mcache_key\u001b[0m\u001b[0;34m,\u001b[0m \u001b[0;32mNone\u001b[0m\u001b[0;34m)\u001b[0m\u001b[0;34m\u001b[0m\u001b[0;34m\u001b[0m\u001b[0m\n\u001b[1;32m   1651\u001b[0m       \u001b[0;32mif\u001b[0m \u001b[0mgraph_function\u001b[0m \u001b[0;32mis\u001b[0m \u001b[0;32mNone\u001b[0m\u001b[0;34m:\u001b[0m\u001b[0;34m\u001b[0m\u001b[0;34m\u001b[0m\u001b[0m\n\u001b[0;32m-> 1652\u001b[0;31m         \u001b[0mgraph_function\u001b[0m \u001b[0;34m=\u001b[0m \u001b[0mself\u001b[0m\u001b[0;34m.\u001b[0m\u001b[0m_create_graph_function\u001b[0m\u001b[0;34m(\u001b[0m\u001b[0margs\u001b[0m\u001b[0;34m,\u001b[0m \u001b[0mkwargs\u001b[0m\u001b[0;34m)\u001b[0m\u001b[0;34m\u001b[0m\u001b[0;34m\u001b[0m\u001b[0m\n\u001b[0m\u001b[1;32m   1653\u001b[0m         \u001b[0mself\u001b[0m\u001b[0;34m.\u001b[0m\u001b[0m_function_cache\u001b[0m\u001b[0;34m.\u001b[0m\u001b[0mprimary\u001b[0m\u001b[0;34m[\u001b[0m\u001b[0mcache_key\u001b[0m\u001b[0;34m]\u001b[0m \u001b[0;34m=\u001b[0m \u001b[0mgraph_function\u001b[0m\u001b[0;34m\u001b[0m\u001b[0;34m\u001b[0m\u001b[0m\n\u001b[1;32m   1654\u001b[0m       \u001b[0;32mreturn\u001b[0m \u001b[0mgraph_function\u001b[0m\u001b[0;34m,\u001b[0m \u001b[0margs\u001b[0m\u001b[0;34m,\u001b[0m \u001b[0mkwargs\u001b[0m\u001b[0;34m\u001b[0m\u001b[0;34m\u001b[0m\u001b[0m\n",
      "\u001b[0;32m~/.miniconda3/envs/phaunos_ml/lib/python3.6/site-packages/tensorflow/python/eager/function.py\u001b[0m in \u001b[0;36m_create_graph_function\u001b[0;34m(self, args, kwargs, override_flat_arg_shapes)\u001b[0m\n\u001b[1;32m   1543\u001b[0m             \u001b[0marg_names\u001b[0m\u001b[0;34m=\u001b[0m\u001b[0marg_names\u001b[0m\u001b[0;34m,\u001b[0m\u001b[0;34m\u001b[0m\u001b[0;34m\u001b[0m\u001b[0m\n\u001b[1;32m   1544\u001b[0m             \u001b[0moverride_flat_arg_shapes\u001b[0m\u001b[0;34m=\u001b[0m\u001b[0moverride_flat_arg_shapes\u001b[0m\u001b[0;34m,\u001b[0m\u001b[0;34m\u001b[0m\u001b[0;34m\u001b[0m\u001b[0m\n\u001b[0;32m-> 1545\u001b[0;31m             capture_by_value=self._capture_by_value),\n\u001b[0m\u001b[1;32m   1546\u001b[0m         self._function_attributes)\n\u001b[1;32m   1547\u001b[0m \u001b[0;34m\u001b[0m\u001b[0m\n",
      "\u001b[0;32m~/.miniconda3/envs/phaunos_ml/lib/python3.6/site-packages/tensorflow/python/framework/func_graph.py\u001b[0m in \u001b[0;36mfunc_graph_from_py_func\u001b[0;34m(name, python_func, args, kwargs, signature, func_graph, autograph, autograph_options, add_control_dependencies, arg_names, op_return_value, collections, capture_by_value, override_flat_arg_shapes)\u001b[0m\n\u001b[1;32m    713\u001b[0m                                           converted_func)\n\u001b[1;32m    714\u001b[0m \u001b[0;34m\u001b[0m\u001b[0m\n\u001b[0;32m--> 715\u001b[0;31m       \u001b[0mfunc_outputs\u001b[0m \u001b[0;34m=\u001b[0m \u001b[0mpython_func\u001b[0m\u001b[0;34m(\u001b[0m\u001b[0;34m*\u001b[0m\u001b[0mfunc_args\u001b[0m\u001b[0;34m,\u001b[0m \u001b[0;34m**\u001b[0m\u001b[0mfunc_kwargs\u001b[0m\u001b[0;34m)\u001b[0m\u001b[0;34m\u001b[0m\u001b[0;34m\u001b[0m\u001b[0m\n\u001b[0m\u001b[1;32m    716\u001b[0m \u001b[0;34m\u001b[0m\u001b[0m\n\u001b[1;32m    717\u001b[0m       \u001b[0;31m# invariant: `func_outputs` contains only Tensors, CompositeTensors,\u001b[0m\u001b[0;34m\u001b[0m\u001b[0;34m\u001b[0m\u001b[0;34m\u001b[0m\u001b[0m\n",
      "\u001b[0;32m~/.miniconda3/envs/phaunos_ml/lib/python3.6/site-packages/tensorflow/python/data/ops/dataset_ops.py\u001b[0m in \u001b[0;36mwrapper_fn\u001b[0;34m(*args)\u001b[0m\n\u001b[1;32m   2547\u001b[0m           attributes=defun_kwargs)\n\u001b[1;32m   2548\u001b[0m       \u001b[0;32mdef\u001b[0m \u001b[0mwrapper_fn\u001b[0m\u001b[0;34m(\u001b[0m\u001b[0;34m*\u001b[0m\u001b[0margs\u001b[0m\u001b[0;34m)\u001b[0m\u001b[0;34m:\u001b[0m  \u001b[0;31m# pylint: disable=missing-docstring\u001b[0m\u001b[0;34m\u001b[0m\u001b[0;34m\u001b[0m\u001b[0m\n\u001b[0;32m-> 2549\u001b[0;31m         \u001b[0mret\u001b[0m \u001b[0;34m=\u001b[0m \u001b[0m_wrapper_helper\u001b[0m\u001b[0;34m(\u001b[0m\u001b[0;34m*\u001b[0m\u001b[0margs\u001b[0m\u001b[0;34m)\u001b[0m\u001b[0;34m\u001b[0m\u001b[0;34m\u001b[0m\u001b[0m\n\u001b[0m\u001b[1;32m   2550\u001b[0m         \u001b[0mret\u001b[0m \u001b[0;34m=\u001b[0m \u001b[0mself\u001b[0m\u001b[0;34m.\u001b[0m\u001b[0m_output_structure\u001b[0m\u001b[0;34m.\u001b[0m\u001b[0m_to_tensor_list\u001b[0m\u001b[0;34m(\u001b[0m\u001b[0mret\u001b[0m\u001b[0;34m)\u001b[0m\u001b[0;34m\u001b[0m\u001b[0;34m\u001b[0m\u001b[0m\n\u001b[1;32m   2551\u001b[0m         \u001b[0;32mreturn\u001b[0m \u001b[0;34m[\u001b[0m\u001b[0mops\u001b[0m\u001b[0;34m.\u001b[0m\u001b[0mconvert_to_tensor\u001b[0m\u001b[0;34m(\u001b[0m\u001b[0mt\u001b[0m\u001b[0;34m)\u001b[0m \u001b[0;32mfor\u001b[0m \u001b[0mt\u001b[0m \u001b[0;32min\u001b[0m \u001b[0mret\u001b[0m\u001b[0;34m]\u001b[0m\u001b[0;34m\u001b[0m\u001b[0;34m\u001b[0m\u001b[0m\n",
      "\u001b[0;32m~/.miniconda3/envs/phaunos_ml/lib/python3.6/site-packages/tensorflow/python/data/ops/dataset_ops.py\u001b[0m in \u001b[0;36m_wrapper_helper\u001b[0;34m(*args)\u001b[0m\n\u001b[1;32m   2487\u001b[0m         \u001b[0mnested_args\u001b[0m \u001b[0;34m=\u001b[0m \u001b[0;34m(\u001b[0m\u001b[0mnested_args\u001b[0m\u001b[0;34m,\u001b[0m\u001b[0;34m)\u001b[0m\u001b[0;34m\u001b[0m\u001b[0;34m\u001b[0m\u001b[0m\n\u001b[1;32m   2488\u001b[0m \u001b[0;34m\u001b[0m\u001b[0m\n\u001b[0;32m-> 2489\u001b[0;31m       \u001b[0mret\u001b[0m \u001b[0;34m=\u001b[0m \u001b[0mfunc\u001b[0m\u001b[0;34m(\u001b[0m\u001b[0;34m*\u001b[0m\u001b[0mnested_args\u001b[0m\u001b[0;34m)\u001b[0m\u001b[0;34m\u001b[0m\u001b[0;34m\u001b[0m\u001b[0m\n\u001b[0m\u001b[1;32m   2490\u001b[0m       \u001b[0;31m# If `func` returns a list of tensors, `nest.flatten()` and\u001b[0m\u001b[0;34m\u001b[0m\u001b[0;34m\u001b[0m\u001b[0;34m\u001b[0m\u001b[0m\n\u001b[1;32m   2491\u001b[0m       \u001b[0;31m# `ops.convert_to_tensor()` would conspire to attempt to stack\u001b[0m\u001b[0;34m\u001b[0m\u001b[0;34m\u001b[0m\u001b[0;34m\u001b[0m\u001b[0m\n",
      "\u001b[0;31mTypeError\u001b[0m: <lambda>() takes 2 positional arguments but 4 were given"
     ]
    }
   ],
   "source": [
    "dataset = dataset.map(lambda feat, labels: (feat, labels))"
   ]
  },
  {
   "cell_type": "code",
   "execution_count": 47,
   "metadata": {},
   "outputs": [
    {
     "data": {
      "text/plain": [
       "<DatasetV1Adapter shapes: ((1, 1, 22050), (2,)), types: (tf.float32, tf.float32)>"
      ]
     },
     "execution_count": 47,
     "metadata": {},
     "output_type": "execute_result"
    }
   ],
   "source": [
    "dataset"
   ]
  },
  {
   "cell_type": "code",
   "execution_count": null,
   "metadata": {},
   "outputs": [],
   "source": []
  }
 ],
 "metadata": {
  "kernelspec": {
   "display_name": "Python 3",
   "language": "python",
   "name": "python3"
  },
  "language_info": {
   "codemirror_mode": {
    "name": "ipython",
    "version": 3
   },
   "file_extension": ".py",
   "mimetype": "text/x-python",
   "name": "python",
   "nbconvert_exporter": "python",
   "pygments_lexer": "ipython3",
   "version": "3.6.8"
  }
 },
 "nbformat": 4,
 "nbformat_minor": 2
}
