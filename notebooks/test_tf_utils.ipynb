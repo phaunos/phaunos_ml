{
 "cells": [
  {
   "cell_type": "code",
   "execution_count": 1,
   "metadata": {},
   "outputs": [],
   "source": [
    "%load_ext autoreload\n",
    "%autoreload 2"
   ]
  },
  {
   "cell_type": "code",
   "execution_count": 2,
   "metadata": {},
   "outputs": [],
   "source": [
    "import os\n",
    "import librosa\n",
    "import numpy as np\n",
    "import tensorflow as tf"
   ]
  },
  {
   "cell_type": "code",
   "execution_count": 3,
   "metadata": {},
   "outputs": [],
   "source": [
    "from phaunos_ml.utils.feature_utils import AudioSegmentExtractor\n",
    "from phaunos_ml.utils.audio_utils import audiofile2tfrecord\n",
    "from phaunos_ml.utils.tf_serialization_utils import serialized2example, serialized2data"
   ]
  },
  {
   "cell_type": "code",
   "execution_count": 4,
   "metadata": {},
   "outputs": [],
   "source": [
    "%matplotlib inline\n",
    "import matplotlib.pyplot as plt"
   ]
  },
  {
   "cell_type": "code",
   "execution_count": 5,
   "metadata": {},
   "outputs": [],
   "source": [
    "ROOT_PATH = './data/birdid_dataset/'\n",
    "\n",
    "EXAMPLE_DURATION = 2\n",
    "EXAMPLE_HOP_DURATION = 1"
   ]
  },
  {
   "cell_type": "code",
   "execution_count": 6,
   "metadata": {},
   "outputs": [],
   "source": [
    "audio_relpath = 'birds/audio/XC370891.M.wav'\n",
    "audio_filename = os.path.join(ROOT_PATH, audio_relpath)"
   ]
  },
  {
   "cell_type": "code",
   "execution_count": 7,
   "metadata": {},
   "outputs": [
    {
     "name": "stdout",
     "output_type": "stream",
     "text": [
      "Audio shape: (5359104,)\n",
      "Sample rate: 22050\n"
     ]
    }
   ],
   "source": [
    "audio, sr = librosa.load(audio_filename)\n",
    "print(f'Audio shape: {audio.shape}')\n",
    "print(f'Sample rate: {sr}')"
   ]
  },
  {
   "cell_type": "code",
   "execution_count": 8,
   "metadata": {},
   "outputs": [
    {
     "data": {
      "text/plain": [
       "phaunos_ml.utils.feature_utils.AudioSegmentExtractor. Config: {'sr': 22050, 'example_duration': 2, 'example_hop_duration': 1, 'dtype': <class 'numpy.float32'>}"
      ]
     },
     "execution_count": 8,
     "metadata": {},
     "output_type": "execute_result"
    }
   ],
   "source": [
    "# Configure feature extractor\n",
    "featex = AudioSegmentExtractor(sr, example_duration=EXAMPLE_DURATION, example_hop_duration=EXAMPLE_HOP_DURATION)\n",
    "featex"
   ]
  },
  {
   "cell_type": "code",
   "execution_count": 9,
   "metadata": {
    "scrolled": true
   },
   "outputs": [],
   "source": [
    "# Write TFRecord\n",
    "audiofile2tfrecord(\n",
    "    ROOT_PATH,\n",
    "    audio_relpath,\n",
    "    os.path.join(ROOT_PATH, 'features'),\n",
    "    featex\n",
    ")"
   ]
  },
  {
   "cell_type": "code",
   "execution_count": 16,
   "metadata": {},
   "outputs": [],
   "source": [
    "# Inspect TFRecord\n",
    "dataset = tf.data.TFRecordDataset([os.path.join(ROOT_PATH, 'features/positive', audio_relpath.replace('.wav', '.tf'))])"
   ]
  },
  {
   "cell_type": "code",
   "execution_count": 17,
   "metadata": {},
   "outputs": [],
   "source": [
    "dataset = dataset.map(lambda data: serialized2data(data, [0]))"
   ]
  },
  {
   "cell_type": "code",
   "execution_count": 18,
   "metadata": {},
   "outputs": [
    {
     "data": {
      "text/plain": [
       "<MapDataset shapes: ((None, None), (1,), (), (2,)), types: (tf.float32, tf.float32, tf.string, tf.float32)>"
      ]
     },
     "execution_count": 18,
     "metadata": {},
     "output_type": "execute_result"
    }
   ],
   "source": [
    "dataset"
   ]
  },
  {
   "cell_type": "code",
   "execution_count": 19,
   "metadata": {},
   "outputs": [],
   "source": [
    "data = [d for d in dataset]"
   ]
  },
  {
   "cell_type": "code",
   "execution_count": 20,
   "metadata": {},
   "outputs": [
    {
     "data": {
      "text/plain": [
       "(<tf.Tensor: id=1281, shape=(1, 44100), dtype=float32, numpy=\n",
       " array([[ 0.        ,  0.        ,  0.        , ..., -0.00286865,\n",
       "          0.00073242,  0.0039978 ]], dtype=float32)>,\n",
       " <tf.Tensor: id=1282, shape=(1,), dtype=float32, numpy=array([0.], dtype=float32)>,\n",
       " <tf.Tensor: id=1283, shape=(), dtype=string, numpy=b'birds/audio/XC370891.M.tf'>,\n",
       " <tf.Tensor: id=1284, shape=(2,), dtype=float32, numpy=array([0.       , 1.9999547], dtype=float32)>)"
      ]
     },
     "execution_count": 20,
     "metadata": {},
     "output_type": "execute_result"
    }
   ],
   "source": [
    "data[0]"
   ]
  },
  {
   "cell_type": "code",
   "execution_count": 21,
   "metadata": {},
   "outputs": [],
   "source": [
    "for i in range(len(data)):\n",
    "    assert np.array_equal(audio[22050*i:22050*i+44100], data[i][0].numpy()[0,:len(audio[22050*i:22050*i+44100])])"
   ]
  }
 ],
 "metadata": {
  "kernelspec": {
   "display_name": "Python 3",
   "language": "python",
   "name": "python3"
  },
  "language_info": {
   "codemirror_mode": {
    "name": "ipython",
    "version": 3
   },
   "file_extension": ".py",
   "mimetype": "text/x-python",
   "name": "python",
   "nbconvert_exporter": "python",
   "pygments_lexer": "ipython3",
   "version": "3.6.9"
  }
 },
 "nbformat": 4,
 "nbformat_minor": 2
}
