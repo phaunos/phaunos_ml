{
 "cells": [
  {
   "cell_type": "markdown",
   "metadata": {},
   "source": [
    "# Compare tensorflow VS librosa mel spectrogram\n",
    "\n",
    "TLTR: tensorflow mel spec ~ librosa with htk=True, center=False and norm=None"
   ]
  },
  {
   "cell_type": "code",
   "execution_count": 1,
   "metadata": {},
   "outputs": [],
   "source": [
    "%load_ext autoreload\n",
    "%autoreload 2\n",
    "import os\n",
    "import json\n",
    "%matplotlib inline\n",
    "import matplotlib.pyplot as plt\n",
    "import numpy as np\n",
    "import random\n",
    "\n",
    "import librosa\n",
    "\n",
    "from phaunos_ml.utils import tf_utils\n",
    "from phaunos_ml.utils.feature_utils import AudioSegmentExtractor\n",
    "import tensorflow as tf\n",
    "\n",
    "tf.enable_eager_execution()"
   ]
  },
  {
   "cell_type": "markdown",
   "metadata": {},
   "source": [
    "## Get some audio examples"
   ]
  },
  {
   "cell_type": "code",
   "execution_count": 2,
   "metadata": {},
   "outputs": [],
   "source": [
    "TFRECORD_PATH = '/home/jul/data/xenocanto/custom_subsets/subset_1570008079/features/'\n",
    "AUDIO_DIRNAME = 'audio/wav_22050hz_MLR'"
   ]
  },
  {
   "cell_type": "code",
   "execution_count": 3,
   "metadata": {},
   "outputs": [],
   "source": [
    "# configure audio segment extractor\n",
    "sr = 22050\n",
    "segment_dur = 1\n",
    "segment_hop_dur = 1\n",
    "audio_ex = AudioSegmentExtractor(sr=sr, example_duration=segment_dur, example_hop_duration=segment_hop_dur)"
   ]
  },
  {
   "cell_type": "code",
   "execution_count": 4,
   "metadata": {},
   "outputs": [],
   "source": [
    "# get some audio\n",
    "example_filenames = random.sample(os.listdir(os.path.join(TFRECORD_PATH, 'positive', AUDIO_DIRNAME)), 2)"
   ]
  },
  {
   "cell_type": "code",
   "execution_count": 5,
   "metadata": {},
   "outputs": [
    {
     "data": {
      "text/plain": [
       "['XC303128.M.tf', 'XC296257.M.tf']"
      ]
     },
     "execution_count": 5,
     "metadata": {},
     "output_type": "execute_result"
    }
   ],
   "source": [
    "example_filenames"
   ]
  },
  {
   "cell_type": "code",
   "execution_count": 6,
   "metadata": {},
   "outputs": [
    {
     "name": "stderr",
     "output_type": "stream",
     "text": [
      "WARNING: Logging before flag parsing goes to stderr.\n",
      "W1008 15:41:17.623421 140023774377792 deprecation.py:323] From /home/jul/dev/phaunos_ml/phaunos_ml/utils/tf_utils.py:44: DatasetV1.make_one_shot_iterator (from tensorflow.python.data.ops.dataset_ops) is deprecated and will be removed in a future version.\n",
      "Instructions for updating:\n",
      "Use `for ... in dataset:` to iterate over a dataset. If using `tf.estimator`, return the `Dataset` object directly from your input function. As a last resort, you can use `tf.compat.v1.data.make_one_shot_iterator(dataset)`.\n"
     ]
    }
   ],
   "source": [
    "example1 = tf_utils.tfrecord2example(os.path.join(TFRECORD_PATH, 'positive', AUDIO_DIRNAME, example_filenames[0]), audio_ex)\n",
    "example2 = tf_utils.tfrecord2example(os.path.join(TFRECORD_PATH, 'positive', AUDIO_DIRNAME, example_filenames[1]), audio_ex)"
   ]
  },
  {
   "cell_type": "code",
   "execution_count": 7,
   "metadata": {},
   "outputs": [
    {
     "data": {
      "text/plain": [
       "[<matplotlib.lines.Line2D at 0x7f594c465748>]"
      ]
     },
     "execution_count": 7,
     "metadata": {},
     "output_type": "execute_result"
    },
    {
     "data": {
      "image/png": "[encoded data removed]",
      "text/plain": [
       "<Figure size 432x288 with 1 Axes>"
      ]
     },
     "metadata": {
      "needs_background": "light"
     },
     "output_type": "display_data"
    }
   ],
   "source": [
    "audio_ex.plot(example1[0]['data'][0])"
   ]
  },
  {
   "cell_type": "markdown",
   "metadata": {},
   "source": [
    "## Compute mel spectrogram"
   ]
  },
  {
   "cell_type": "code",
   "execution_count": 8,
   "metadata": {},
   "outputs": [],
   "source": [
    "# mel spectrogram parameters\n",
    "n_fft = 512\n",
    "hop_length = 128\n",
    "min_freq = 50\n",
    "max_freq = 8000\n",
    "n_mels = 64"
   ]
  },
  {
   "cell_type": "code",
   "execution_count": 9,
   "metadata": {},
   "outputs": [
    {
     "name": "stderr",
     "output_type": "stream",
     "text": [
      "W1008 15:41:18.466795 140023774377792 lazy_loader.py:50] \n",
      "The TensorFlow contrib module will not be included in TensorFlow 2.0.\n",
      "For more information, please see:\n",
      "  * https://github.com/tensorflow/community/blob/master/rfcs/20180907-contrib-sunset.md\n",
      "  * https://github.com/tensorflow/addons\n",
      "  * https://github.com/tensorflow/io (for I/O related ops)\n",
      "If you depend on functionality not listed there, please file an issue.\n",
      "\n"
     ]
    },
    {
     "data": {
      "text/plain": [
       "<tf.Tensor: id=531, shape=(169, 257), dtype=float32, numpy=\n",
       "array([[2.6464171e-04, 1.8811497e-04, 1.3636478e-04, ..., 6.3197425e-05,\n",
       "        1.1609933e-04, 9.3799274e-05],\n",
       "       [5.4238575e-05, 1.6877292e-04, 1.6022675e-05, ..., 1.9021955e-04,\n",
       "        1.1385175e-04, 3.6149133e-05],\n",
       "       [1.4581998e-04, 1.5944647e-04, 1.1389059e-04, ..., 1.2682685e-04,\n",
       "        9.5209238e-05, 1.3675322e-05],\n",
       "       ...,\n",
       "       [1.3035953e-02, 4.9464833e-02, 6.8648972e-02, ..., 1.1390694e-02,\n",
       "        9.9420287e-03, 1.4467806e-02],\n",
       "       [5.1756389e-03, 6.1162505e-02, 1.3055757e-01, ..., 6.7828023e-03,\n",
       "        6.1729308e-03, 1.6753543e-02],\n",
       "       [3.0534374e-02, 4.1511714e-02, 9.7258218e-02, ..., 4.6389168e-03,\n",
       "        1.2345408e-02, 1.1670021e-02]], dtype=float32)>"
      ]
     },
     "execution_count": 9,
     "metadata": {},
     "output_type": "execute_result"
    }
   ],
   "source": [
    "# tensorflow spectrogram\n",
    "tf_spec = tf.abs(tf.contrib.signal.stft(\n",
    "    example1[0]['data'][0],                                        \n",
    "    frame_length=n_fft, \n",
    "    frame_step=hop_length,\n",
    "    fft_length=n_fft))\n",
    "tf_spec"
   ]
  },
  {
   "cell_type": "code",
   "execution_count": 10,
   "metadata": {},
   "outputs": [
    {
     "data": {
      "text/plain": [
       "array([[2.64641712e-04, 1.88114966e-04, 1.36364746e-04, ...,\n",
       "        6.31974981e-05, 1.16099312e-04, 9.37992518e-05],\n",
       "       [5.42385460e-05, 1.68772938e-04, 1.60226737e-05, ...,\n",
       "        1.90219536e-04, 1.13851733e-04, 3.61491147e-05],\n",
       "       [1.45819984e-04, 1.59446485e-04, 1.13890565e-04, ...,\n",
       "        1.26826853e-04, 9.52092378e-05, 1.36753233e-05],\n",
       "       ...,\n",
       "       [1.30359875e-02, 4.94648889e-02, 6.86490014e-02, ...,\n",
       "        1.13906758e-02, 9.94208641e-03, 1.44677693e-02],\n",
       "       [5.17565059e-03, 6.11624606e-02, 1.30557537e-01, ...,\n",
       "        6.78280462e-03, 6.17301837e-03, 1.67535227e-02],\n",
       "       [3.05343717e-02, 4.15116251e-02, 9.72580984e-02, ...,\n",
       "        4.63883160e-03, 1.23453792e-02, 1.16700111e-02]], dtype=float32)"
      ]
     },
     "execution_count": 10,
     "metadata": {},
     "output_type": "execute_result"
    }
   ],
   "source": [
    "# librosa spectrogram\n",
    "lr_spec = np.abs(librosa.core.stft(example1[0]['data'][0].numpy(),                            \n",
    "                            n_fft=n_fft,\n",
    "                            hop_length=hop_length,\n",
    "                            win_length=n_fft,\n",
    "                            window='hann',\n",
    "                            center=False,\n",
    "                            pad_mode='reflect'))\n",
    "lr_spec.T"
   ]
  },
  {
   "cell_type": "code",
   "execution_count": 11,
   "metadata": {},
   "outputs": [
    {
     "data": {
      "text/plain": [
       "<tf.Tensor: id=673, shape=(30,), dtype=float32, numpy=\n",
       "array([0.        , 0.        , 0.        , 0.        , 0.        ,\n",
       "       0.        , 0.        , 0.        , 0.        , 0.11720774,\n",
       "       0.34630919, 0.5734516 , 0.79866946, 0.9780141 , 0.7565636 ,\n",
       "       0.53694576, 0.31912607, 0.10308734, 0.        , 0.        ,\n",
       "       0.        , 0.        , 0.        , 0.        , 0.        ,\n",
       "       0.        , 0.        , 0.        , 0.        , 0.        ],\n",
       "      dtype=float32)>"
      ]
     },
     "execution_count": 11,
     "metadata": {},
     "output_type": "execute_result"
    }
   ],
   "source": [
    "# tensorflow mel filters\n",
    "tf_mel_filters = tf.contrib.signal.linear_to_mel_weight_matrix(\n",
    "    num_mel_bins=n_mels,\n",
    "    num_spectrogram_bins=tf_spec.shape[-1].value,\n",
    "    sample_rate=sr,\n",
    "    lower_edge_hertz=min_freq,\n",
    "    upper_edge_hertz=max_freq)\n",
    "tf_mel_filters[90:120,50]"
   ]
  },
  {
   "cell_type": "code",
   "execution_count": 12,
   "metadata": {},
   "outputs": [
    {
     "data": {
      "text/plain": [
       "array([0.        , 0.        , 0.        , 0.        , 0.        ,\n",
       "       0.        , 0.        , 0.        , 0.        , 0.11526588,\n",
       "       0.34205323, 0.56884056, 0.7956279 , 0.97841424, 0.7600193 ,\n",
       "       0.5416244 , 0.3232295 , 0.10483458, 0.        , 0.        ,\n",
       "       0.        , 0.        , 0.        , 0.        , 0.        ,\n",
       "       0.        , 0.        , 0.        , 0.        , 0.        ],\n",
       "      dtype=float32)"
      ]
     },
     "execution_count": 12,
     "metadata": {},
     "output_type": "execute_result"
    }
   ],
   "source": [
    "# librosa mel filters\n",
    "lr_mel_filters = librosa.filters.mel(\n",
    "    sr,\n",
    "    n_fft,\n",
    "    n_mels=n_mels,\n",
    "    fmin=min_freq,\n",
    "    fmax=max_freq,\n",
    "    norm=None,\n",
    "    htk=True)\n",
    "lr_mel_filters.T[90:120,50]"
   ]
  },
  {
   "cell_type": "code",
   "execution_count": 13,
   "metadata": {},
   "outputs": [
    {
     "data": {
      "text/plain": [
       "<tf.Tensor: id=685, shape=(169, 64), dtype=float32, numpy=\n",
       "array([[1.02570615e-04, 1.04488594e-04, 1.38611140e-04, ...,\n",
       "        8.95370555e-04, 1.10179873e-03, 9.14163655e-04],\n",
       "       [1.20519080e-05, 7.77587047e-05, 1.44676596e-04, ...,\n",
       "        1.02275331e-03, 1.39708933e-03, 1.04585092e-03],\n",
       "       [8.56660190e-05, 7.92205537e-05, 9.99882395e-05, ...,\n",
       "        1.17146876e-03, 1.30457187e-03, 1.30824395e-03],\n",
       "       ...,\n",
       "       [5.16362637e-02, 6.12096190e-02, 8.66572335e-02, ...,\n",
       "        5.41068673e-01, 7.92616427e-01, 9.49220955e-01],\n",
       "       [9.82025638e-02, 8.11671466e-02, 9.57063511e-02, ...,\n",
       "        9.77019489e-01, 8.06488514e-01, 7.08848536e-01],\n",
       "       [7.31555149e-02, 3.91928777e-02, 2.95874216e-02, ...,\n",
       "        6.75761640e-01, 5.68232715e-01, 5.02798498e-01]], dtype=float32)>"
      ]
     },
     "execution_count": 13,
     "metadata": {},
     "output_type": "execute_result"
    }
   ],
   "source": [
    "# tensorflow mel spectrogram\n",
    "tf_mel_spec = tf.tensordot(tf_spec, tf_mel_filters, 1)\n",
    "tf_mel_spec"
   ]
  },
  {
   "cell_type": "code",
   "execution_count": 14,
   "metadata": {},
   "outputs": [
    {
     "data": {
      "text/plain": [
       "array([[1.03048435e-04, 1.04895276e-04, 1.37726587e-04, ...,\n",
       "        8.97810329e-04, 1.09969149e-03, 9.14360862e-04],\n",
       "       [1.21080520e-05, 7.86257879e-05, 1.43753306e-04, ...,\n",
       "        1.02504564e-03, 1.39678619e-03, 1.04457710e-03],\n",
       "       [8.60650907e-05, 7.94595253e-05, 9.93501599e-05, ...,\n",
       "        1.17381371e-03, 1.30546093e-03, 1.30599830e-03],\n",
       "       ...,\n",
       "       [5.18768393e-02, 6.15220815e-02, 8.61042514e-02, ...,\n",
       "        5.41783452e-01, 7.93220401e-01, 9.48734641e-01],\n",
       "       [9.86600295e-02, 8.13203901e-02, 9.50955972e-02, ...,\n",
       "        9.77800965e-01, 8.05426717e-01, 7.08820105e-01],\n",
       "       [7.34962299e-02, 3.90408523e-02, 2.93986127e-02, ...,\n",
       "        6.76294744e-01, 5.67394674e-01, 5.03152728e-01]], dtype=float32)"
      ]
     },
     "execution_count": 14,
     "metadata": {},
     "output_type": "execute_result"
    }
   ],
   "source": [
    "# librosa mel spectrogram\n",
    "lr_mel_spec = np.dot(lr_mel_filters, lr_spec)\n",
    "lr_mel_spec.T"
   ]
  },
  {
   "cell_type": "code",
   "execution_count": 15,
   "metadata": {},
   "outputs": [
    {
     "data": {
      "text/plain": [
       "array([[1.03048435e-04, 1.04895276e-04, 1.37726587e-04, ...,\n",
       "        8.97810329e-04, 1.09969149e-03, 9.14360862e-04],\n",
       "       [1.21080520e-05, 7.86257879e-05, 1.43753306e-04, ...,\n",
       "        1.02504564e-03, 1.39678619e-03, 1.04457710e-03],\n",
       "       [8.60650907e-05, 7.94595253e-05, 9.93501599e-05, ...,\n",
       "        1.17381371e-03, 1.30546093e-03, 1.30599830e-03],\n",
       "       ...,\n",
       "       [5.18768393e-02, 6.15220815e-02, 8.61042514e-02, ...,\n",
       "        5.41783452e-01, 7.93220401e-01, 9.48734641e-01],\n",
       "       [9.86600295e-02, 8.13203901e-02, 9.50955972e-02, ...,\n",
       "        9.77800965e-01, 8.05426717e-01, 7.08820105e-01],\n",
       "       [7.34962299e-02, 3.90408523e-02, 2.93986127e-02, ...,\n",
       "        6.76294744e-01, 5.67394674e-01, 5.03152728e-01]], dtype=float32)"
      ]
     },
     "execution_count": 15,
     "metadata": {},
     "output_type": "execute_result"
    }
   ],
   "source": [
    "# compute mel spectrogram directly with librosa\n",
    "lr_mel_spec2 = librosa.feature.melspectrogram(\n",
    "    y=example1[0]['data'][0].numpy(),\n",
    "    sr=sr,\n",
    "    n_fft=n_fft,\n",
    "    hop_length=hop_length,\n",
    "    win_length=n_fft,\n",
    "    n_mels=n_mels,\n",
    "    htk=True,\n",
    "    norm=None,\n",
    "    fmin=min_freq,\n",
    "    fmax=max_freq,\n",
    "    window='hann',\n",
    "    center=False,\n",
    "    pad_mode='reflect',\n",
    "    power=1.0)\n",
    "lr_mel_spec2.T"
   ]
  },
  {
   "cell_type": "code",
   "execution_count": null,
   "metadata": {},
   "outputs": [],
   "source": []
  }
 ],
 "metadata": {
  "kernelspec": {
   "display_name": "Python 3",
   "language": "python",
   "name": "python3"
  },
  "language_info": {
   "codemirror_mode": {
    "name": "ipython",
    "version": 3
   },
   "file_extension": ".py",
   "mimetype": "text/x-python",
   "name": "python",
   "nbconvert_exporter": "python",
   "pygments_lexer": "ipython3",
   "version": "3.6.8"
  }
 },
 "nbformat": 4,
 "nbformat_minor": 2
}
