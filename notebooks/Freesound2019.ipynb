{
 "cells": [
  {
   "cell_type": "markdown",
   "metadata": {},
   "source": [
    "[1 - Prepare the data](#1---Prepare-the-data-)<br>\n",
    "&ensp;&ensp;[1.1 - Generate annotation files](#1.1---Generate-annotation-files-(see-here))<br>\n",
    "&ensp;&ensp;[1.2 - Create a subset for fast prototyping](#1.2---Create-a-subset-for-fast-prototyping)<br>\n",
    "&ensp;&ensp;[1.3 - Compute features and write them to TFRecord](#1.3---Compute-features-and-write-them-to-TFRecord-files)<br>\n",
    "&ensp;&ensp;[1.4 - Check some TFRecord](#1.4---Check-some-TFRecord)<br>\n",
    "&ensp;&ensp;[1.5 - Check some other TFRecord](#1.5---Check-some-other-TFRecord)<br>\n",
    "[2 - Training](#2---Training)<br>\n",
    "&ensp;&ensp;[2.1 - Generate a train/valid split to monitor the performance on unseen data](#2.1---Generate-a-train/valid-split-to-monitor-the-performance-on-unseen-data)<br>\n",
    "&ensp;&ensp;[2.2 - Count the number of batches in the train and valid sets](#2.2---Count-the-number-of-batches-in-the-train-and-valid-sets)<br>\n",
    "&ensp;&ensp;[2.3 - Write feature extraction and training config files](#2.3---Write-feature-extraction-and-training-config-files)<br>\n",
    "&ensp;&ensp;[2.4 - Train](#2.4---Train)"
   ]
  },
  {
   "cell_type": "markdown",
   "metadata": {},
   "source": [
    "\n",
    "# 1 - Prepare the data\n",
    "\n",
    "Original challenge data, as found at https://www.kaggle.com/c/freesound-audio-tagging-2019/data.\n",
    "Audio data is resampled to 22050 Hz for faster prototyping."
   ]
  },
  {
   "cell_type": "code",
   "execution_count": 1,
   "metadata": {},
   "outputs": [
    {
     "name": "stdout",
     "output_type": "stream",
     "text": [
      "\u001b[01;34m/home/jul/data/freesound-audio-tagging-2019/\u001b[00m\n",
      "├── \u001b[01;34mcustom_subsets\u001b[00m\n",
      "├── \u001b[01;32msample_submission.csv\u001b[00m\n",
      "└── \u001b[01;34mtrain\u001b[00m\n",
      "    ├── \u001b[01;34mtrain_curated\u001b[00m\n",
      "    │   ├── \u001b[01;34maudio\u001b[00m\n",
      "    │   ├── \u001b[01;34maudio_22050hz\u001b[00m\n",
      "    │   └── \u001b[01;32mtrain_curated.csv\u001b[00m\n",
      "    └── \u001b[01;34mtrain_noisy\u001b[00m\n",
      "        ├── \u001b[01;34maudio\u001b[00m\n",
      "        ├── \u001b[01;34maudio_22050hz\u001b[00m\n",
      "        └── \u001b[01;32mtrain_noisy.csv\u001b[00m\n",
      "\n",
      "8 directories, 3 files\n"
     ]
    }
   ],
   "source": [
    "! tree /home/jul/data/freesound-audio-tagging-2019/ -I 'subset*|annotations*|*wav|test'"
   ]
  },
  {
   "cell_type": "markdown",
   "metadata": {},
   "source": [
    "## 1.1 - Generate annotation files (see [here](https://github.com/phaunos/phaunos_ml/blob/7fe9a4d07821a3ae0a5cdc353dc27fd332c5132c/phaunos_ml/utils/annotation_utils.py))\n",
    "\n",
    "**Note**: Using annotation files here might be overkill because the annotations are \"per file\", but this is a generic way to handle any kind of annotations, including those applied to regions of a file (i.e. with start/end times)."
   ]
  },
  {
   "cell_type": "code",
   "execution_count": 2,
   "metadata": {},
   "outputs": [],
   "source": [
    "from challenge_utils.dcase2019_task2_utils import get_class_list, generate_ann_files"
   ]
  },
  {
   "cell_type": "code",
   "execution_count": 3,
   "metadata": {},
   "outputs": [],
   "source": [
    "class_list = get_class_list('/home/jul/data/freesound-audio-tagging-2019/sample_submission.csv')"
   ]
  },
  {
   "cell_type": "code",
   "execution_count": 4,
   "metadata": {
    "scrolled": true
   },
   "outputs": [
    {
     "name": "stdout",
     "output_type": "stream",
     "text": [
      "['Accelerating_and_revving_and_vroom', 'Accordion', 'Acoustic_guitar', 'Applause', 'Bark', 'Bass_drum', 'Bass_guitar', 'Bathtub_(filling_or_washing)', 'Bicycle_bell', 'Burping_and_eructation', 'Bus', 'Buzz', 'Car_passing_by', 'Cheering', 'Chewing_and_mastication', 'Child_speech_and_kid_speaking', 'Chink_and_clink', 'Chirp_and_tweet', 'Church_bell', 'Clapping', 'Computer_keyboard', 'Crackle', 'Cricket', 'Crowd', 'Cupboard_open_or_close', 'Cutlery_and_silverware', 'Dishes_and_pots_and_pans', 'Drawer_open_or_close', 'Drip', 'Electric_guitar', 'Fart', 'Female_singing', 'Female_speech_and_woman_speaking', 'Fill_(with_liquid)', 'Finger_snapping', 'Frying_(food)', 'Gasp', 'Glockenspiel', 'Gong', 'Gurgling', 'Harmonica', 'Hi-hat', 'Hiss', 'Keys_jangling', 'Knock', 'Male_singing', 'Male_speech_and_man_speaking', 'Marimba_and_xylophone', 'Mechanical_fan', 'Meow', 'Microwave_oven', 'Motorcycle', 'Printer', 'Purr', 'Race_car_and_auto_racing', 'Raindrop', 'Run', 'Scissors', 'Screaming', 'Shatter', 'Sigh', 'Sink_(filling_or_washing)', 'Skateboard', 'Slam', 'Sneeze', 'Squeak', 'Stream', 'Strum', 'Tap', 'Tick-tock', 'Toilet_flush', 'Traffic_noise_and_roadway_noise', 'Trickle_and_dribble', 'Walk_and_footsteps', 'Water_tap_and_faucet', 'Waves_and_surf', 'Whispering', 'Writing', 'Yell', 'Zipper_(clothing)']\n"
     ]
    }
   ],
   "source": [
    "print(class_list)"
   ]
  },
  {
   "cell_type": "code",
   "execution_count": 5,
   "metadata": {},
   "outputs": [],
   "source": [
    "generate_ann_files('/home/jul/data/freesound-audio-tagging-2019/train', class_list)"
   ]
  },
  {
   "cell_type": "markdown",
   "metadata": {},
   "source": [
    "Annotation file contains all annotations of a given audio file. Each line represent a region and one or more label ids:\n",
    "    start_time,end_time(-1 if the annotation is for the whole audio file, as in our case),label_ids (joined by '#'):"
   ]
  },
  {
   "cell_type": "code",
   "execution_count": 6,
   "metadata": {},
   "outputs": [
    {
     "name": "stdout",
     "output_type": "stream",
     "text": [
      "==> /home/jul/data/freesound-audio-tagging-2019/train/train_noisy/annotations/00097e21.ann <==\r\n",
      "0.000,-1.000,7\r\n",
      "\r\n",
      "==> /home/jul/data/freesound-audio-tagging-2019/train/train_noisy/annotations/000b6cfb.ann <==\r\n",
      "0.000,-1.000,51\r\n",
      "\r\n",
      "==> /home/jul/data/freesound-audio-tagging-2019/train/train_noisy/annotations/00116cd2.ann <==\r\n",
      "0.000,-1.000,37#47\r\n",
      "head: error writing 'standard output': Broken pipe\r\n"
     ]
    }
   ],
   "source": [
    "!head -5 /home/jul/data/freesound-audio-tagging-2019/train/train_noisy/annotations/* | head -8"
   ]
  },
  {
   "cell_type": "markdown",
   "metadata": {},
   "source": [
    "## 1.2 - Create a subset for fast prototyping"
   ]
  },
  {
   "cell_type": "code",
   "execution_count": 7,
   "metadata": {},
   "outputs": [],
   "source": [
    "import numpy as np\n",
    "from phaunos_ml.utils.dataset_utils import create_subset, dataset_stat_per_file\n",
    "\n",
    "ROOT_PATH = '/home/jul/data/freesound-audio-tagging-2019/train/'"
   ]
  },
  {
   "cell_type": "code",
   "execution_count": 8,
   "metadata": {},
   "outputs": [
    {
     "name": "stdout",
     "output_type": "stream",
     "text": [
      "{34, 39, 41, 74, 45, 46, 48, 17, 22, 26}\n"
     ]
    }
   ],
   "source": [
    "# Pick 10 classes randomly\n",
    "subset_label_set = set(np.random.choice(range(len(class_list)), 10, replace=False))\n",
    "print(subset_label_set)"
   ]
  },
  {
   "cell_type": "code",
   "execution_count": 9,
   "metadata": {},
   "outputs": [
    {
     "name": "stdout",
     "output_type": "stream",
     "text": [
      "/home/jul/data/freesound-audio-tagging-2019/custom_subsets/subset_1571241326/subset_1571241326.csv\n"
     ]
    }
   ],
   "source": [
    "# Create a data subset with all files annotated with at least one of these classes.\n",
    "subset_filename = create_subset(\n",
    "    ROOT_PATH,\n",
    "    ['train_noisy', 'train_curated'],\n",
    "    '/home/jul/data/freesound-audio-tagging-2019/custom_subsets',\n",
    "    audio_dirname='audio_22050hz',\n",
    "    label_set=subset_label_set)\n",
    "print(subset_filename)"
   ]
  },
  {
   "cell_type": "markdown",
   "metadata": {},
   "source": [
    "This basically create a file with a unique name (*subset_&lt;timestamp&gt;.csv*) containing a list of files with their annotations (intersecting with label_set):"
   ]
  },
  {
   "cell_type": "code",
   "execution_count": 10,
   "metadata": {},
   "outputs": [
    {
     "name": "stdout",
     "output_type": "stream",
     "text": [
      "#class subset: 17,22,26,34,39,41,45,46,48,74\r\n",
      "train_noisy/audio_22050hz/02df08d2.wav\r\n",
      "train_noisy/audio_22050hz/b65fb601.wav\r\n",
      "train_noisy/audio_22050hz/364ac57b.wav\r\n",
      "train_noisy/audio_22050hz/36eb7e34.wav\r\n",
      "train_noisy/audio_22050hz/c5282d77.wav\r\n",
      "train_noisy/audio_22050hz/68a1ab1c.wav\r\n",
      "train_noisy/audio_22050hz/2a01e8c0.wav\r\n",
      "train_noisy/audio_22050hz/9c6bc365.wav\r\n",
      "train_noisy/audio_22050hz/79923e2a.wav\r\n"
     ]
    }
   ],
   "source": [
    "!head -10 \"$subset_filename\""
   ]
  },
  {
   "cell_type": "code",
   "execution_count": 12,
   "metadata": {},
   "outputs": [
    {
     "name": "stderr",
     "output_type": "stream",
     "text": [
      "3693it [00:00, 14297.85it/s]"
     ]
    },
    {
     "name": "stdout",
     "output_type": "stream",
     "text": [
      "Class index, number of files, total duration (in s)\n",
      " 17        ,375       ,5033.573  \n",
      " 22        ,375       ,5439.672  \n",
      " 26        ,375       ,4623.895  \n",
      " 34        ,375       ,4565.928  \n",
      " 39        ,375       ,4855.031  \n",
      " 41        ,375       ,4621.564  \n",
      " 45        ,375       ,4876.479  \n",
      " 46        ,375       ,4678.907  \n",
      " 48        ,349       ,5214.030  \n",
      " 74        ,375       ,5453.991  \n"
     ]
    },
    {
     "name": "stderr",
     "output_type": "stream",
     "text": [
      "\n"
     ]
    }
   ],
   "source": [
    "# Show dataset stats\n",
    "# Note: The total number of instances might be higher than the number of audio files because a file might have multiple labels\n",
    "d_num, d_dur = dataset_stat_per_file(\n",
    "    ROOT_PATH,    \n",
    "    subset_filename,\n",
    "    audio_dirname='audio_22050hz')\n",
    "print(\"Class index, number of files, total duration (in s)\") \n",
    "for k, v in sorted(d_num.items()):\n",
    "    if k in subset_label_set:\n",
    "        print(f' {k:<10},{v:<10},{d_dur[k]:<10.3f}')"
   ]
  },
  {
   "cell_type": "markdown",
   "metadata": {},
   "source": [
    "## 1.3 - Compute features and write them to [TFRecord](https://www.tensorflow.org/tutorials/load_data/tf_records) files"
   ]
  },
  {
   "cell_type": "code",
   "execution_count": 13,
   "metadata": {},
   "outputs": [],
   "source": [
    "import os\n",
    "from phaunos_ml.utils.feature_utils import MelSpecExtractor\n",
    "from phaunos_ml.utils.dataset_utils import dataset2tfrecords\n",
    "import tensorflow as tf\n",
    "\n",
    "config = tf.compat.v1.ConfigProto()\n",
    "config.gpu_options.allow_growth = True\n",
    "session = tf.compat.v1.InteractiveSession(config=config)"
   ]
  },
  {
   "cell_type": "code",
   "execution_count": 14,
   "metadata": {},
   "outputs": [],
   "source": [
    "# Log-mel spectrogram in 2s examples\n",
    "feature_extractor = MelSpecExtractor(n_fft=512,\n",
    "                                     hop_length=128,\n",
    "                                     n_mels = 128,\n",
    "                                     example_duration=2,\n",
    "                                     example_hop_duration=1)"
   ]
  },
  {
   "cell_type": "code",
   "execution_count": 15,
   "metadata": {},
   "outputs": [
    {
     "name": "stderr",
     "output_type": "stream",
     "text": [
      "100%|██████████| 3694/3694 [07:07<00:00, 11.41it/s]\n"
     ]
    }
   ],
   "source": [
    "# Process our subset. TFRecords are written in \n",
    "tfrecord_path = os.path.join(os.path.dirname(subset_filename), 'features')\n",
    "dataset2tfrecords(ROOT_PATH,\n",
    "                 subset_filename,\n",
    "                 tfrecord_path,\n",
    "                 feature_extractor,\n",
    "                 audio_dirname='audio_22050hz')"
   ]
  },
  {
   "cell_type": "markdown",
   "metadata": {},
   "source": [
    "## 1.4 - Check some TFRecord"
   ]
  },
  {
   "cell_type": "code",
   "execution_count": 16,
   "metadata": {},
   "outputs": [],
   "source": [
    "import random\n",
    "import tensorflow as tf\n",
    "from phaunos_ml.utils import tf_utils\n",
    "import matplotlib.pyplot as plt\n",
    "%matplotlib inline"
   ]
  },
  {
   "cell_type": "code",
   "execution_count": 20,
   "metadata": {},
   "outputs": [],
   "source": [
    "subset_dir = os.path.dirname(subset_filename)\n",
    "sometfrecord_path = os.path.join(subset_dir, 'features/positive/train_curated/audio_22050hz/')"
   ]
  },
  {
   "cell_type": "code",
   "execution_count": 21,
   "metadata": {},
   "outputs": [],
   "source": [
    "sometfrecord = os.path.join(\n",
    "    sometfrecord_path,\n",
    "    random.sample(os.listdir(sometfrecord_path), 1)[0]\n",
    ")"
   ]
  },
  {
   "cell_type": "code",
   "execution_count": 22,
   "metadata": {},
   "outputs": [
    {
     "name": "stdout",
     "output_type": "stream",
     "text": [
      "/home/jul/data/freesound-audio-tagging-2019/custom_subsets/subset_1571241326/features/positive/train_curated/audio_22050hz/1089aeec.tf\n"
     ]
    }
   ],
   "source": [
    "print(sometfrecord)"
   ]
  },
  {
   "cell_type": "code",
   "execution_count": 23,
   "metadata": {},
   "outputs": [
    {
     "name": "stderr",
     "output_type": "stream",
     "text": [
      "WARNING: Logging before flag parsing goes to stderr.\n",
      "W1016 18:12:17.782863 139633882945344 deprecation.py:323] From /home/jul/dev/phaunos_ml/phaunos_ml/utils/tf_utils.py:44: DatasetV1.make_one_shot_iterator (from tensorflow.python.data.ops.dataset_ops) is deprecated and will be removed in a future version.\n",
      "Instructions for updating:\n",
      "Use `for ... in dataset:` to iterate over a dataset. If using `tf.estimator`, return the `Dataset` object directly from your input function. As a last resort, you can use `tf.compat.v1.data.make_one_shot_iterator(dataset)`.\n",
      "W1016 18:12:17.790887 139633882945344 deprecation_wrapper.py:119] From /home/jul/dev/phaunos_ml/phaunos_ml/utils/tf_utils.py:51: The name tf.Session is deprecated. Please use tf.compat.v1.Session instead.\n",
      "\n"
     ]
    },
    {
     "name": "stdout",
     "output_type": "stream",
     "text": [
      "[{'data': array([[-18.420513, -18.415863, -18.38124 , ..., -10.849743, -11.563427,\n",
      "        -10.942354],\n",
      "       [-18.420559, -18.417158, -18.391706, ..., -11.163236, -11.876721,\n",
      "        -11.255829],\n",
      "       [-18.398579, -18.416859, -18.360722, ...,  -9.748999, -11.181066,\n",
      "        -10.833606],\n",
      "       ...,\n",
      "       [-18.370537, -18.354282, -18.360264, ..., -13.423541, -13.832775,\n",
      "        -14.486678],\n",
      "       [-18.410028, -18.371195, -18.364223, ..., -14.899334, -15.363706,\n",
      "        -16.039232],\n",
      "       [-18.41251 , -18.407074, -18.399355, ..., -16.423122, -16.921602,\n",
      "        -17.850458]], dtype=float32), 'filename': b'train_curated/audio_22050hz/1089aeec.tf', 'labels': b'17', 'times': array([0.       , 1.9911112], dtype=float32)}, {'data': array([[-18.420454, -18.3106  , -18.226353, ..., -18.34315 , -18.358091,\n",
      "        -18.354628],\n",
      "       [-18.420515, -18.339067, -18.275074, ..., -18.36344 , -18.374563,\n",
      "        -18.371988],\n",
      "       [-18.29477 , -18.25705 , -17.89514 , ..., -18.397604, -18.416666,\n",
      "        -18.415869],\n",
      "       ...,\n",
      "       [-18.375034, -18.395164, -18.355993, ..., -18.388952, -18.398438,\n",
      "        -18.38947 ],\n",
      "       [-18.369057, -18.38238 , -18.36056 , ..., -18.376144, -18.38947 ,\n",
      "        -18.404629],\n",
      "       [-18.352797, -18.392036, -18.398373, ..., -18.391472, -18.386206,\n",
      "        -18.378202]], dtype=float32), 'filename': b'train_curated/audio_22050hz/1089aeec.tf', 'labels': b'17', 'times': array([0.998458 , 2.9895692], dtype=float32)}, {'data': array([[-11.534894, -12.306981, -11.523742, ..., -18.367426, -18.32409 ,\n",
      "        -18.386469],\n",
      "       [-11.8482  , -12.619848, -11.837051, ..., -18.381489, -18.349192,\n",
      "        -18.395565],\n",
      "       [ -9.096258,  -9.996862,  -9.524565, ..., -18.41164 , -18.358856,\n",
      "        -18.318945],\n",
      "       ...,\n",
      "       [-15.765833, -15.728734, -14.829254, ..., -18.392023, -18.356924,\n",
      "        -18.375336],\n",
      "       [-17.049088, -17.65641 , -17.615232, ..., -18.396517, -18.374472,\n",
      "        -18.377607],\n",
      "       [-17.842293, -17.928404, -18.139355, ..., -18.386076, -18.389448,\n",
      "        -18.389666]], dtype=float32), 'filename': b'train_curated/audio_22050hz/1089aeec.tf', 'labels': b'17', 'times': array([1.996916, 3.988027], dtype=float32)}, {'data': array([[-18.369516, -18.394634, -18.363132, ..., -18.409477, -18.382627,\n",
      "        -18.15724 ],\n",
      "       [-18.383038, -18.40158 , -18.378305, ..., -18.412481, -18.39273 ,\n",
      "        -18.221626],\n",
      "       [-18.382307, -18.252903, -18.293262, ..., -18.41952 , -18.340244,\n",
      "        -18.197094],\n",
      "       ...,\n",
      "       [-18.400082, -18.37579 , -18.373861, ..., -18.385313, -18.392775,\n",
      "        -18.386988],\n",
      "       [-18.399752, -18.383526, -18.37365 , ..., -18.383972, -18.392494,\n",
      "        -18.386282],\n",
      "       [-18.376322, -18.397392, -18.386389, ..., -18.381788, -18.392809,\n",
      "        -18.394325]], dtype=float32), 'filename': b'train_curated/audio_22050hz/1089aeec.tf', 'labels': b'17', 'times': array([2.9953742, 4.9864855], dtype=float32)}, {'data': array([[-18.405933, -18.410164, -18.40943 , ..., -11.280751, -12.102888,\n",
      "        -12.992652],\n",
      "       [-18.409882, -18.412985, -18.412447, ..., -11.594142, -12.415906,\n",
      "        -13.304717],\n",
      "       [-18.376465, -18.41815 , -18.392109, ..., -12.440414, -11.398923,\n",
      "        -12.091916],\n",
      "       ...,\n",
      "       [-18.378046, -18.32722 , -18.32631 , ..., -16.404142, -16.444937,\n",
      "        -16.093018],\n",
      "       [-18.39677 , -18.362366, -18.379515, ..., -16.849035, -17.396431,\n",
      "        -17.262846],\n",
      "       [-18.401506, -18.407022, -18.397572, ..., -17.810043, -18.205404,\n",
      "        -18.200695]], dtype=float32), 'filename': b'train_curated/audio_22050hz/1089aeec.tf', 'labels': b'17', 'times': array([3.993832 , 5.9849434], dtype=float32)}, {'data': array([[-18.109194, -18.323874, -18.378784, ..., -11.692024, -11.420661,\n",
      "        -10.901991],\n",
      "       [-18.183985, -18.349031, -18.389893, ..., -12.005266, -11.734008,\n",
      "        -11.215473],\n",
      "       [-18.258635, -18.376446, -18.369934, ...,  -8.870451,  -8.344722,\n",
      "         -8.597302],\n",
      "       ...,\n",
      "       [-18.368073, -18.354885, -18.380749, ..., -15.99646 , -16.66464 ,\n",
      "        -16.446705],\n",
      "       [-18.375048, -18.388033, -18.394945, ..., -16.066866, -16.565641,\n",
      "        -16.772131],\n",
      "       [-18.368944, -18.385307, -18.385174, ..., -17.670853, -17.818722,\n",
      "        -17.713598]], dtype=float32), 'filename': b'train_curated/audio_22050hz/1089aeec.tf', 'labels': b'17', 'times': array([4.99229  , 6.9834013], dtype=float32)}, {'data': array([[-10.85909 , -13.019936, -13.417846, ..., -18.35763 , -18.36944 ,\n",
      "        -18.412588],\n",
      "       [-11.172581, -13.331956, -13.729055, ..., -18.37422 , -18.38298 ,\n",
      "        -18.41476 ],\n",
      "       [ -9.722519,  -8.972573,  -9.000696, ..., -18.284716, -18.354095,\n",
      "        -18.372435],\n",
      "       ...,\n",
      "       [-16.33131 , -15.896037, -15.981829, ..., -18.383238, -18.339941,\n",
      "        -18.378881],\n",
      "       [-17.029121, -16.76724 , -16.512077, ..., -18.387186, -18.355785,\n",
      "        -18.38825 ],\n",
      "       [-17.956907, -17.972746, -17.70493 , ..., -18.374502, -18.363613,\n",
      "        -18.386583]], dtype=float32), 'filename': b'train_curated/audio_22050hz/1089aeec.tf', 'labels': b'17', 'times': array([5.9907484, 7.981859 ], dtype=float32)}, {'data': array([[-11.200927, -11.021759, -10.295704, ..., -18.409771, -18.342127,\n",
      "        -18.400633],\n",
      "       [-11.514339, -11.335216, -10.609277, ..., -18.412697, -18.362679,\n",
      "        -18.40599 ],\n",
      "       [-11.045324,  -8.29162 ,  -7.906223, ..., -18.383755, -18.277113,\n",
      "        -18.329725],\n",
      "       ...,\n",
      "       [-16.641653, -16.505856, -16.61289 , ..., -18.28268 , -18.367216,\n",
      "        -18.397121],\n",
      "       [-16.753874, -15.905054, -16.618336, ..., -18.372938, -18.37578 ,\n",
      "        -18.400599],\n",
      "       [-17.727558, -17.207075, -17.351578, ..., -18.38385 , -18.381992,\n",
      "        -18.392338]], dtype=float32), 'filename': b'train_curated/audio_22050hz/1089aeec.tf', 'labels': b'17', 'times': array([6.9892063, 8.980317 ], dtype=float32)}, {'data': array([[-18.31543 , -18.353956, -18.420097, ..., -10.630433, -12.256345,\n",
      "        -13.848043],\n",
      "       [-18.342697, -18.371489, -18.420254, ..., -10.943963, -12.569252,\n",
      "        -14.157927],\n",
      "       [-18.229336, -18.277487, -18.38639 , ...,  -9.148151, -10.848703,\n",
      "        -10.670839],\n",
      "       ...,\n",
      "       [-18.394957, -18.38934 , -18.384176, ..., -17.31004 , -16.711323,\n",
      "        -16.564   ],\n",
      "       [-18.377241, -18.339321, -18.371496, ..., -17.194916, -17.314426,\n",
      "        -17.278625],\n",
      "       [-18.349667, -18.350988, -18.360327, ..., -17.530523, -17.598646,\n",
      "        -17.881346]], dtype=float32), 'filename': b'train_curated/audio_22050hz/1089aeec.tf', 'labels': b'17', 'times': array([7.987664, 9.978776], dtype=float32)}, {'data': array([[-18.378727 , -18.358902 , -18.374432 , ...,  -8.979426 ,\n",
      "         -8.899356 ,  -8.911586 ],\n",
      "       [-18.38985  , -18.375164 , -18.386675 , ...,  -9.293079 ,\n",
      "         -9.213011 ,  -9.225241 ],\n",
      "       [-18.320677 , -18.26731  , -18.340044 , ...,  -7.1785374,\n",
      "         -7.8568444,  -7.630207 ],\n",
      "       ...,\n",
      "       [-18.402914 , -18.39118  , -18.385117 , ..., -16.335588 ,\n",
      "        -15.99362  , -15.916186 ],\n",
      "       [-18.399872 , -18.368706 , -18.388453 , ..., -16.695887 ,\n",
      "        -17.09442  , -16.636187 ],\n",
      "       [-18.3997   , -18.398178 , -18.402575 , ..., -17.584698 ,\n",
      "        -17.565594 , -17.491615 ]], dtype=float32), 'filename': b'train_curated/audio_22050hz/1089aeec.tf', 'labels': b'17', 'times': array([ 8.986122, 10.977234], dtype=float32)}, {'data': array([[-11.849375, -12.002925, -10.793507, ..., -18.389757, -18.41802 ,\n",
      "        -18.396645],\n",
      "       [-12.162541, -12.316006, -11.107009, ..., -18.39799 , -18.418736,\n",
      "        -18.403059],\n",
      "       [-10.05089 , -11.274205, -10.280308, ..., -18.251694, -18.405636,\n",
      "        -18.397125],\n",
      "       ...,\n",
      "       [-16.52861 , -16.448793, -16.66224 , ..., -18.333918, -18.343369,\n",
      "        -18.381504],\n",
      "       [-17.514725, -17.668795, -17.700508, ..., -18.35408 , -18.332901,\n",
      "        -18.392864],\n",
      "       [-17.99163 , -18.148615, -18.121843, ..., -18.377033, -18.388752,\n",
      "        -18.396568]], dtype=float32), 'filename': b'train_curated/audio_22050hz/1089aeec.tf', 'labels': b'17', 'times': array([ 9.98458 , 11.975692], dtype=float32)}, {'data': array([[ -8.925716,  -9.919799, -12.834282, ..., -10.902656, -13.379832,\n",
      "        -10.676944],\n",
      "       [ -9.239371, -10.233406, -13.146584, ..., -11.216138, -13.691134,\n",
      "        -10.990466],\n",
      "       [ -7.88005 ,  -9.521726,  -9.509456, ...,  -8.348169,  -9.973516,\n",
      "        -10.067094],\n",
      "       ...,\n",
      "       [-16.151548, -17.150537, -16.948858, ..., -16.807032, -16.37056 ,\n",
      "        -16.164537],\n",
      "       [-16.720629, -16.951025, -17.441895, ..., -16.769968, -16.650217,\n",
      "        -16.471113],\n",
      "       [-17.607225, -17.714172, -17.829586, ..., -17.926067, -18.153275,\n",
      "        -17.66541 ]], dtype=float32), 'filename': b'train_curated/audio_22050hz/1089aeec.tf', 'labels': b'17', 'times': array([10.983039, 12.97415 ], dtype=float32)}, {'data': array([[-18.327204, -18.295815, -18.389133, ..., -16.620024, -17.369852,\n",
      "        -17.760796],\n",
      "       [-18.351524, -18.32793 , -18.39753 , ..., -16.874622, -17.562353,\n",
      "        -17.900139],\n",
      "       [-18.331242, -18.231348, -18.354548, ..., -13.735123, -14.906898,\n",
      "        -15.699284],\n",
      "       ...,\n",
      "       [-18.389297, -18.375391, -18.400843, ..., -18.305094, -18.344639,\n",
      "        -18.369236],\n",
      "       [-18.387619, -18.36752 , -18.399292, ..., -18.36039 , -18.342867,\n",
      "        -18.33335 ],\n",
      "       [-18.402826, -18.400473, -18.404865, ..., -18.355953, -18.355457,\n",
      "        -18.367033]], dtype=float32), 'filename': b'train_curated/audio_22050hz/1089aeec.tf', 'labels': b'17', 'times': array([11.981497, 13.972608], dtype=float32)}, {'data': array([[-10.057133 ,  -9.6494875,  -9.890901 , ..., -11.302173 ,\n",
      "        -11.775733 , -10.220103 ],\n",
      "       [-10.370729 ,  -9.963113 , -10.20451  , ..., -11.615557 ,\n",
      "        -12.088937 , -10.533685 ],\n",
      "       [ -8.287005 ,  -9.523703 ,  -9.147879 , ...,  -9.33676  ,\n",
      "         -8.977174 ,  -8.043287 ],\n",
      "       ...,\n",
      "       [-16.975256 , -16.665165 , -16.442396 , ..., -16.563791 ,\n",
      "        -16.786291 , -16.038134 ],\n",
      "       [-17.087831 , -16.913168 , -16.377556 , ..., -17.288874 ,\n",
      "        -17.229979 , -17.021841 ],\n",
      "       [-17.961842 , -18.074463 , -17.92437  , ..., -17.587183 ,\n",
      "        -17.638645 , -17.694271 ]], dtype=float32), 'filename': b'train_curated/audio_22050hz/1089aeec.tf', 'labels': b'17', 'times': array([12.979955 , 14.9710655], dtype=float32)}, {'data': array([[-17.309826, -18.356949, -17.205425, ..., -18.194986, -18.176813,\n",
      "        -17.980818],\n",
      "       [-17.508997, -18.373714, -17.415382, ..., -18.25092 , -18.236849,\n",
      "        -18.081543],\n",
      "       [-15.574929, -16.387243, -16.329273, ..., -17.014002, -16.662569,\n",
      "        -17.481417],\n",
      "       ...,\n",
      "       [-18.378124, -18.361437, -18.296612, ..., -18.356817, -18.376234,\n",
      "        -18.342947],\n",
      "       [-18.340857, -18.312084, -18.339754, ..., -18.352577, -18.352589,\n",
      "        -18.347174],\n",
      "       [-18.392534, -18.385372, -18.374418, ..., -18.377699, -18.379194,\n",
      "        -18.383755]], dtype=float32), 'filename': b'train_curated/audio_22050hz/1089aeec.tf', 'labels': b'17', 'times': array([13.978413, 15.969523], dtype=float32)}, {'data': array([[-10.317799 , -11.976389 ,  -9.699534 , ..., -18.420681 ,\n",
      "        -18.420681 , -18.420681 ],\n",
      "       [-10.63137  , -12.289486 , -10.013157 , ..., -18.420681 ,\n",
      "        -18.420681 , -18.420681 ],\n",
      "       [ -7.175703 ,  -7.2992086,  -7.738221 , ..., -18.420681 ,\n",
      "        -18.420681 , -18.420681 ],\n",
      "       ...,\n",
      "       [-15.889529 , -16.455635 , -16.442703 , ..., -18.420681 ,\n",
      "        -18.420681 , -18.420681 ],\n",
      "       [-16.87927  , -17.266579 , -16.61371  , ..., -18.420681 ,\n",
      "        -18.420681 , -18.420681 ],\n",
      "       [-17.743654 , -17.926651 , -17.718933 , ..., -18.420681 ,\n",
      "        -18.420681 , -18.420681 ]], dtype=float32), 'filename': b'train_curated/audio_22050hz/1089aeec.tf', 'labels': b'17', 'times': array([14.976871, 16.272018], dtype=float32)}]\n"
     ]
    }
   ],
   "source": [
    "someexamples = tf_utils.tfrecord2example(sometfrecord, feature_extractor)\n",
    "print(someexamples)"
   ]
  },
  {
   "cell_type": "code",
   "execution_count": 24,
   "metadata": {},
   "outputs": [
    {
     "data": {
      "text/plain": [
       "<matplotlib.axes._subplots.AxesSubplot at 0x7efe8d7352e8>"
      ]
     },
     "execution_count": 24,
     "metadata": {},
     "output_type": "execute_result"
    },
    {
     "data": {
      "image/png": "[encoded data removed]",
      "text/plain": [
       "<Figure size 432x288 with 1 Axes>"
      ]
     },
     "metadata": {
      "needs_background": "light"
     },
     "output_type": "display_data"
    }
   ],
   "source": [
    "# First example in the TFRecord\n",
    "feature_extractor.plot(someexamples[0]['data'])"
   ]
  },
  {
   "cell_type": "markdown",
   "metadata": {},
   "source": [
    "## 1.5 - Check some other TFRecord"
   ]
  },
  {
   "cell_type": "code",
   "execution_count": 25,
   "metadata": {},
   "outputs": [
    {
     "name": "stdout",
     "output_type": "stream",
     "text": [
      "/home/jul/data/freesound-audio-tagging-2019/custom_subsets/subset_1571241326/features/positive/train_curated/audio_22050hz/328626b4.tf\n"
     ]
    }
   ],
   "source": [
    "someothertfrecord = os.path.join(\n",
    "    sometfrecord_path,\n",
    "    random.sample(os.listdir(sometfrecord_path), 1)[0]\n",
    ")\n",
    "print(someothertfrecord)"
   ]
  },
  {
   "cell_type": "markdown",
   "metadata": {},
   "source": [
    "### As examples"
   ]
  },
  {
   "cell_type": "code",
   "execution_count": 26,
   "metadata": {},
   "outputs": [],
   "source": [
    "otherexamples = tf_utils.tfrecord2example(someothertfrecord, feature_extractor)"
   ]
  },
  {
   "cell_type": "code",
   "execution_count": 27,
   "metadata": {},
   "outputs": [
    {
     "name": "stdout",
     "output_type": "stream",
     "text": [
      "[{'data': array([[-18.420681, -18.420681, -18.420681, ..., -18.420681, -18.420681,\n",
      "        -17.907999],\n",
      "       [-18.420681, -18.420681, -18.420681, ..., -18.420681, -18.420681,\n",
      "        -18.022287],\n",
      "       [-18.420681, -18.420681, -18.420681, ..., -18.420681, -18.420681,\n",
      "        -17.69262 ],\n",
      "       ...,\n",
      "       [-18.420681, -18.420681, -18.420681, ..., -18.420681, -18.420681,\n",
      "        -18.379234],\n",
      "       [-18.420681, -18.420681, -18.420681, ..., -18.420681, -18.420681,\n",
      "        -18.410856],\n",
      "       [-18.420681, -18.420681, -18.420681, ..., -18.420681, -18.420681,\n",
      "        -18.418726]], dtype=float32), 'filename': b'train_curated/audio_22050hz/328626b4.tf', 'labels': b'22', 'times': array([0.       , 1.9911112], dtype=float32)}, {'data': array([[-18.420681 , -18.420681 , -18.420681 , ..., -18.38675  ,\n",
      "        -18.418127 , -18.411533 ],\n",
      "       [-18.420681 , -18.420681 , -18.420681 , ..., -18.395773 ,\n",
      "        -18.418814 , -18.413988 ],\n",
      "       [-18.420681 , -18.420681 , -18.420681 , ..., -18.368956 ,\n",
      "        -18.350111 , -18.355297 ],\n",
      "       ...,\n",
      "       [-18.420681 , -18.420681 , -18.420681 , ...,  -8.6664715,\n",
      "         -3.2351592,  -0.8270583],\n",
      "       [-18.420681 , -18.420681 , -18.420681 , ...,  -8.068419 ,\n",
      "         -3.2918801,  -1.1930568],\n",
      "       [-18.420681 , -18.420681 , -18.420681 , ...,  -8.394531 ,\n",
      "         -4.7923994,  -3.9732533]], dtype=float32), 'filename': b'train_curated/audio_22050hz/328626b4.tf', 'labels': b'22', 'times': array([0.998458 , 2.9895692], dtype=float32)}, {'data': array([[-15.19653  , -15.18937  , -17.895683 , ..., -18.268711 ,\n",
      "        -18.368732 , -18.408812 ],\n",
      "       [-15.495658 , -15.488601 , -18.012186 , ..., -18.307411 ,\n",
      "        -18.382456 , -18.411993 ],\n",
      "       [-14.750755 , -14.775636 , -17.629974 , ..., -18.40151  ,\n",
      "        -18.407593 , -18.388996 ],\n",
      "       ...,\n",
      "       [-16.875923 , -16.234163 , -15.504157 , ..., -14.670546 ,\n",
      "        -15.283466 , -15.441195 ],\n",
      "       [-17.457148 , -16.580696 , -15.2395   , ..., -15.447548 ,\n",
      "        -16.303198 , -15.894781 ],\n",
      "       [-17.976593 , -17.334871 , -15.6764765, ..., -16.200594 ,\n",
      "        -17.253819 , -16.983309 ]], dtype=float32), 'filename': b'train_curated/audio_22050hz/328626b4.tf', 'labels': b'22', 'times': array([1.996916, 3.988027], dtype=float32)}, {'data': array([[-18.416073 , -18.39629  , -18.409512 , ..., -18.420681 ,\n",
      "        -18.420681 , -18.420681 ],\n",
      "       [-18.41731  , -18.4028   , -18.412506 , ..., -18.420681 ,\n",
      "        -18.420681 , -18.420681 ],\n",
      "       [-18.367231 , -18.412127 , -18.414083 , ..., -18.420681 ,\n",
      "        -18.420681 , -18.420681 ],\n",
      "       ...,\n",
      "       [ -0.5378406,  -2.7141583,  -4.8733387, ..., -18.420681 ,\n",
      "        -18.420681 , -18.420681 ],\n",
      "       [ -1.6773939,  -5.249077 ,  -4.600676 , ..., -18.420681 ,\n",
      "        -18.420681 , -18.420681 ],\n",
      "       [ -5.6443257,  -8.218915 ,  -5.1980977, ..., -18.420681 ,\n",
      "        -18.420681 , -18.420681 ]], dtype=float32), 'filename': b'train_curated/audio_22050hz/328626b4.tf', 'labels': b'22', 'times': array([2.9953742, 4.291338 ], dtype=float32)}]\n"
     ]
    }
   ],
   "source": [
    "print(otherexamples)"
   ]
  },
  {
   "cell_type": "markdown",
   "metadata": {},
   "source": [
    "### As input (features + one-hot encoded labels) to the model"
   ]
  },
  {
   "cell_type": "code",
   "execution_count": 28,
   "metadata": {},
   "outputs": [],
   "source": [
    "subset_class_list = sorted(list(subset_label_set)) # labels are one-hot encoded according to this list"
   ]
  },
  {
   "cell_type": "code",
   "execution_count": 29,
   "metadata": {},
   "outputs": [
    {
     "name": "stdout",
     "output_type": "stream",
     "text": [
      "[17, 22, 26, 34, 39, 41, 45, 46, 48, 74]\n"
     ]
    }
   ],
   "source": [
    "print(subset_class_list)"
   ]
  },
  {
   "cell_type": "code",
   "execution_count": 30,
   "metadata": {},
   "outputs": [
    {
     "name": "stderr",
     "output_type": "stream",
     "text": [
      "W1016 18:12:40.532290 139633882945344 deprecation.py:323] From /home/jul/dev/phaunos_ml/phaunos_ml/utils/tf_utils.py:143: add_dispatch_support.<locals>.wrapper (from tensorflow.python.ops.array_ops) is deprecated and will be removed in a future version.\n",
      "Instructions for updating:\n",
      "Use tf.where in 2.0, which has the same broadcast rule as np.where\n"
     ]
    }
   ],
   "source": [
    "example_as_input = tf_utils.tfrecord2data(someothertfrecord, feature_extractor, subset_class_list)"
   ]
  },
  {
   "cell_type": "code",
   "execution_count": 31,
   "metadata": {},
   "outputs": [
    {
     "name": "stdout",
     "output_type": "stream",
     "text": [
      "[(array([[[-18.420681, -18.420681, -18.420681, ..., -18.420681,\n",
      "         -18.420681, -17.907999],\n",
      "        [-18.420681, -18.420681, -18.420681, ..., -18.420681,\n",
      "         -18.420681, -18.022287],\n",
      "        [-18.420681, -18.420681, -18.420681, ..., -18.420681,\n",
      "         -18.420681, -17.69262 ],\n",
      "        ...,\n",
      "        [-18.420681, -18.420681, -18.420681, ..., -18.420681,\n",
      "         -18.420681, -18.379234],\n",
      "        [-18.420681, -18.420681, -18.420681, ..., -18.420681,\n",
      "         -18.420681, -18.410856],\n",
      "        [-18.420681, -18.420681, -18.420681, ..., -18.420681,\n",
      "         -18.420681, -18.418726]]], dtype=float32), array([0., 1., 0., 0., 0., 0., 0., 0., 0., 0.], dtype=float32)), (array([[[-18.420681 , -18.420681 , -18.420681 , ..., -18.38675  ,\n",
      "         -18.418127 , -18.411533 ],\n",
      "        [-18.420681 , -18.420681 , -18.420681 , ..., -18.395773 ,\n",
      "         -18.418814 , -18.413988 ],\n",
      "        [-18.420681 , -18.420681 , -18.420681 , ..., -18.368956 ,\n",
      "         -18.350111 , -18.355297 ],\n",
      "        ...,\n",
      "        [-18.420681 , -18.420681 , -18.420681 , ...,  -8.6664715,\n",
      "          -3.2351592,  -0.8270583],\n",
      "        [-18.420681 , -18.420681 , -18.420681 , ...,  -8.068419 ,\n",
      "          -3.2918801,  -1.1930568],\n",
      "        [-18.420681 , -18.420681 , -18.420681 , ...,  -8.394531 ,\n",
      "          -4.7923994,  -3.9732533]]], dtype=float32), array([0., 1., 0., 0., 0., 0., 0., 0., 0., 0.], dtype=float32)), (array([[[-15.19653  , -15.18937  , -17.895683 , ..., -18.268711 ,\n",
      "         -18.368732 , -18.408812 ],\n",
      "        [-15.495658 , -15.488601 , -18.012186 , ..., -18.307411 ,\n",
      "         -18.382456 , -18.411993 ],\n",
      "        [-14.750755 , -14.775636 , -17.629974 , ..., -18.40151  ,\n",
      "         -18.407593 , -18.388996 ],\n",
      "        ...,\n",
      "        [-16.875923 , -16.234163 , -15.504157 , ..., -14.670546 ,\n",
      "         -15.283466 , -15.441195 ],\n",
      "        [-17.457148 , -16.580696 , -15.2395   , ..., -15.447548 ,\n",
      "         -16.303198 , -15.894781 ],\n",
      "        [-17.976593 , -17.334871 , -15.6764765, ..., -16.200594 ,\n",
      "         -17.253819 , -16.983309 ]]], dtype=float32), array([0., 1., 0., 0., 0., 0., 0., 0., 0., 0.], dtype=float32)), (array([[[-18.416073 , -18.39629  , -18.409512 , ..., -18.420681 ,\n",
      "         -18.420681 , -18.420681 ],\n",
      "        [-18.41731  , -18.4028   , -18.412506 , ..., -18.420681 ,\n",
      "         -18.420681 , -18.420681 ],\n",
      "        [-18.367231 , -18.412127 , -18.414083 , ..., -18.420681 ,\n",
      "         -18.420681 , -18.420681 ],\n",
      "        ...,\n",
      "        [ -0.5378406,  -2.7141583,  -4.8733387, ..., -18.420681 ,\n",
      "         -18.420681 , -18.420681 ],\n",
      "        [ -1.6773939,  -5.249077 ,  -4.600676 , ..., -18.420681 ,\n",
      "         -18.420681 , -18.420681 ],\n",
      "        [ -5.6443257,  -8.218915 ,  -5.1980977, ..., -18.420681 ,\n",
      "         -18.420681 , -18.420681 ]]], dtype=float32), array([0., 1., 0., 0., 0., 0., 0., 0., 0., 0.], dtype=float32))]\n"
     ]
    }
   ],
   "source": [
    "# model_input is a list of tuple (<features>, <one-hot encoded labels>)\n",
    "print(example_as_input)"
   ]
  },
  {
   "cell_type": "code",
   "execution_count": 32,
   "metadata": {},
   "outputs": [
    {
     "data": {
      "image/png": "[encoded data removed]",
      "text/plain": [
       "<Figure size 432x288 with 1 Axes>"
      ]
     },
     "metadata": {
      "needs_background": "light"
     },
     "output_type": "display_data"
    },
    {
     "data": {
      "image/png": "[encoded data removed]",
      "text/plain": [
       "<Figure size 432x288 with 1 Axes>"
      ]
     },
     "metadata": {
      "needs_background": "light"
     },
     "output_type": "display_data"
    },
    {
     "data": {
      "image/png": "[encoded data removed]",
      "text/plain": [
       "<Figure size 432x288 with 1 Axes>"
      ]
     },
     "metadata": {
      "needs_background": "light"
     },
     "output_type": "display_data"
    }
   ],
   "source": [
    "# Plot features for random examples from the selected file\n",
    "ind = sorted(random.sample(range(len(example_as_input)),min(len(example_as_input), 3)))\n",
    "for i in ind:    \n",
    "    plt.figure()\n",
    "    feature_extractor.plot(example_as_input[i][0][0])\n",
    "    plt.title(f'Example {i}')"
   ]
  },
  {
   "cell_type": "markdown",
   "metadata": {},
   "source": [
    "# 2 - Training"
   ]
  },
  {
   "cell_type": "markdown",
   "metadata": {},
   "source": [
    "## 2.1 - Generate a train/valid split to monitor the performance on unseen data"
   ]
  },
  {
   "cell_type": "code",
   "execution_count": 33,
   "metadata": {},
   "outputs": [],
   "source": [
    "from phaunos_ml.utils.dataset_utils import split_dataset"
   ]
  },
  {
   "cell_type": "code",
   "execution_count": 34,
   "metadata": {},
   "outputs": [
    {
     "name": "stdout",
     "output_type": "stream",
     "text": [
      "/home/jul/data/freesound-audio-tagging-2019/custom_subsets/subset_1571241326/subset_1571241326.train.csv written\n",
      "/home/jul/data/freesound-audio-tagging-2019/custom_subsets/subset_1571241326/subset_1571241326.test.csv written\n"
     ]
    }
   ],
   "source": [
    "# This generates 2 files,\n",
    "# /subset/path/subset_name.train.csv containing 80% of the data (training dataset)\n",
    "# /subset/path/subset_name.test.csv containing 20% of the data (validation dataset, to select the model)\n",
    "split_dataset(ROOT_PATH, subset_filename, audio_dirname='audio_22050hz', test_size=0.2)"
   ]
  },
  {
   "cell_type": "markdown",
   "metadata": {},
   "source": [
    "## 2.2 - Count the number of batches in the train and valid sets"
   ]
  },
  {
   "cell_type": "code",
   "execution_count": 35,
   "metadata": {},
   "outputs": [],
   "source": [
    "from phaunos_ml.utils.dataset_utils import dataset_stat_per_example\n",
    "BATCH_SIZE = 32"
   ]
  },
  {
   "cell_type": "code",
   "execution_count": 37,
   "metadata": {},
   "outputs": [
    {
     "name": "stdout",
     "output_type": "stream",
     "text": [
      "Num training batches: 1184 (i.e. 37888 examples)\n",
      "Class 17: 3915 examples\n",
      "Class 22: 4306 examples\n",
      "Class 26: 3621 examples\n",
      "Class 34: 3439 examples\n",
      "Class 39: 3738 examples\n",
      "Class 41: 3508 examples\n",
      "Class 45: 3713 examples\n",
      "Class 46: 3547 examples\n",
      "Class 48: 4169 examples\n",
      "Class 74: 4297 examples\n",
      "37888 <= 38253\n"
     ]
    }
   ],
   "source": [
    "# training set\n",
    "n_train_batches, n_train_examples_per_class = dataset_stat_per_example(\n",
    "    ROOT_PATH,\n",
    "    subset_filename.replace('.csv', '.train.csv'),\n",
    "    os.path.join(os.path.dirname(subset_filename), 'features/positive'),\n",
    "    feature_extractor.feature_shape,\n",
    "    subset_class_list,\n",
    "    audio_dirname='audio_22050hz',\n",
    "    batch_size=BATCH_SIZE)\n",
    "print(f'Num training batches: {n_train_batches} (i.e. {n_train_batches * BATCH_SIZE} examples)')\n",
    "for c, n in zip(subset_class_list, n_train_examples_per_class):\n",
    "    print(f'Class {c:2}: {n} examples')\n",
    "# Note: the number of examples n_train_batches * BATCH_SIZE is <= to sum(n_train_examples_per_class)\n",
    "# because data is multilabel\n",
    "print(f'{n_train_batches * BATCH_SIZE} <= {np.sum(n_train_examples_per_class)}')"
   ]
  },
  {
   "cell_type": "code",
   "execution_count": 38,
   "metadata": {},
   "outputs": [
    {
     "name": "stdout",
     "output_type": "stream",
     "text": [
      "Num valid batches: 334 (i.e. 10688 examples)\n",
      "Class 17: 1081 examples\n",
      "Class 22: 1052 examples\n",
      "Class 26: 986 examples\n",
      "Class 34: 1122 examples\n",
      "Class 39: 1072 examples\n",
      "Class 41: 1108 examples\n",
      "Class 45: 1123 examples\n",
      "Class 46: 1111 examples\n",
      "Class 48: 1011 examples\n",
      "Class 74: 1102 examples\n",
      "10688 <= 10768\n"
     ]
    }
   ],
   "source": [
    "# valid set\n",
    "n_valid_batches, n_valid_examples_per_class = dataset_stat_per_example(\n",
    "    ROOT_PATH,\n",
    "    subset_filename.replace('.csv', '.test.csv'),\n",
    "    os.path.join(os.path.dirname(subset_filename), 'features/positive'),\n",
    "    feature_extractor.feature_shape,\n",
    "    subset_class_list,\n",
    "    audio_dirname='audio_22050hz',\n",
    "    batch_size=BATCH_SIZE)\n",
    "print(f'Num valid batches: {n_valid_batches} (i.e. {n_valid_batches * BATCH_SIZE} examples)')\n",
    "for c, n in zip(subset_class_list, n_valid_examples_per_class):\n",
    "    print(f'Class {c:2}: {n} examples')\n",
    "# Note: the number of examples n_valid_batches * BATCH_SIZE is <= to sum(n_valid_examples_per_class)\n",
    "# because data is multilabel\n",
    "print(f'{n_valid_batches * BATCH_SIZE} <= {np.sum(n_valid_examples_per_class)}')"
   ]
  },
  {
   "cell_type": "markdown",
   "metadata": {},
   "source": [
    "## 2.3 - Write feature extraction and training config files"
   ]
  },
  {
   "cell_type": "code",
   "execution_count": 40,
   "metadata": {},
   "outputs": [],
   "source": [
    "import json\n",
    "\n",
    "EPOCHS = 10"
   ]
  },
  {
   "cell_type": "code",
   "execution_count": 41,
   "metadata": {},
   "outputs": [],
   "source": [
    "# Write feature extractor's config file\n",
    "feature_extractor.config2file(os.path.join(subset_dir, 'features/positive', 'featex_config.json'))"
   ]
  },
  {
   "cell_type": "code",
   "execution_count": 42,
   "metadata": {},
   "outputs": [],
   "source": [
    "# Write training config file\n",
    "\n",
    "training_dir = os.path.join(subset_dir, 'training')\n",
    "\n",
    "training_config = {}\n",
    "training_config['root_path'] = ROOT_PATH\n",
    "training_config['feature_path'] = os.path.join(subset_dir, 'features/positive')\n",
    "training_config['train_set_file'] = subset_filename.replace('.csv', '.train.csv')\n",
    "training_config['audio_dirname'] = 'audio_22050hz'\n",
    "training_config['annotation_dirname'] = 'annotations'\n",
    "training_config['n_train_batches'] = n_train_batches\n",
    "training_config['batch_size'] = BATCH_SIZE\n",
    "training_config['multilabel'] = True\n",
    "training_config['epochs'] = EPOCHS\n",
    "training_config['out_dir'] = training_dir\n",
    "training_config['valid_set_file'] = subset_filename.replace('.csv', '.test.csv')\n",
    "training_config['n_valid_batches'] = n_valid_batches\n",
    "\n",
    "training_config_path = os.path.join(training_dir, 'training_config.json')\n",
    "os.makedirs(training_dir)\n",
    "\n",
    "with open(training_config_path, 'w') as training_config_file:\n",
    "    json.dump(training_config, training_config_file)"
   ]
  },
  {
   "cell_type": "markdown",
   "metadata": {},
   "source": [
    "## 2.4 - Train"
   ]
  },
  {
   "cell_type": "code",
   "execution_count": 43,
   "metadata": {},
   "outputs": [],
   "source": [
    "from phaunos_ml import train"
   ]
  },
  {
   "cell_type": "code",
   "execution_count": null,
   "metadata": {},
   "outputs": [
    {
     "name": "stderr",
     "output_type": "stream",
     "text": [
      "W1016 18:19:00.724389 139633882945344 deprecation.py:506] From /home/jul/.miniconda3/envs/phaunos_ml/lib/python3.6/site-packages/tensorflow/python/ops/init_ops.py:1251: calling VarianceScaling.__init__ (from tensorflow.python.ops.init_ops) with dtype is deprecated and will be removed in a future version.\n",
      "Instructions for updating:\n",
      "Call initializer instance with the dtype argument instead of passing it to the constructor\n"
     ]
    },
    {
     "name": "stdout",
     "output_type": "stream",
     "text": [
      "Model: \"model\"\n",
      "_________________________________________________________________\n",
      "Layer (type)                 Output Shape              Param #   \n",
      "=================================================================\n",
      "mels (InputLayer)            [(32, 1, 128, 344)]       0         \n",
      "_________________________________________________________________\n",
      "l1_conv (Conv2D)             (32, 32, 126, 342)        288       \n",
      "_________________________________________________________________\n",
      "l1_bn (BatchNormalization)   (32, 32, 126, 342)        96        \n",
      "_________________________________________________________________\n",
      "l1 (Activation)              (32, 32, 126, 342)        0         \n",
      "_________________________________________________________________\n",
      "l1_mp (MaxPooling2D)         (32, 32, 62, 170)         0         \n",
      "_________________________________________________________________\n",
      "l2_conv (Conv2D)             (32, 32, 58, 166)         25600     \n",
      "_________________________________________________________________\n",
      "l2_bn (BatchNormalization)   (32, 32, 58, 166)         96        \n",
      "_________________________________________________________________\n",
      "l2 (Activation)              (32, 32, 58, 166)         0         \n",
      "_________________________________________________________________\n",
      "l2_mp (MaxPooling2D)         (32, 32, 18, 54)          0         \n",
      "_________________________________________________________________\n",
      "l3_conv (Conv2D)             (32, 64, 14, 50)          51200     \n",
      "_________________________________________________________________\n",
      "l3_bn (BatchNormalization)   (32, 64, 14, 50)          192       \n",
      "_________________________________________________________________\n",
      "l3 (Activation)              (32, 64, 14, 50)          0         \n",
      "_________________________________________________________________\n",
      "l3_mp (MaxPooling2D)         (32, 64, 4, 16)           0         \n",
      "_________________________________________________________________\n",
      "flatten (Flatten)            (32, 4096)                0         \n",
      "_________________________________________________________________\n",
      "logits (Dense)               (32, 100)                 409700    \n",
      "_________________________________________________________________\n",
      "dense (Dense)                (32, 78)                  7878      \n",
      "=================================================================\n",
      "Total params: 495,050\n",
      "Trainable params: 494,794\n",
      "Non-trainable params: 256\n",
      "_________________________________________________________________\n",
      "Epoch 1/10\n"
     ]
    }
   ],
   "source": [
    "train.process(training_config_path)"
   ]
  },
  {
   "cell_type": "code",
   "execution_count": null,
   "metadata": {},
   "outputs": [],
   "source": []
  }
 ],
 "metadata": {
  "kernelspec": {
   "display_name": "Python 3",
   "language": "python",
   "name": "python3"
  },
  "language_info": {
   "codemirror_mode": {
    "name": "ipython",
    "version": 3
   },
   "file_extension": ".py",
   "mimetype": "text/x-python",
   "name": "python",
   "nbconvert_exporter": "python",
   "pygments_lexer": "ipython3",
   "version": "3.6.8"
  }
 },
 "nbformat": 4,
 "nbformat_minor": 2
}
