{
 "cells": [
  {
   "cell_type": "markdown",
   "metadata": {},
   "source": [
    "[1 - Prepare the data](#1---Prepare-the-data-)<br>\n",
    "&ensp;&ensp;[1.1 - Generate annotation files](#1.1---Generate-annotation-files-(see-here))<br>\n",
    "&ensp;&ensp;[1.2 - Create a subset for fast prototyping](#1.2---Create-a-subset-for-fast-prototyping)<br>\n",
    "&ensp;&ensp;[1.3 - Compute features and write them to TFRecord](#1.3---Compute-features-and-write-them-to-TFRecord-files)<br>\n",
    "&ensp;&ensp;[1.4 - Check some TFRecord](#1.4---Check-some-TFRecord)<br>\n",
    "&ensp;&ensp;[1.5 - Check some other TFRecord](#1.5---Check-some-other-TFRecord)<br>\n",
    "[2 - Training](#2---Training)<br>\n",
    "&ensp;&ensp;[2.1 - Generate a train/valid split to monitor the performance on unseen data](#2.1---Generate-a-train/valid-split-to-monitor-the-performance-on-unseen-data)<br>\n",
    "&ensp;&ensp;[2.2 - Count the number of batches in the train and valid sets](#2.2---Count-the-number-of-batches-in-the-train-and-valid-sets)<br>\n",
    "&ensp;&ensp;[2.3 - Write feature extraction and training config files](#2.3---Write-feature-extraction-and-training-config-files)<br>\n",
    "&ensp;&ensp;[2.4 - Train](#2.4---Train)"
   ]
  },
  {
   "cell_type": "markdown",
   "metadata": {},
   "source": [
    "\n",
    "# 1 - Prepare the data\n",
    "\n",
    "Original challenge data, as found at https://www.kaggle.com/c/freesound-audio-tagging-2019/data.\n",
    "Audio data is resampled to 22050 Hz for faster prototyping."
   ]
  },
  {
   "cell_type": "code",
   "execution_count": 1,
   "metadata": {},
   "outputs": [
    {
     "name": "stdout",
     "output_type": "stream",
     "text": [
      "\u001b[01;34m/home/jul/data/freesound-audio-tagging-2019/\u001b[00m\n",
      "├── \u001b[01;34mcustom_subsets\u001b[00m\n",
      "├── \u001b[01;32msample_submission.csv\u001b[00m\n",
      "└── \u001b[01;34mtrain\u001b[00m\n",
      "    ├── \u001b[01;34mtrain_curated\u001b[00m\n",
      "    │   ├── \u001b[01;34maudio\u001b[00m\n",
      "    │   ├── \u001b[01;34maudio_22050hz\u001b[00m\n",
      "    │   └── \u001b[01;32mtrain_curated.csv\u001b[00m\n",
      "    └── \u001b[01;34mtrain_noisy\u001b[00m\n",
      "        ├── \u001b[01;34maudio\u001b[00m\n",
      "        ├── \u001b[01;34maudio_22050hz\u001b[00m\n",
      "        └── \u001b[01;32mtrain_noisy.csv\u001b[00m\n",
      "\n",
      "8 directories, 3 files\n"
     ]
    }
   ],
   "source": [
    "! tree /home/jul/data/freesound-audio-tagging-2019/ -I 'subset*|annotations*|*wav|test'"
   ]
  },
  {
   "cell_type": "markdown",
   "metadata": {},
   "source": [
    "## 1.1 - Generate annotation files (see [here](https://github.com/phaunos/phaunos_ml/blob/7fe9a4d07821a3ae0a5cdc353dc27fd332c5132c/phaunos_ml/utils/annotation_utils.py))\n",
    "\n",
    "**Note**: Using annotation files here might be overkill because the annotations are \"per file\", but this is a generic way to handle any kind of annotations, including those applied to regions of a file (i.e. with start/end times)."
   ]
  },
  {
   "cell_type": "code",
   "execution_count": 2,
   "metadata": {},
   "outputs": [],
   "source": [
    "from challenge_utils.dcase2019_task2_utils import get_class_list, generate_ann_files"
   ]
  },
  {
   "cell_type": "code",
   "execution_count": 3,
   "metadata": {},
   "outputs": [],
   "source": [
    "class_list = get_class_list('/home/jul/data/freesound-audio-tagging-2019/sample_submission.csv')"
   ]
  },
  {
   "cell_type": "code",
   "execution_count": 4,
   "metadata": {
    "scrolled": true
   },
   "outputs": [
    {
     "name": "stdout",
     "output_type": "stream",
     "text": [
      "['Accelerating_and_revving_and_vroom', 'Accordion', 'Acoustic_guitar', 'Applause', 'Bark', 'Bass_drum', 'Bass_guitar', 'Bathtub_(filling_or_washing)', 'Bicycle_bell', 'Burping_and_eructation', 'Bus', 'Buzz', 'Car_passing_by', 'Cheering', 'Chewing_and_mastication', 'Child_speech_and_kid_speaking', 'Chink_and_clink', 'Chirp_and_tweet', 'Church_bell', 'Clapping', 'Computer_keyboard', 'Crackle', 'Cricket', 'Crowd', 'Cupboard_open_or_close', 'Cutlery_and_silverware', 'Dishes_and_pots_and_pans', 'Drawer_open_or_close', 'Drip', 'Electric_guitar', 'Fart', 'Female_singing', 'Female_speech_and_woman_speaking', 'Fill_(with_liquid)', 'Finger_snapping', 'Frying_(food)', 'Gasp', 'Glockenspiel', 'Gong', 'Gurgling', 'Harmonica', 'Hi-hat', 'Hiss', 'Keys_jangling', 'Knock', 'Male_singing', 'Male_speech_and_man_speaking', 'Marimba_and_xylophone', 'Mechanical_fan', 'Meow', 'Microwave_oven', 'Motorcycle', 'Printer', 'Purr', 'Race_car_and_auto_racing', 'Raindrop', 'Run', 'Scissors', 'Screaming', 'Shatter', 'Sigh', 'Sink_(filling_or_washing)', 'Skateboard', 'Slam', 'Sneeze', 'Squeak', 'Stream', 'Strum', 'Tap', 'Tick-tock', 'Toilet_flush', 'Traffic_noise_and_roadway_noise', 'Trickle_and_dribble', 'Walk_and_footsteps', 'Water_tap_and_faucet', 'Waves_and_surf', 'Whispering', 'Writing', 'Yell', 'Zipper_(clothing)']\n"
     ]
    }
   ],
   "source": [
    "print(class_list)"
   ]
  },
  {
   "cell_type": "code",
   "execution_count": 5,
   "metadata": {},
   "outputs": [],
   "source": [
    "generate_ann_files('/home/jul/data/freesound-audio-tagging-2019/train', class_list)"
   ]
  },
  {
   "cell_type": "markdown",
   "metadata": {},
   "source": [
    "Annotation file contains all annotations of a given audio file. Each line represent a region and one or more label ids:\n",
    "    start_time,end_time(-1 if the annotation is for the whole audio file, as in our case),label_ids (joined by '#'):"
   ]
  },
  {
   "cell_type": "code",
   "execution_count": 6,
   "metadata": {},
   "outputs": [
    {
     "name": "stdout",
     "output_type": "stream",
     "text": [
      "==> /home/jul/data/freesound-audio-tagging-2019/train/train_noisy/annotations/00097e21.ann <==\r\n",
      "0.000,-1.000,7\r\n",
      "\r\n",
      "==> /home/jul/data/freesound-audio-tagging-2019/train/train_noisy/annotations/000b6cfb.ann <==\r\n",
      "0.000,-1.000,51\r\n",
      "\r\n",
      "==> /home/jul/data/freesound-audio-tagging-2019/train/train_noisy/annotations/00116cd2.ann <==\r\n",
      "0.000,-1.000,37#47\r\n",
      "head: error writing 'standard output': Broken pipe\r\n"
     ]
    }
   ],
   "source": [
    "!head -5 /home/jul/data/freesound-audio-tagging-2019/train/train_noisy/annotations/* | head -8"
   ]
  },
  {
   "cell_type": "markdown",
   "metadata": {},
   "source": [
    "## 1.2 - Create a subset for fast prototyping"
   ]
  },
  {
   "cell_type": "code",
   "execution_count": 7,
   "metadata": {},
   "outputs": [],
   "source": [
    "import numpy as np\n",
    "from phaunos_ml.utils.dataset_utils import create_subset, dataset_stat_per_file"
   ]
  },
  {
   "cell_type": "code",
   "execution_count": 8,
   "metadata": {},
   "outputs": [
    {
     "name": "stdout",
     "output_type": "stream",
     "text": [
      "{3, 70, 39, 42, 46, 15, 50, 25, 27, 62}\n"
     ]
    }
   ],
   "source": [
    "# Pick 10 classes randomly\n",
    "subset_label_set = set(np.random.choice(range(len(class_list)), 10, replace=False))\n",
    "print(subset_label_set)"
   ]
  },
  {
   "cell_type": "code",
   "execution_count": 9,
   "metadata": {},
   "outputs": [
    {
     "name": "stdout",
     "output_type": "stream",
     "text": [
      "/home/jul/data/freesound-audio-tagging-2019/custom_subsets/subset_1563962862/subset_1563962862.csv\n"
     ]
    }
   ],
   "source": [
    "# Create a data subset with all files annotated with at least one of these classes.\n",
    "subset_filename = create_subset(\n",
    "    '/home/jul/data/freesound-audio-tagging-2019/train/',\n",
    "    ['train_noisy', 'train_curated'],\n",
    "    '/home/jul/data/freesound-audio-tagging-2019/custom_subsets',\n",
    "    audio_dirname='audio_22050hz',\n",
    "    label_set=subset_label_set)\n",
    "print(subset_filename)"
   ]
  },
  {
   "cell_type": "markdown",
   "metadata": {},
   "source": [
    "This basically create a file with a unique name (*subset_&lt;timestamp&gt;.csv*) containing a list of files with their annotations (intersecting with label_set):"
   ]
  },
  {
   "cell_type": "code",
   "execution_count": 10,
   "metadata": {},
   "outputs": [
    {
     "name": "stdout",
     "output_type": "stream",
     "text": [
      "#class subset: 3,15,25,27,39,42,46,50,62,70\r\n",
      "train_noisy/audio_22050hz/39e85c95.wav,50\r\n",
      "train_noisy/audio_22050hz/36eb7e34.wav,46\r\n",
      "train_noisy/audio_22050hz/b9ab08ed.wav,3\r\n",
      "train_noisy/audio_22050hz/4e7fd59b.wav,50\r\n",
      "train_noisy/audio_22050hz/a0f907cb.wav,3\r\n",
      "train_noisy/audio_22050hz/68a1ab1c.wav,50\r\n",
      "train_noisy/audio_22050hz/54260b02.wav,15\r\n",
      "train_noisy/audio_22050hz/150ea5da.wav,50\r\n",
      "train_noisy/audio_22050hz/2f2a5f9b.wav,42\r\n"
     ]
    }
   ],
   "source": [
    "!head -10 \"$subset_filename\""
   ]
  },
  {
   "cell_type": "code",
   "execution_count": 11,
   "metadata": {},
   "outputs": [
    {
     "name": "stderr",
     "output_type": "stream",
     "text": [
      "3652it [04:20, 14.03it/s]"
     ]
    },
    {
     "name": "stdout",
     "output_type": "stream",
     "text": [
      "Class index, number of files, total duration (in s)\n",
      " 3         ,375       ,5148.906  \n",
      " 15        ,375       ,4627.295  \n",
      " 25        ,375       ,4624.084  \n",
      " 27        ,375       ,4847.680  \n",
      " 39        ,375       ,4855.031  \n",
      " 42        ,375       ,5156.028  \n",
      " 46        ,375       ,4678.907  \n",
      " 50        ,375       ,4973.983  \n",
      " 62        ,375       ,4480.297  \n",
      " 70        ,375       ,5432.625  \n"
     ]
    },
    {
     "name": "stderr",
     "output_type": "stream",
     "text": [
      "\n"
     ]
    }
   ],
   "source": [
    "# Show dataset stats\n",
    "# Note: The total number of instances might be higher than the number of audio files because a file might have multiple labels\n",
    "d_num, d_dur = dataset_stat_per_file('/home/jul/data/freesound-audio-tagging-2019/train/', subset_filename)\n",
    "print(\"Class index, number of files, total duration (in s)\") \n",
    "for k, v in sorted(d_num.items()): \n",
    "    print(f' {k:<10},{v:<10},{d_dur[k]:<10.3f}')"
   ]
  },
  {
   "cell_type": "markdown",
   "metadata": {},
   "source": [
    "## 1.3 - Compute features and write them to [TFRecord](https://www.tensorflow.org/tutorials/load_data/tf_records) files"
   ]
  },
  {
   "cell_type": "code",
   "execution_count": 12,
   "metadata": {},
   "outputs": [],
   "source": [
    "import os\n",
    "from phaunos_ml.utils.feature_utils import MelSpecExtractor\n",
    "from phaunos_ml.utils.dataset_utils import dataset2tfrecords\n",
    "import tensorflow as tf\n",
    "\n",
    "config = tf.compat.v1.ConfigProto()\n",
    "config.gpu_options.allow_growth = True\n",
    "session = tf.compat.v1.InteractiveSession(config=config)"
   ]
  },
  {
   "cell_type": "code",
   "execution_count": 13,
   "metadata": {},
   "outputs": [],
   "source": [
    "# Log-mel spectrogram in 2s examples\n",
    "feature_extractor = MelSpecExtractor(n_fft=512,\n",
    "                                     hop_length=128,\n",
    "                                     n_mels = 128,\n",
    "                                     example_duration=2,\n",
    "                                     example_hop_duration=1)"
   ]
  },
  {
   "cell_type": "code",
   "execution_count": 14,
   "metadata": {},
   "outputs": [
    {
     "name": "stderr",
     "output_type": "stream",
     "text": [
      "100%|██████████| 3653/3653 [11:16<00:00,  5.40it/s]\n"
     ]
    }
   ],
   "source": [
    "# Process our subset. TFRecords are written in \n",
    "tfrecord_path = os.path.join(os.path.dirname(subset_filename), 'features')\n",
    "dataset2tfrecords('/home/jul/data/freesound-audio-tagging-2019/train/',\n",
    "                 subset_filename,\n",
    "                 tfrecord_path,\n",
    "                 feature_extractor,\n",
    "                 audio_dirname='audio_22050hz')"
   ]
  },
  {
   "cell_type": "markdown",
   "metadata": {},
   "source": [
    "## 1.4 - Check some TFRecord"
   ]
  },
  {
   "cell_type": "code",
   "execution_count": 15,
   "metadata": {},
   "outputs": [],
   "source": [
    "import random\n",
    "import tensorflow as tf\n",
    "from phaunos_ml.utils import tf_utils\n",
    "import matplotlib.pyplot as plt\n",
    "%matplotlib inline"
   ]
  },
  {
   "cell_type": "code",
   "execution_count": 16,
   "metadata": {},
   "outputs": [],
   "source": [
    "subset_dir = os.path.dirname(subset_filename)\n",
    "sometfrecord_path = os.path.join(subset_dir, 'features/train_curated/audio_22050hz/')"
   ]
  },
  {
   "cell_type": "code",
   "execution_count": 17,
   "metadata": {},
   "outputs": [],
   "source": [
    "sometfrecord = os.path.join(\n",
    "    sometfrecord_path,\n",
    "    random.sample(os.listdir(sometfrecord_path), 1)[0]\n",
    ")"
   ]
  },
  {
   "cell_type": "code",
   "execution_count": 18,
   "metadata": {},
   "outputs": [
    {
     "name": "stdout",
     "output_type": "stream",
     "text": [
      "/home/jul/data/freesound-audio-tagging-2019/custom_subsets/subset_1563962862/features/train_curated/audio_22050hz/4196347d.tf\n"
     ]
    }
   ],
   "source": [
    "print(sometfrecord)"
   ]
  },
  {
   "cell_type": "code",
   "execution_count": 19,
   "metadata": {},
   "outputs": [
    {
     "name": "stderr",
     "output_type": "stream",
     "text": [
      "WARNING: Logging before flag parsing goes to stderr.\n",
      "W0724 12:23:21.349239 139930500319040 deprecation.py:323] From /home/jul/.miniconda3/envs/datest/lib/python3.6/site-packages/phaunos_ml/utils/tf_utils.py:44: DatasetV1.make_one_shot_iterator (from tensorflow.python.data.ops.dataset_ops) is deprecated and will be removed in a future version.\n",
      "Instructions for updating:\n",
      "Use `for ... in dataset:` to iterate over a dataset. If using `tf.estimator`, return the `Dataset` object directly from your input function. As a last resort, you can use `tf.compat.v1.data.make_one_shot_iterator(dataset)`.\n",
      "W0724 12:23:21.357308 139930500319040 deprecation_wrapper.py:119] From /home/jul/.miniconda3/envs/datest/lib/python3.6/site-packages/phaunos_ml/utils/tf_utils.py:51: The name tf.Session is deprecated. Please use tf.compat.v1.Session instead.\n",
      "\n"
     ]
    },
    {
     "name": "stdout",
     "output_type": "stream",
     "text": [
      "[{'data': array([[ -1.0614069,  -1.6800154,  -2.8618386, ...,  -0.9625941,\n",
      "         -1.5767542,  -1.2625184],\n",
      "       [ -1.3750894,  -1.9936978,  -3.175521 , ...,  -1.2762766,\n",
      "         -1.8904366,  -1.5762007],\n",
      "       [ -5.4769697,  -1.6762023,  -3.5450284, ...,  -1.1477689,\n",
      "         -2.2053332,  -0.5452884],\n",
      "       ...,\n",
      "       [-10.180502 ,  -9.591197 ,  -9.86761  , ..., -10.101692 ,\n",
      "        -10.690926 ,  -9.759046 ],\n",
      "       [ -9.195526 ,  -9.695203 , -10.92997  , ..., -10.3402605,\n",
      "        -11.486475 , -10.541734 ],\n",
      "       [-10.845221 , -11.046109 , -12.339159 , ..., -10.877119 ,\n",
      "        -11.378699 , -10.605519 ]], dtype=float32), 'filename': b'train_curated/audio_22050hz/4196347d.tf', 'labels': b'50', 'times': array([0.      , 1.996916], dtype=float32)}, {'data': array([[ -0.8406519 ,  -1.0145173 ,  -0.91685915, ...,  -0.6743772 ,\n",
      "         -0.60742736,  -0.61965656],\n",
      "       [ -1.1543343 ,  -1.3281997 ,  -1.2305415 , ...,  -0.9880595 ,\n",
      "         -0.9211098 ,  -0.93333894],\n",
      "       [ -0.655654  ,  -0.973839  ,  -0.31684324, ...,  -0.5477264 ,\n",
      "         -0.1885444 ,   0.29321447],\n",
      "       ...,\n",
      "       [ -9.372281  ,  -9.324482  ,  -9.763989  , ...,  -9.083809  ,\n",
      "        -10.058462  ,  -9.5005865 ],\n",
      "       [ -8.921126  ,  -9.791651  , -10.870453  , ..., -10.252697  ,\n",
      "        -11.43789   , -10.191571  ],\n",
      "       [-10.174781  , -11.564474  , -11.236872  , ..., -11.217701  ,\n",
      "        -11.838065  , -10.789412  ]], dtype=float32), 'filename': b'train_curated/audio_22050hz/4196347d.tf', 'labels': b'50', 'times': array([0.998458 , 2.9953742], dtype=float32)}, {'data': array([[ -1.2759124 ,  -1.4131395 ,  -0.9331126 , ...,  -1.7855409 ,\n",
      "         -1.1917586 ,  -0.6265814 ],\n",
      "       [ -1.5895947 ,  -1.7268218 ,  -1.2467949 , ...,  -2.0992234 ,\n",
      "         -1.5054411 ,  -0.9402637 ],\n",
      "       [ -1.7830157 ,  -2.763953  ,   0.12298228, ...,  -1.3625335 ,\n",
      "         -0.02195234,  -0.82667774],\n",
      "       ...,\n",
      "       [ -9.326803  ,  -9.810155  , -10.468374  , ..., -10.39067   ,\n",
      "        -10.248279  , -10.106165  ],\n",
      "       [-10.1833    , -11.235107  , -10.740459  , ..., -10.841945  ,\n",
      "        -10.900298  , -10.494633  ],\n",
      "       [ -9.794583  , -10.7462225 , -10.336411  , ..., -11.74155   ,\n",
      "        -11.896588  , -11.155395  ]], dtype=float32), 'filename': b'train_curated/audio_22050hz/4196347d.tf', 'labels': b'50', 'times': array([1.996916, 3.993832], dtype=float32)}, {'data': array([[ -0.9407051 ,  -1.4854627 ,  -1.4702615 , ...,  -0.72192895,\n",
      "         -0.80786824,  -1.3795247 ],\n",
      "       [ -1.2543876 ,  -1.799145  ,  -1.7839438 , ...,  -1.0356113 ,\n",
      "         -1.1215507 ,  -1.693207  ],\n",
      "       [ -1.0540047 ,  -2.194984  ,  -1.1877029 , ...,  -0.7318164 ,\n",
      "         -0.02980221,  -1.4586576 ],\n",
      "       ...,\n",
      "       [ -9.041576  ,  -9.860201  , -10.410883  , ..., -10.798511  ,\n",
      "        -10.302388  ,  -9.9324045 ],\n",
      "       [ -9.966967  , -10.629233  , -10.87217   , ..., -11.25391   ,\n",
      "        -10.071019  ,  -9.928354  ],\n",
      "       [-10.990812  , -11.758299  , -10.847785  , ..., -11.948048  ,\n",
      "        -11.778982  , -10.947261  ]], dtype=float32), 'filename': b'train_curated/audio_22050hz/4196347d.tf', 'labels': b'50', 'times': array([2.9953742, 4.99229  ], dtype=float32)}, {'data': array([[ -0.65699464,  -0.53998256,  -0.32357514, ...,  -0.7690602 ,\n",
      "         -0.31728414,  -0.55542177],\n",
      "       [ -0.97067696,  -0.85366493,  -0.63725746, ...,  -1.0827426 ,\n",
      "         -0.6309666 ,  -0.8691041 ],\n",
      "       [ -0.7271363 ,  -0.10340372,   0.4901186 , ...,   0.29656976,\n",
      "          0.08611878,  -0.4957524 ],\n",
      "       ...,\n",
      "       [-10.589963  , -10.069898  ,  -9.257749  , ..., -11.409064  ,\n",
      "        -10.580796  , -10.435128  ],\n",
      "       [-10.991318  , -11.223714  , -10.105739  , ..., -11.68258   ,\n",
      "        -11.067564  , -11.541503  ],\n",
      "       [-11.11271   , -12.0822    , -11.60362   , ..., -11.993075  ,\n",
      "        -10.942438  , -11.250337  ]], dtype=float32), 'filename': b'train_curated/audio_22050hz/4196347d.tf', 'labels': b'50', 'times': array([3.993832 , 5.9907484], dtype=float32)}, {'data': array([[ -2.1785576 ,  -1.5294756 ,  -0.8283964 , ...,  -1.4164203 ,\n",
      "         -1.4299276 ,  -1.4548604 ],\n",
      "       [ -2.49224   ,  -1.843158  ,  -1.1420788 , ...,  -1.7301027 ,\n",
      "         -1.74361   ,  -1.7685429 ],\n",
      "       [ -3.7026544 ,  -0.60766274,  -0.8882004 , ...,  -0.7815605 ,\n",
      "         -2.5627954 ,  -2.1203356 ],\n",
      "       ...,\n",
      "       [-10.1017475 , -10.196507  ,  -9.565425  , ...,  -9.694787  ,\n",
      "         -9.784164  , -11.14475   ],\n",
      "       [-10.917262  , -11.314666  , -10.636548  , ..., -10.836138  ,\n",
      "        -10.856159  , -11.623833  ],\n",
      "       [-11.972403  , -11.81742   , -11.580769  , ..., -11.556585  ,\n",
      "        -11.42635   , -12.432753  ]], dtype=float32), 'filename': b'train_curated/audio_22050hz/4196347d.tf', 'labels': b'50', 'times': array([4.99229  , 6.9892063], dtype=float32)}, {'data': array([[ -0.7926433 ,  -0.6971098 ,  -1.0348682 , ...,  -0.68673   ,\n",
      "         -0.9533753 ,  -1.5035322 ],\n",
      "       [ -1.1063257 ,  -1.0107923 ,  -1.3485507 , ...,  -1.0004125 ,\n",
      "         -1.2670577 ,  -1.8172146 ],\n",
      "       [ -0.83797616,  -0.04913162,  -0.8934194 , ...,   0.12232185,\n",
      "         -1.4698273 ,  -2.1588926 ],\n",
      "       ...,\n",
      "       [-10.76042   ,  -9.517588  ,  -9.337329  , ...,  -8.995927  ,\n",
      "         -9.48134   , -11.434391  ],\n",
      "       [-11.752037  , -10.897059  , -11.157398  , ..., -10.77337   ,\n",
      "        -10.688252  , -11.1630125 ],\n",
      "       [-12.194391  , -11.550572  , -12.059888  , ..., -11.41222   ,\n",
      "        -11.533345  , -11.971155  ]], dtype=float32), 'filename': b'train_curated/audio_22050hz/4196347d.tf', 'labels': b'50', 'times': array([5.9907484, 7.987664 ], dtype=float32)}, {'data': array([[ -0.98770946,  -0.50134367,  -0.5832274 , ...,  -0.7493174 ,\n",
      "         -0.64548814,  -0.6833222 ],\n",
      "       [ -1.3013918 ,  -0.81502604,  -0.89690983, ...,  -1.0629998 ,\n",
      "         -0.9591706 ,  -0.99700457],\n",
      "       [ -0.28736416,  -0.29347083,  -0.5145595 , ...,  -0.47684067,\n",
      "         -0.5520048 ,  -0.7167    ],\n",
      "       ...,\n",
      "       [ -9.639312  ,  -9.02002   , -10.10608   , ...,  -9.442899  ,\n",
      "        -10.403661  , -11.215458  ],\n",
      "       [-11.036662  , -10.24705   , -10.7764435 , ..., -10.976995  ,\n",
      "        -10.82579   , -11.074647  ],\n",
      "       [-12.487262  , -11.958264  , -12.308356  , ..., -11.329101  ,\n",
      "        -11.400776  , -11.390116  ]], dtype=float32), 'filename': b'train_curated/audio_22050hz/4196347d.tf', 'labels': b'50', 'times': array([6.9892063, 8.986122 ], dtype=float32)}, {'data': array([[ -1.5152626 ,  -1.4690868 ,  -1.3638377 , ...,  -1.6188943 ,\n",
      "         -1.7881783 ,  -1.2942325 ],\n",
      "       [ -1.8289449 ,  -1.7827691 ,  -1.67752   , ...,  -1.9325767 ,\n",
      "         -2.1018608 ,  -1.6079148 ],\n",
      "       [ -0.989761  ,  -2.5054934 ,  -1.7258846 , ...,  -1.8645785 ,\n",
      "         -2.8602755 ,  -0.50026524],\n",
      "       ...,\n",
      "       [-10.386609  ,  -9.783946  , -10.361681  , ...,  -9.7060175 ,\n",
      "        -10.922451  , -10.926216  ],\n",
      "       [-10.879235  , -10.109395  , -10.654854  , ..., -11.41644   ,\n",
      "        -11.641675  , -11.580558  ],\n",
      "       [-11.484448  , -10.959789  , -11.555748  , ..., -11.234399  ,\n",
      "        -11.761986  , -11.919618  ]], dtype=float32), 'filename': b'train_curated/audio_22050hz/4196347d.tf', 'labels': b'50', 'times': array([7.987664, 9.98458 ], dtype=float32)}, {'data': array([[ -0.52237123,  -0.6767307 ,  -1.5634629 , ...,  -0.5024224 ,\n",
      "         -1.3363538 ,  -1.4406537 ],\n",
      "       [ -0.8360536 ,  -0.9904131 ,  -1.877145  , ...,  -0.81610477,\n",
      "         -1.6500361 ,  -1.754336  ],\n",
      "       [  0.2915311 ,  -0.24506961,  -3.2117167 , ...,  -0.20992978,\n",
      "         -3.6053157 ,  -0.8218048 ],\n",
      "       ...,\n",
      "       [ -9.69283   ,  -9.91697   , -11.035099  , ...,  -9.741001  ,\n",
      "        -10.504746  ,  -9.247152  ],\n",
      "       [-10.468187  ,  -9.954392  , -10.438385  , ...,  -9.9166565 ,\n",
      "        -10.657082  , -10.795755  ],\n",
      "       [-11.170044  , -11.049642  , -11.4215975 , ..., -11.432263  ,\n",
      "        -11.841219  , -11.756674  ]], dtype=float32), 'filename': b'train_curated/audio_22050hz/4196347d.tf', 'labels': b'50', 'times': array([ 8.986122, 10.983039], dtype=float32)}, {'data': array([[ -0.6414908 ,  -0.4505456 ,  -0.78283423, ...,  -0.5342166 ,\n",
      "         -0.72799   ,  -0.49094647],\n",
      "       [ -0.9551732 ,  -0.764228  ,  -1.0965166 , ...,  -0.84789896,\n",
      "         -1.0416723 ,  -0.8046288 ],\n",
      "       [ -0.02262209,  -0.17884205,  -0.6727028 , ...,  -0.3217755 ,\n",
      "         -0.8369222 ,   0.17275313],\n",
      "       ...,\n",
      "       [-10.046677  ,  -9.613974  , -10.019471  , ..., -10.150664  ,\n",
      "        -11.067665  , -10.582056  ],\n",
      "       [ -9.9774275 ,  -9.999475  , -10.676146  , ..., -10.787428  ,\n",
      "        -11.422794  , -10.488356  ],\n",
      "       [-11.142452  , -10.99782   , -11.877971  , ..., -11.486785  ,\n",
      "        -11.889808  , -11.046321  ]], dtype=float32), 'filename': b'train_curated/audio_22050hz/4196347d.tf', 'labels': b'50', 'times': array([ 9.98458 , 11.981497], dtype=float32)}, {'data': array([[ -1.3221614 ,  -1.3994933 ,  -1.0427116 , ...,  -1.8672392 ,\n",
      "         -1.5937144 ,  -1.1453122 ],\n",
      "       [ -1.6358438 ,  -1.7131757 ,  -1.3563939 , ...,  -2.1809216 ,\n",
      "         -1.9073967 ,  -1.4589945 ],\n",
      "       [ -1.4553585 ,  -2.975747  ,  -0.14100438, ...,  -3.8805568 ,\n",
      "         -1.0442358 ,  -1.268923  ],\n",
      "       ...,\n",
      "       [ -8.79361   , -10.300248  , -11.35284   , ..., -10.654998  ,\n",
      "         -9.529711  ,  -8.766186  ],\n",
      "       [-10.297859  , -10.490061  , -10.938823  , ..., -11.9943    ,\n",
      "        -10.870983  , -10.360937  ],\n",
      "       [-11.632755  , -11.489671  , -11.908756  , ..., -12.017242  ,\n",
      "        -11.512856  , -10.36872   ]], dtype=float32), 'filename': b'train_curated/audio_22050hz/4196347d.tf', 'labels': b'50', 'times': array([10.983039, 12.979955], dtype=float32)}, {'data': array([[ -0.46732712,  -1.3056816 ,  -1.6139101 , ...,  -0.81677026,\n",
      "         -0.7126022 ,  -0.79101264],\n",
      "       [ -0.7810095 ,  -1.6193638 ,  -1.9275924 , ...,  -1.1304526 ,\n",
      "         -1.0262845 ,  -1.104695  ],\n",
      "       [ -0.13960755,  -1.7830327 ,  -1.7744431 , ...,  -1.0311207 ,\n",
      "          0.03172753,  -0.30307236],\n",
      "       ...,\n",
      "       [-10.274652  , -11.471087  , -10.192793  , ..., -11.358831  ,\n",
      "        -10.229167  , -10.120801  ],\n",
      "       [-10.46398   , -10.710341  , -10.84667   , ..., -11.580817  ,\n",
      "        -11.083862  , -10.951936  ],\n",
      "       [-11.148135  , -11.978939  , -12.143527  , ..., -12.399829  ,\n",
      "        -11.331225  , -11.248029  ]], dtype=float32), 'filename': b'train_curated/audio_22050hz/4196347d.tf', 'labels': b'50', 'times': array([11.981497, 13.978413], dtype=float32)}, {'data': array([[ -1.064594  ,  -0.88353515,  -0.49428642, ...,  -1.8217895 ,\n",
      "         -1.1421458 ,  -0.82403916],\n",
      "       [ -1.3782765 ,  -1.1972176 ,  -0.8079688 , ...,  -2.1354718 ,\n",
      "         -1.4558281 ,  -1.1377215 ],\n",
      "       [ -1.6398634 ,  -0.53404546,   0.35166475, ...,  -1.5605074 ,\n",
      "         -0.9171023 ,  -0.8197216 ],\n",
      "       ...,\n",
      "       [-10.244535  , -11.415238  ,  -9.923363  , ..., -10.605273  ,\n",
      "         -9.437349  , -10.064031  ],\n",
      "       [-11.314172  , -12.01083   , -10.869274  , ..., -11.295693  ,\n",
      "        -10.674919  , -11.173294  ],\n",
      "       [-11.056186  , -12.405711  , -11.135181  , ..., -11.85381   ,\n",
      "        -11.006477  , -11.425139  ]], dtype=float32), 'filename': b'train_curated/audio_22050hz/4196347d.tf', 'labels': b'50', 'times': array([12.979955, 14.976871], dtype=float32)}, {'data': array([[ -1.7985234 ,  -1.8308244 ,  -1.0285928 , ...,  -0.8119668 ,\n",
      "         -0.9300366 ,  -1.6442894 ],\n",
      "       [ -2.1122057 ,  -2.144507  ,  -1.3422753 , ...,  -1.1256491 ,\n",
      "         -1.243719  ,  -1.9579717 ],\n",
      "       [ -2.7475631 ,  -1.5927773 ,  -0.844372  , ...,  -0.40226835,\n",
      "         -0.40881118,  -6.554113  ],\n",
      "       ...,\n",
      "       [-11.091924  , -10.6924515 , -10.322492  , ..., -10.260437  ,\n",
      "         -9.803492  , -10.873597  ],\n",
      "       [-11.153119  , -11.239715  , -10.88212   , ..., -11.042515  ,\n",
      "        -10.522661  , -10.570305  ],\n",
      "       [-11.784392  , -11.719261  , -10.903645  , ..., -11.8472805 ,\n",
      "        -11.500078  , -12.058954  ]], dtype=float32), 'filename': b'train_curated/audio_22050hz/4196347d.tf', 'labels': b'50', 'times': array([13.978413, 15.975328], dtype=float32)}, {'data': array([[-8.11755657e-01, -6.57015562e-01, -8.04139614e-01, ...,\n",
      "        -2.39445463e-01, -2.68082142e-01, -1.16964602e+00],\n",
      "       [-1.12543809e+00, -9.70697999e-01, -1.11782205e+00, ...,\n",
      "        -5.53127825e-01, -5.81764579e-01, -1.48332834e+00],\n",
      "       [-4.81129050e-01,  1.31790787e-01, -6.87847376e-01, ...,\n",
      "         4.18946445e-01, -8.19064584e-03, -1.25293338e+00],\n",
      "       ...,\n",
      "       [-1.14211607e+01, -1.04360237e+01, -1.02051630e+01, ...,\n",
      "        -9.82787323e+00, -9.69601536e+00, -1.10651426e+01],\n",
      "       [-1.16318121e+01, -1.12386551e+01, -1.10599279e+01, ...,\n",
      "        -1.06003695e+01, -1.04622717e+01, -1.11972103e+01],\n",
      "       [-1.19300394e+01, -1.09919777e+01, -1.09252310e+01, ...,\n",
      "        -1.20722685e+01, -1.15449400e+01, -1.19524164e+01]], dtype=float32), 'filename': b'train_curated/audio_22050hz/4196347d.tf', 'labels': b'50', 'times': array([14.976871, 16.973787], dtype=float32)}, {'data': array([[ -1.4516964 ,  -0.7979097 ,  -0.50151277, ...,  -0.8283644 ,\n",
      "         -0.7432237 ,  -0.8390729 ],\n",
      "       [ -1.7653788 ,  -1.111592  ,  -0.81519514, ...,  -1.1420468 ,\n",
      "         -1.0569061 ,  -1.1527553 ],\n",
      "       [ -1.03245   ,  -0.36543724,  -0.49462163, ...,  -0.40215   ,\n",
      "         -1.1046127 ,  -0.87518597],\n",
      "       ...,\n",
      "       [-10.466561  ,  -9.12803   ,  -9.953624  , ...,  -9.286995  ,\n",
      "         -9.705236  , -10.701086  ],\n",
      "       [-10.718952  , -10.147878  , -10.687253  , ..., -10.619855  ,\n",
      "        -11.155368  , -11.575326  ],\n",
      "       [-11.918403  , -11.204734  , -11.302573  , ..., -11.232181  ,\n",
      "        -11.63532   , -12.570651  ]], dtype=float32), 'filename': b'train_curated/audio_22050hz/4196347d.tf', 'labels': b'50', 'times': array([15.975328, 17.972244], dtype=float32)}, {'data': array([[ -1.6761608,  -1.5537944,  -1.2055091, ...,  -1.0551739,\n",
      "         -1.726647 ,  -1.5248975],\n",
      "       [ -1.9898432,  -1.8674767,  -1.5191914, ...,  -1.3688562,\n",
      "         -2.0403292,  -1.8385798],\n",
      "       [ -2.4782948,  -1.874213 ,  -1.9133753, ...,  -0.2866258,\n",
      "         -3.71494  ,  -0.9846122],\n",
      "       ...,\n",
      "       [-11.173256 , -10.374156 , -10.485517 , ...,  -9.882001 ,\n",
      "        -10.834658 , -10.892644 ],\n",
      "       [-11.007485 , -10.265033 , -10.951026 , ..., -10.365692 ,\n",
      "        -10.848051 , -11.550385 ],\n",
      "       [-11.427982 , -10.764994 , -11.744719 , ..., -10.731914 ,\n",
      "        -11.507421 , -12.800311 ]], dtype=float32), 'filename': b'train_curated/audio_22050hz/4196347d.tf', 'labels': b'50', 'times': array([16.973787, 18.970703], dtype=float32)}, {'data': array([[ -0.59225345,  -0.48572138,  -1.1676793 , ...,  -0.35702533,\n",
      "         -0.8769687 ,  -1.5035565 ],\n",
      "       [ -0.90593576,  -0.7994038 ,  -1.4813617 , ...,  -0.6707078 ,\n",
      "         -1.190651  ,  -1.8172388 ],\n",
      "       [  0.26333484,  -0.32191497,  -1.7335253 , ...,  -0.34906733,\n",
      "         -0.7623084 ,  -2.1320877 ],\n",
      "       ...,\n",
      "       [ -9.285803  ,  -9.252713  , -10.922232  , ..., -10.4431    ,\n",
      "        -11.147273  , -10.838417  ],\n",
      "       [-11.096372  , -10.967489  , -11.409628  , ..., -10.921334  ,\n",
      "        -11.342477  , -11.316473  ],\n",
      "       [-11.338143  , -11.197655  , -11.979185  , ..., -11.363706  ,\n",
      "        -12.404391  , -12.704033  ]], dtype=float32), 'filename': b'train_curated/audio_22050hz/4196347d.tf', 'labels': b'50', 'times': array([17.972244, 19.96916 ], dtype=float32)}, {'data': array([[ -0.7495383 ,  -0.32658115,  -0.55719364, ...,  -0.64207697,\n",
      "         -0.6866525 ,  -0.6316047 ],\n",
      "       [ -1.0632207 ,  -0.6402635 ,  -0.8708761 , ...,  -0.9557594 ,\n",
      "         -1.0003349 ,  -0.94528705],\n",
      "       [ -0.17585523,  -0.08421245,  -0.30320263, ...,  -1.1353067 ,\n",
      "         -0.6657289 ,   0.30005702],\n",
      "       ...,\n",
      "       [ -9.265261  ,  -9.610829  , -11.208252  , ...,  -9.82581   ,\n",
      "        -11.009707  , -10.242224  ],\n",
      "       [-10.54782   , -10.403229  , -11.429039  , ..., -10.967616  ,\n",
      "        -11.320949  , -11.474676  ],\n",
      "       [-11.326109  , -10.961624  , -11.981355  , ..., -12.738224  ,\n",
      "        -13.393214  , -12.263259  ]], dtype=float32), 'filename': b'train_curated/audio_22050hz/4196347d.tf', 'labels': b'50', 'times': array([18.970703, 20.967619], dtype=float32)}, {'data': array([[ -1.6790355 ,  -1.357937  ,  -1.0141145 , ...,  -1.6591346 ,\n",
      "         -1.539782  ,  -0.749354  ],\n",
      "       [ -1.992718  ,  -1.6716193 ,  -1.3277969 , ...,  -1.972817  ,\n",
      "         -1.8534645 ,  -1.0630364 ],\n",
      "       [ -1.7388082 ,  -2.5054557 ,  -0.5981185 , ...,  -2.462907  ,\n",
      "         -1.2522446 ,   0.18863976],\n",
      "       ...,\n",
      "       [ -9.807735  , -10.210843  , -10.932666  , ..., -10.815552  ,\n",
      "        -11.082706  , -10.168294  ],\n",
      "       [-10.810903  , -10.691837  , -11.021966  , ..., -11.400477  ,\n",
      "        -11.440262  , -11.091733  ],\n",
      "       [-11.423132  , -11.587064  , -12.24535   , ..., -11.559739  ,\n",
      "        -12.230174  , -12.312774  ]], dtype=float32), 'filename': b'train_curated/audio_22050hz/4196347d.tf', 'labels': b'50', 'times': array([19.96916 , 21.966078], dtype=float32)}, {'data': array([[-6.3192105e-01, -1.3389425e+00, -1.6645583e+00, ...,\n",
      "        -4.3663090e-01, -9.7440815e-01, -1.1885238e+00],\n",
      "       [-9.4560343e-01, -1.6526248e+00, -1.9782406e+00, ...,\n",
      "        -7.5031328e-01, -1.2880906e+00, -1.5022061e+00],\n",
      "       [-8.0905929e-03, -2.9798934e+00, -1.3275121e+00, ...,\n",
      "        -4.3773642e-01, -8.8693017e-01, -7.0015317e-01],\n",
      "       ...,\n",
      "       [-1.0001713e+01, -1.0722026e+01, -1.0925332e+01, ...,\n",
      "        -9.8455648e+00, -1.1615523e+01, -9.6710796e+00],\n",
      "       [-1.0973058e+01, -1.1076996e+01, -1.1671195e+01, ...,\n",
      "        -1.0423836e+01, -1.1470162e+01, -1.0334662e+01],\n",
      "       [-1.1564555e+01, -1.2156277e+01, -1.3020497e+01, ...,\n",
      "        -1.0987333e+01, -1.1849199e+01, -1.1257818e+01]], dtype=float32), 'filename': b'train_curated/audio_22050hz/4196347d.tf', 'labels': b'50', 'times': array([20.967619, 22.964535], dtype=float32)}, {'data': array([[ -0.27890518,  -0.5032562 ,  -0.6845343 , ...,  -0.45535845,\n",
      "         -0.33698678,  -0.1639904 ],\n",
      "       [ -0.5925876 ,  -0.8169386 ,  -0.9982166 , ...,  -0.7690409 ,\n",
      "         -0.6506693 ,  -0.47767276],\n",
      "       [ -0.08762165,  -0.52984077,  -0.16508   , ...,  -0.36124685,\n",
      "          0.38069674,   0.24670283],\n",
      "       ...,\n",
      "       [-10.326281  , -12.128866  , -12.102177  , ..., -10.625009  ,\n",
      "        -11.651132  , -11.023154  ],\n",
      "       [-10.909431  , -11.902787  , -12.077476  , ..., -10.928036  ,\n",
      "        -11.856876  , -11.106518  ],\n",
      "       [-13.030232  , -13.7609825 , -12.855397  , ..., -12.31975   ,\n",
      "        -11.798178  , -10.9730015 ]], dtype=float32), 'filename': b'train_curated/audio_22050hz/4196347d.tf', 'labels': b'50', 'times': array([21.966078, 23.962994], dtype=float32)}, {'data': array([[ -1.5059433 ,  -1.3055243 ,  -0.78895044, ...,  -1.6650519 ,\n",
      "         -1.263308  ,  -0.67058206],\n",
      "       [ -1.8196257 ,  -1.6192065 ,  -1.1026329 , ...,  -1.9787344 ,\n",
      "         -1.5769904 ,  -0.9842645 ],\n",
      "       [ -4.399711  ,  -1.0634458 ,  -0.08815961, ...,  -2.8508759 ,\n",
      "         -0.93467855,  -0.9537623 ],\n",
      "       ...,\n",
      "       [ -9.350364  , -10.871218  , -10.261301  , ..., -12.329962  ,\n",
      "        -10.530807  ,  -9.640925  ],\n",
      "       [-10.069818  , -11.055428  , -11.60463   , ..., -11.526085  ,\n",
      "        -11.499415  , -10.466222  ],\n",
      "       [-11.508541  , -12.119845  , -11.94666   , ..., -12.446664  ,\n",
      "        -11.679294  , -11.283893  ]], dtype=float32), 'filename': b'train_curated/audio_22050hz/4196347d.tf', 'labels': b'50', 'times': array([22.964535, 24.96145 ], dtype=float32)}, {'data': array([[ -0.6400252 ,  -1.1306937 ,  -1.0594183 , ...,  -0.5966666 ,\n",
      "         -0.77293813,  -1.2135209 ],\n",
      "       [ -0.95370764,  -1.444376  ,  -1.3731006 , ...,  -0.910349  ,\n",
      "         -1.0866206 ,  -1.5272032 ],\n",
      "       [ -0.9994692 ,  -1.5589452 ,  -0.633274  , ...,  -0.4036482 ,\n",
      "         -0.16372469,  -2.8637462 ],\n",
      "       ...,\n",
      "       [-10.938213  , -11.988223  , -11.270494  , ..., -11.246792  ,\n",
      "        -10.966437  , -11.065198  ],\n",
      "       [-11.875909  , -12.503559  , -11.829118  , ..., -12.752202  ,\n",
      "        -11.176367  , -10.895767  ],\n",
      "       [-11.643713  , -12.808191  , -12.39244   , ..., -12.986861  ,\n",
      "        -11.69982   , -12.494995  ]], dtype=float32), 'filename': b'train_curated/audio_22050hz/4196347d.tf', 'labels': b'50', 'times': array([23.962994, 25.95991 ], dtype=float32)}, {'data': array([[ -0.6055248 ,  -0.5061285 ,  -0.19414254, ...,  -0.69745487,\n",
      "         -0.19338837,  -0.28430146],\n",
      "       [ -0.91920716,  -0.8198108 ,  -0.5078249 , ...,  -1.0111372 ,\n",
      "         -0.5070708 ,  -0.59798384],\n",
      "       [ -0.5365161 ,  -0.07427934,   0.23193496, ...,  -0.22518224,\n",
      "         -0.18064943,  -0.2605825 ],\n",
      "       ...,\n",
      "       [-10.156841  , -11.66916   , -12.319143  , ..., -11.474522  ,\n",
      "        -10.738916  , -10.550253  ],\n",
      "       [-10.728658  , -11.931465  , -10.97217   , ..., -12.249976  ,\n",
      "        -11.20322   , -11.342242  ],\n",
      "       [-12.398666  , -11.7589035 , -10.92199   , ..., -12.054392  ,\n",
      "        -11.700185  , -12.008501  ]], dtype=float32), 'filename': b'train_curated/audio_22050hz/4196347d.tf', 'labels': b'50', 'times': array([24.96145 , 26.958366], dtype=float32)}, {'data': array([[ -1.4373977 ,  -1.1561025 ,  -0.8127914 , ...,  -0.66352254,\n",
      "         -0.7728745 ,  -0.987103  ],\n",
      "       [ -1.75108   ,  -1.4697849 ,  -1.1264738 , ...,  -0.977205  ,\n",
      "         -1.0865569 ,  -1.3007854 ],\n",
      "       [ -1.6636797 ,  -0.79164857,  -1.6755502 , ...,  -0.2000481 ,\n",
      "         -2.072583  ,  -1.0415399 ],\n",
      "       ...,\n",
      "       [-11.643927  , -11.1043    , -10.592979  , ..., -10.837159  ,\n",
      "        -10.456517  , -11.389296  ],\n",
      "       [-11.825259  , -10.990871  , -10.641058  , ..., -11.182507  ,\n",
      "        -10.838885  , -11.837375  ],\n",
      "       [-13.5361395 , -11.959042  , -11.403017  , ..., -11.759302  ,\n",
      "        -11.994345  , -12.93893   ]], dtype=float32), 'filename': b'train_curated/audio_22050hz/4196347d.tf', 'labels': b'50', 'times': array([25.95991 , 27.956825], dtype=float32)}, {'data': array([[ -0.36703828,  -0.34717032,  -0.7800283 , ..., -18.420681  ,\n",
      "        -18.420681  , -18.420681  ],\n",
      "       [ -0.68072075,  -0.6608527 ,  -1.0937107 , ..., -18.420681  ,\n",
      "        -18.420681  , -18.420681  ],\n",
      "       [  0.0556737 ,   0.25506848,  -1.509643  , ..., -18.420681  ,\n",
      "        -18.420681  , -18.420681  ],\n",
      "       ...,\n",
      "       [-11.384245  , -10.767588  , -11.142978  , ..., -18.420681  ,\n",
      "        -18.420681  , -18.420681  ],\n",
      "       [-12.028075  , -11.39656   , -11.660871  , ..., -18.420681  ,\n",
      "        -18.420681  , -18.420681  ],\n",
      "       [-12.136741  , -11.533672  , -12.773647  , ..., -18.420681  ,\n",
      "        -18.420681  , -18.420681  ]], dtype=float32), 'filename': b'train_curated/audio_22050hz/4196347d.tf', 'labels': b'50', 'times': array([26.958366, 28.228209], dtype=float32)}]\n"
     ]
    }
   ],
   "source": [
    "someexamples = tf_utils.tfrecord2example(sometfrecord, feature_extractor)\n",
    "print(someexamples)"
   ]
  },
  {
   "cell_type": "code",
   "execution_count": 20,
   "metadata": {},
   "outputs": [
    {
     "data": {
      "text/plain": [
       "<matplotlib.axes._subplots.AxesSubplot at 0x7f438d495d68>"
      ]
     },
     "execution_count": 20,
     "metadata": {},
     "output_type": "execute_result"
    },
    {
     "data": {
      "image/png": "[encoded data removed]",
      "text/plain": [
       "<Figure size 432x288 with 1 Axes>"
      ]
     },
     "metadata": {
      "needs_background": "light"
     },
     "output_type": "display_data"
    }
   ],
   "source": [
    "# First example in the TFRecord\n",
    "feature_extractor.plot(someexamples[0]['data'])"
   ]
  },
  {
   "cell_type": "markdown",
   "metadata": {},
   "source": [
    "## 1.5 - Check some other TFRecord"
   ]
  },
  {
   "cell_type": "code",
   "execution_count": 21,
   "metadata": {},
   "outputs": [
    {
     "name": "stdout",
     "output_type": "stream",
     "text": [
      "/home/jul/data/freesound-audio-tagging-2019/custom_subsets/subset_1563962862/features/train_curated/audio_22050hz/bc5fd19c.tf\n"
     ]
    }
   ],
   "source": [
    "someothertfrecord = os.path.join(\n",
    "    sometfrecord_path,\n",
    "    random.sample(os.listdir(sometfrecord_path), 1)[0]\n",
    ")\n",
    "print(someothertfrecord)"
   ]
  },
  {
   "cell_type": "markdown",
   "metadata": {},
   "source": [
    "### As examples"
   ]
  },
  {
   "cell_type": "code",
   "execution_count": 22,
   "metadata": {},
   "outputs": [],
   "source": [
    "otherexamples = tf_utils.tfrecord2example(someothertfrecord, feature_extractor)"
   ]
  },
  {
   "cell_type": "code",
   "execution_count": 23,
   "metadata": {},
   "outputs": [
    {
     "name": "stdout",
     "output_type": "stream",
     "text": [
      "[{'data': array([[-18.420681, -18.420681, -18.420681, ..., -18.420681, -18.420681,\n",
      "        -18.420681],\n",
      "       [-18.420681, -18.420681, -18.420681, ..., -18.420681, -18.420681,\n",
      "        -18.420681],\n",
      "       [-18.420681, -18.420681, -18.420681, ..., -18.420681, -18.420681,\n",
      "        -18.420681],\n",
      "       ...,\n",
      "       [-18.420681, -18.420681, -18.420681, ..., -18.420681, -18.420681,\n",
      "        -18.420681],\n",
      "       [-18.420681, -18.420681, -18.420681, ..., -18.420681, -18.420681,\n",
      "        -18.420681],\n",
      "       [-18.420681, -18.420681, -18.420681, ..., -18.420681, -18.420681,\n",
      "        -18.420681]], dtype=float32), 'filename': b'train_curated/audio_22050hz/bc5fd19c.tf', 'labels': b'39', 'times': array([0.  , 0.62], dtype=float32)}]\n"
     ]
    }
   ],
   "source": [
    "print(otherexamples)"
   ]
  },
  {
   "cell_type": "markdown",
   "metadata": {},
   "source": [
    "### As input (features + one-hot encoded labels) to the model"
   ]
  },
  {
   "cell_type": "code",
   "execution_count": 24,
   "metadata": {},
   "outputs": [],
   "source": [
    "subset_class_list = sorted(list(subset_label_set)) # labels are one-hot encoded according to this list"
   ]
  },
  {
   "cell_type": "code",
   "execution_count": 25,
   "metadata": {},
   "outputs": [
    {
     "name": "stdout",
     "output_type": "stream",
     "text": [
      "[3, 15, 25, 27, 39, 42, 46, 50, 62, 70]\n"
     ]
    }
   ],
   "source": [
    "print(subset_class_list)"
   ]
  },
  {
   "cell_type": "code",
   "execution_count": 26,
   "metadata": {},
   "outputs": [
    {
     "name": "stderr",
     "output_type": "stream",
     "text": [
      "W0724 12:23:21.956464 139930500319040 deprecation.py:323] From /home/jul/.miniconda3/envs/datest/lib/python3.6/site-packages/phaunos_ml/utils/tf_utils.py:143: add_dispatch_support.<locals>.wrapper (from tensorflow.python.ops.array_ops) is deprecated and will be removed in a future version.\n",
      "Instructions for updating:\n",
      "Use tf.where in 2.0, which has the same broadcast rule as np.where\n"
     ]
    }
   ],
   "source": [
    "example_as_input = tf_utils.tfrecord2data(someothertfrecord, feature_extractor, subset_class_list)"
   ]
  },
  {
   "cell_type": "code",
   "execution_count": 27,
   "metadata": {},
   "outputs": [
    {
     "name": "stdout",
     "output_type": "stream",
     "text": [
      "[(array([[[-18.420681, -18.420681, -18.420681, ..., -18.420681,\n",
      "         -18.420681, -18.420681],\n",
      "        [-18.420681, -18.420681, -18.420681, ..., -18.420681,\n",
      "         -18.420681, -18.420681],\n",
      "        [-18.420681, -18.420681, -18.420681, ..., -18.420681,\n",
      "         -18.420681, -18.420681],\n",
      "        ...,\n",
      "        [-18.420681, -18.420681, -18.420681, ..., -18.420681,\n",
      "         -18.420681, -18.420681],\n",
      "        [-18.420681, -18.420681, -18.420681, ..., -18.420681,\n",
      "         -18.420681, -18.420681],\n",
      "        [-18.420681, -18.420681, -18.420681, ..., -18.420681,\n",
      "         -18.420681, -18.420681]]], dtype=float32), array([0., 0., 0., 0., 1., 0., 0., 0., 0., 0.], dtype=float32))]\n"
     ]
    }
   ],
   "source": [
    "# model_input is a list of tuple (<features>, <one-hot encoded labels>)\n",
    "print(example_as_input)"
   ]
  },
  {
   "cell_type": "code",
   "execution_count": 28,
   "metadata": {},
   "outputs": [
    {
     "data": {
      "image/png": "[encoded data removed]",
      "text/plain": [
       "<Figure size 432x288 with 1 Axes>"
      ]
     },
     "metadata": {
      "needs_background": "light"
     },
     "output_type": "display_data"
    }
   ],
   "source": [
    "# Plot features for random examples from the selected file\n",
    "ind = sorted(random.sample(range(len(example_as_input)),min(len(example_as_input), 3)))\n",
    "for i in ind:    \n",
    "    plt.figure()\n",
    "    feature_extractor.plot(example_as_input[i][0][0])\n",
    "    plt.title(f'Example {i}')"
   ]
  },
  {
   "cell_type": "markdown",
   "metadata": {},
   "source": [
    "# 2 - Training"
   ]
  },
  {
   "cell_type": "markdown",
   "metadata": {},
   "source": [
    "## 2.1 - Generate a train/valid split to monitor the performance on unseen data"
   ]
  },
  {
   "cell_type": "code",
   "execution_count": 29,
   "metadata": {},
   "outputs": [],
   "source": [
    "from phaunos_ml.utils.dataset_utils import split_dataset"
   ]
  },
  {
   "cell_type": "code",
   "execution_count": 30,
   "metadata": {},
   "outputs": [
    {
     "name": "stdout",
     "output_type": "stream",
     "text": [
      "/home/jul/data/freesound-audio-tagging-2019/custom_subsets/subset_1563962862/subset_1563962862.train.csv written\n",
      "/home/jul/data/freesound-audio-tagging-2019/custom_subsets/subset_1563962862/subset_1563962862.test.csv written\n"
     ]
    }
   ],
   "source": [
    "# This generates 2 files,\n",
    "# /subset/path/subset_name.train.csv containing 80% of the data (training dataset)\n",
    "# /subset/path/subset_name.test.csv containing 20% of the data (validation dataset, to select the model)\n",
    "split_dataset(subset_filename, test_size=0.2)"
   ]
  },
  {
   "cell_type": "markdown",
   "metadata": {},
   "source": [
    "## 2.2 - Count the number of batches in the train and valid sets"
   ]
  },
  {
   "cell_type": "code",
   "execution_count": 31,
   "metadata": {},
   "outputs": [],
   "source": [
    "from phaunos_ml.utils.dataset_utils import dataset_stat_per_example\n",
    "BATCH_SIZE = 32"
   ]
  },
  {
   "cell_type": "code",
   "execution_count": 32,
   "metadata": {},
   "outputs": [
    {
     "name": "stdout",
     "output_type": "stream",
     "text": [
      "Num training batches: 1138 (i.e. 36416 examples)\n",
      "Class  3: 3983 examples\n",
      "Class 15: 3483 examples\n",
      "Class 25: 3484 examples\n",
      "Class 27: 3673 examples\n",
      "Class 39: 3730 examples\n",
      "Class 42: 4015 examples\n",
      "Class 46: 3544 examples\n",
      "Class 50: 3871 examples\n",
      "Class 62: 3418 examples\n",
      "Class 70: 4303 examples\n",
      "36416 <= 37504\n"
     ]
    }
   ],
   "source": [
    "# training set\n",
    "n_train_batches, n_train_examples_per_class = dataset_stat_per_example(\n",
    "    subset_filename.replace('.csv', '.train.csv'),\n",
    "    os.path.join(os.path.dirname(subset_filename), 'features'),\n",
    "    feature_extractor.feature_shape,\n",
    "    subset_class_list,\n",
    "    batch_size=BATCH_SIZE)\n",
    "print(f'Num training batches: {n_train_batches} (i.e. {n_train_batches * BATCH_SIZE} examples)')\n",
    "for c, n in zip(subset_class_list, n_train_examples_per_class):\n",
    "    print(f'Class {c:2}: {n} examples')\n",
    "# Note: the number of examples n_train_batches * BATCH_SIZE is <= to sum(n_train_examples_per_class)\n",
    "# because data is multilabel\n",
    "print(f'{n_train_batches * BATCH_SIZE} <= {np.sum(n_train_examples_per_class)}')"
   ]
  },
  {
   "cell_type": "code",
   "execution_count": 33,
   "metadata": {},
   "outputs": [
    {
     "name": "stdout",
     "output_type": "stream",
     "text": [
      "Num valid batches: 334 (i.e. 10688 examples)\n",
      "Class  3: 1117 examples\n",
      "Class 15: 1115 examples\n",
      "Class 25: 1117 examples\n",
      "Class 27: 1118 examples\n",
      "Class 39: 1085 examples\n",
      "Class 42: 1096 examples\n",
      "Class 46: 1114 examples\n",
      "Class 50: 1073 examples\n",
      "Class 62: 1034 examples\n",
      "Class 70: 1085 examples\n",
      "10688 <= 10954\n"
     ]
    }
   ],
   "source": [
    "# valid set\n",
    "n_valid_batches, n_valid_examples_per_class = dataset_stat_per_example(\n",
    "    subset_filename.replace('.csv', '.test.csv'),\n",
    "    os.path.join(os.path.dirname(subset_filename), 'features'),\n",
    "    feature_extractor.feature_shape,\n",
    "    subset_class_list,\n",
    "    batch_size=BATCH_SIZE)\n",
    "print(f'Num valid batches: {n_valid_batches} (i.e. {n_valid_batches * BATCH_SIZE} examples)')\n",
    "for c, n in zip(subset_class_list, n_valid_examples_per_class):\n",
    "    print(f'Class {c:2}: {n} examples')\n",
    "# Note: the number of examples n_valid_batches * BATCH_SIZE is <= to sum(n_valid_examples_per_class)\n",
    "# because data is multilabel\n",
    "print(f'{n_valid_batches * BATCH_SIZE} <= {np.sum(n_valid_examples_per_class)}')"
   ]
  },
  {
   "cell_type": "markdown",
   "metadata": {},
   "source": [
    "## 2.3 - Write feature extraction and training config files"
   ]
  },
  {
   "cell_type": "code",
   "execution_count": 34,
   "metadata": {},
   "outputs": [],
   "source": [
    "import json\n",
    "\n",
    "EPOCHS = 10"
   ]
  },
  {
   "cell_type": "code",
   "execution_count": 35,
   "metadata": {},
   "outputs": [],
   "source": [
    "# Write feature extractor's config file\n",
    "feature_extractor.config2file(os.path.join(subset_dir, 'features', 'featex_config.json'))"
   ]
  },
  {
   "cell_type": "code",
   "execution_count": 36,
   "metadata": {},
   "outputs": [],
   "source": [
    "# Write training config file\n",
    "\n",
    "training_dir = os.path.join(subset_dir, 'training')\n",
    "\n",
    "training_config = {}\n",
    "training_config['feature_path'] = os.path.join(subset_dir, 'features')\n",
    "training_config['train_set_file'] = subset_filename.replace('.csv', '.train.csv')\n",
    "training_config['n_train_batches'] = n_train_batches\n",
    "training_config['batch_size'] = BATCH_SIZE\n",
    "training_config['multilabel'] = True\n",
    "training_config['epochs'] = EPOCHS\n",
    "training_config['out_dir'] = training_dir\n",
    "training_config['valid_set_file'] = subset_filename.replace('.csv', '.test.csv')\n",
    "training_config['n_valid_batches'] = n_valid_batches\n",
    "\n",
    "training_config_path = os.path.join(training_dir, 'training_config.json')\n",
    "os.makedirs(training_dir)\n",
    "\n",
    "with open(training_config_path, 'w') as training_config_file:\n",
    "    json.dump(training_config, training_config_file)"
   ]
  },
  {
   "cell_type": "markdown",
   "metadata": {},
   "source": [
    "## 2.4 - Train"
   ]
  },
  {
   "cell_type": "code",
   "execution_count": 37,
   "metadata": {},
   "outputs": [],
   "source": [
    "from phaunos_ml import train"
   ]
  },
  {
   "cell_type": "code",
   "execution_count": 38,
   "metadata": {},
   "outputs": [
    {
     "name": "stderr",
     "output_type": "stream",
     "text": [
      "W0724 12:24:03.248075 139930500319040 deprecation.py:506] From /home/jul/.miniconda3/envs/datest/lib/python3.6/site-packages/tensorflow/python/ops/init_ops.py:1251: calling VarianceScaling.__init__ (from tensorflow.python.ops.init_ops) with dtype is deprecated and will be removed in a future version.\n",
      "Instructions for updating:\n",
      "Call initializer instance with the dtype argument instead of passing it to the constructor\n"
     ]
    },
    {
     "name": "stdout",
     "output_type": "stream",
     "text": [
      "Model: \"model\"\n",
      "_________________________________________________________________\n",
      "Layer (type)                 Output Shape              Param #   \n",
      "=================================================================\n",
      "mels (InputLayer)            [(32, 1, 128, 344)]       0         \n",
      "_________________________________________________________________\n",
      "l1_conv (Conv2D)             (32, 32, 126, 342)        288       \n",
      "_________________________________________________________________\n",
      "l1_bn (BatchNormalization)   (32, 32, 126, 342)        96        \n",
      "_________________________________________________________________\n",
      "l1 (Activation)              (32, 32, 126, 342)        0         \n",
      "_________________________________________________________________\n",
      "l1_mp (MaxPooling2D)         (32, 32, 62, 170)         0         \n",
      "_________________________________________________________________\n",
      "l2_conv (Conv2D)             (32, 32, 58, 166)         25600     \n",
      "_________________________________________________________________\n",
      "l2_bn (BatchNormalization)   (32, 32, 58, 166)         96        \n",
      "_________________________________________________________________\n",
      "l2 (Activation)              (32, 32, 58, 166)         0         \n",
      "_________________________________________________________________\n",
      "l2_mp (MaxPooling2D)         (32, 32, 18, 54)          0         \n",
      "_________________________________________________________________\n",
      "l3_conv (Conv2D)             (32, 64, 14, 50)          51200     \n",
      "_________________________________________________________________\n",
      "l3_bn (BatchNormalization)   (32, 64, 14, 50)          192       \n",
      "_________________________________________________________________\n",
      "l3 (Activation)              (32, 64, 14, 50)          0         \n",
      "_________________________________________________________________\n",
      "l3_mp (MaxPooling2D)         (32, 64, 4, 16)           0         \n",
      "_________________________________________________________________\n",
      "flatten (Flatten)            (32, 4096)                0         \n",
      "_________________________________________________________________\n",
      "logits (Dense)               (32, 100)                 409700    \n",
      "_________________________________________________________________\n",
      "dense (Dense)                (32, 10)                  1010      \n",
      "=================================================================\n",
      "Total params: 488,182\n",
      "Trainable params: 487,926\n",
      "Non-trainable params: 256\n",
      "_________________________________________________________________\n",
      "Epoch 1/10\n",
      "\n",
      "Epoch 00001: val_binary_accuracy improved from -inf to 0.91024, saving model to /home/jul/data/freesound-audio-tagging-2019/custom_subsets/subset_1563962862/training/run_1563963843/models/model.01-0.91.h5\n",
      "1138/1138 - 65s - loss: 0.2446 - binary_accuracy: 0.9132 - val_loss: 0.2552 - val_binary_accuracy: 0.9102\n",
      "Epoch 2/10\n",
      "\n",
      "Epoch 00002: val_binary_accuracy improved from 0.91024 to 0.91741, saving model to /home/jul/data/freesound-audio-tagging-2019/custom_subsets/subset_1563962862/training/run_1563963843/models/model.02-0.92.h5\n",
      "1138/1138 - 53s - loss: 0.1906 - binary_accuracy: 0.9294 - val_loss: 0.2417 - val_binary_accuracy: 0.9174\n",
      "Epoch 3/10\n",
      "\n",
      "Epoch 00003: val_binary_accuracy did not improve from 0.91741\n",
      "1138/1138 - 57s - loss: 0.1745 - binary_accuracy: 0.9349 - val_loss: 0.2268 - val_binary_accuracy: 0.9135\n",
      "Epoch 4/10\n",
      "\n",
      "Epoch 00004: val_binary_accuracy did not improve from 0.91741\n",
      "1138/1138 - 60s - loss: 0.1628 - binary_accuracy: 0.9394 - val_loss: 0.2522 - val_binary_accuracy: 0.9127\n",
      "Epoch 5/10\n",
      "\n",
      "Epoch 00005: val_binary_accuracy improved from 0.91741 to 0.91983, saving model to /home/jul/data/freesound-audio-tagging-2019/custom_subsets/subset_1563962862/training/run_1563963843/models/model.05-0.92.h5\n",
      "1138/1138 - 58s - loss: 0.1539 - binary_accuracy: 0.9423 - val_loss: 0.2236 - val_binary_accuracy: 0.9198\n",
      "Epoch 6/10\n",
      "\n",
      "Epoch 00006: val_binary_accuracy improved from 0.91983 to 0.92811, saving model to /home/jul/data/freesound-audio-tagging-2019/custom_subsets/subset_1563962862/training/run_1563963843/models/model.06-0.93.h5\n",
      "1138/1138 - 61s - loss: 0.1464 - binary_accuracy: 0.9447 - val_loss: 0.2089 - val_binary_accuracy: 0.9281\n",
      "Epoch 7/10\n",
      "\n",
      "Epoch 00007: val_binary_accuracy did not improve from 0.92811\n",
      "1138/1138 - 55s - loss: 0.1386 - binary_accuracy: 0.9479 - val_loss: 0.2075 - val_binary_accuracy: 0.9229\n",
      "Epoch 8/10\n",
      "\n",
      "Epoch 00008: val_binary_accuracy did not improve from 0.92811\n",
      "1138/1138 - 63s - loss: 0.1315 - binary_accuracy: 0.9501 - val_loss: 0.2405 - val_binary_accuracy: 0.9159\n",
      "Epoch 9/10\n",
      "\n",
      "Epoch 00009: val_binary_accuracy did not improve from 0.92811\n",
      "1138/1138 - 61s - loss: 0.1264 - binary_accuracy: 0.9520 - val_loss: 0.2356 - val_binary_accuracy: 0.9186\n",
      "Epoch 10/10\n",
      "\n",
      "Epoch 00010: val_binary_accuracy did not improve from 0.92811\n",
      "1138/1138 - 62s - loss: 0.1199 - binary_accuracy: 0.9546 - val_loss: 0.2075 - val_binary_accuracy: 0.9276\n"
     ]
    }
   ],
   "source": [
    "train.process(training_config_path)"
   ]
  }
 ],
 "metadata": {
  "kernelspec": {
   "display_name": "Python 3",
   "language": "python",
   "name": "python3"
  },
  "language_info": {
   "codemirror_mode": {
    "name": "ipython",
    "version": 3
   },
   "file_extension": ".py",
   "mimetype": "text/x-python",
   "name": "python",
   "nbconvert_exporter": "python",
   "pygments_lexer": "ipython3",
   "version": "3.6.8"
  }
 },
 "nbformat": 4,
 "nbformat_minor": 2
}
